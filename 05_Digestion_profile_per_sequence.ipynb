{
 "cells": [
  {
   "cell_type": "code",
   "execution_count": 2,
   "id": "b1e1aee3-47d4-493a-9a59-6b5fc9585d44",
   "metadata": {},
   "outputs": [],
   "source": [
    "# | export\n",
    "import numpy as np\n",
    "import pandas as pd"
   ]
  },
  {
   "cell_type": "code",
   "execution_count": 70,
   "id": "b9004fb4-59b1-4cec-9a82-25c8e168068d",
   "metadata": {},
   "outputs": [],
   "source": [
    "#| default_exp sequence_digestion_matrix"
   ]
  },
  {
   "cell_type": "code",
   "execution_count": 64,
   "id": "9c1fd042-4529-4afe-b5c2-f4336c2ea639",
   "metadata": {},
   "outputs": [],
   "source": [
    "#| hide\n",
    "import nbdev; nbdev.nbdev_export()"
   ]
  },
  {
   "cell_type": "markdown",
   "id": "a3141f25-1b2d-415a-814f-f5b5020eeec1",
   "metadata": {},
   "source": [
    "# Digestion profile per unique sequence\n",
    "> functions to build the digestion profile per unique sequence"
   ]
  },
  {
   "cell_type": "code",
   "execution_count": 41,
   "id": "d13afc79-2508-4015-8ad9-1bb8b03f9d63",
   "metadata": {},
   "outputs": [],
   "source": [
    "#| export\n",
    "def count_sequences_from_mother(seqcell, mother_seq, n_sequences, mnase_array, population, aggregation_per_cell='mean'):\n",
    "    \"\"\"\n",
    "    Return digestion mother sequence.\n",
    "    columns: digestion from right to left\n",
    "    rows: digestion from left to right\n",
    "    \"\"\"\n",
    "    seqcell = seqcell[(seqcell['sort_population']==population)]\n",
    "    mnase_array.sort()\n",
    "    count_matrices_list = []\n",
    "\n",
    "    row_name = []\n",
    "    column_name = []\n",
    "    \n",
    "    for mnase in mnase_array:\n",
    "        count_m = np.zeros((n_sequences, n_sequences))\n",
    "        df = seqcell[(seqcell['units_mnase'] == mnase)]\n",
    "\n",
    "        for i in range(0, count_m.shape[0]):\n",
    "            seq = mother_seq[:-(i)] if i != 0 else mother_seq\n",
    "            row_name.append(seq)\n",
    "            for j in range(count_m.shape[1]):\n",
    "                seqj = seq[j:]\n",
    "                counts = df.loc[df['seq']==seqj, 'counts'].aggregate(aggregation_per_cell) #sum or average counts per cell\n",
    "                count_m[i, j] = counts\n",
    "                column_name.append(seqj)\n",
    "        count_m[np.isnan(count_m)] = 0\n",
    "        count_matrices_list.append(count_m)\n",
    "    count_matrix_stacked = np.stack(count_matrices_list) # \n",
    "    return count_matrix_stacked, row_name, column_name"
   ]
  },
  {
   "cell_type": "code",
   "execution_count": 50,
   "id": "412857e9-eac4-4920-88e3-59c45f318681",
   "metadata": {},
   "outputs": [],
   "source": [
    "mnase_df = pd.DataFrame([1,2,3], columns=['units_mnase'])\n",
    "mnase_df['counts'] = 1\n",
    "sequences_df = pd.DataFrame(['ABCDE','ABC', 'BCD', 'CDE', 'CD'], columns=['seq'])\n",
    "sequences_df['counts'] = 1\n",
    "df = pd.merge(sequences_df, mnase_df, on='counts')\n",
    "df['sort_population'] = 2\n",
    "\n",
    "m, rows, columns = count_sequences_from_mother(df, 'ABCDE', 3, mnase_df['units_mnase'].values, 2, aggregation_per_cell='mean' )\n",
    "\n",
    "# matrix:\n",
    "#    | ABCDE BCDE CDE |\n",
    "#    | ABCD  BCD  CD  | x mnases\n",
    "#    | ABC   BC   C   |\n",
    "\n",
    "assert (m[0,:,:] == np.array([[1, 0, 1], [0, 1, 1], [1, 0, 0]])).all()"
   ]
  },
  {
   "cell_type": "code",
   "execution_count": 66,
   "id": "4e366788-38fc-43cc-9878-e1a2ee4dc904",
   "metadata": {},
   "outputs": [],
   "source": [
    "#| export\n",
    "def digestion_profile_from_count_matrix(count_matrix_stacked, mnases, digestion_direction, mother_seq, sequence_as_index=False):\n",
    "    sum_counts = count_matrix_stacked.sum(axis=digestion_direction)\n",
    "\n",
    "    if digestion_direction == 2: # digestion by end\n",
    "        sequences_digested = [mother_seq] + [mother_seq[:-i] for i in range(1,sum_counts.shape[1])]\n",
    "        sequences_digested.sort(key=len, reverse=True)\n",
    "    elif digestion_direction == 1: # digestion by start\n",
    "        sequences_digested = [mother_seq[i:] for i in range(sum_counts.shape[1])]\n",
    "        sequences_digested.sort(key=len, reverse=True)\n",
    "    else:\n",
    "        raise ValueError('Index out of range, choose 1 for 5-3 digestion (start) or 2 for 3-5 digestion (end)')\n",
    "    mnase_seq_df = pd.DataFrame(sum_counts, columns=sequences_digested, index=mnases)\n",
    "    if sequence_as_index:\n",
    "        mnase_seq_df = mnase_seq_df.transpose()\n",
    "    return mnase_seq_df"
   ]
  },
  {
   "cell_type": "code",
   "execution_count": 68,
   "id": "df82ef43-c7d3-4190-b229-d6681a07a42e",
   "metadata": {},
   "outputs": [
    {
     "data": {
      "text/html": [
       "<div>\n",
       "<style scoped>\n",
       "    .dataframe tbody tr th:only-of-type {\n",
       "        vertical-align: middle;\n",
       "    }\n",
       "\n",
       "    .dataframe tbody tr th {\n",
       "        vertical-align: top;\n",
       "    }\n",
       "\n",
       "    .dataframe thead th {\n",
       "        text-align: right;\n",
       "    }\n",
       "</style>\n",
       "<table border=\"1\" class=\"dataframe\">\n",
       "  <thead>\n",
       "    <tr style=\"text-align: right;\">\n",
       "      <th></th>\n",
       "      <th>ABCDE</th>\n",
       "      <th>BCDE</th>\n",
       "      <th>CDE</th>\n",
       "    </tr>\n",
       "  </thead>\n",
       "  <tbody>\n",
       "    <tr>\n",
       "      <th>1</th>\n",
       "      <td>2.0</td>\n",
       "      <td>1.0</td>\n",
       "      <td>2.0</td>\n",
       "    </tr>\n",
       "    <tr>\n",
       "      <th>2</th>\n",
       "      <td>2.0</td>\n",
       "      <td>1.0</td>\n",
       "      <td>2.0</td>\n",
       "    </tr>\n",
       "    <tr>\n",
       "      <th>3</th>\n",
       "      <td>2.0</td>\n",
       "      <td>1.0</td>\n",
       "      <td>2.0</td>\n",
       "    </tr>\n",
       "  </tbody>\n",
       "</table>\n",
       "</div>"
      ],
      "text/plain": [
       "   ABCDE  BCDE  CDE\n",
       "1    2.0   1.0  2.0\n",
       "2    2.0   1.0  2.0\n",
       "3    2.0   1.0  2.0"
      ]
     },
     "execution_count": 68,
     "metadata": {},
     "output_type": "execute_result"
    }
   ],
   "source": [
    "dp"
   ]
  },
  {
   "cell_type": "code",
   "execution_count": 69,
   "id": "63fad172-5afc-446e-8579-d860da6bda38",
   "metadata": {},
   "outputs": [],
   "source": [
    "mother_seq = 'ABCDE'\n",
    "\n",
    "dp = digestion_profile_from_count_matrix(m, mnase_df['units_mnase'].values, 1, mother_seq)\n",
    "assert 1 == dp.loc[1, 'BCDE']\n",
    "\n",
    "dp = digestion_profile_from_count_matrix(m, mnase_df['units_mnase'].values, 2, mother_seq)\n",
    "assert 2 == dp.loc[1, 'ABCD']"
   ]
  },
  {
   "cell_type": "code",
   "execution_count": 65,
   "id": "4e661149-fb1a-4ab8-84be-1f260461c315",
   "metadata": {},
   "outputs": [
    {
     "data": {
      "text/html": [
       "<div>\n",
       "<style scoped>\n",
       "    .dataframe tbody tr th:only-of-type {\n",
       "        vertical-align: middle;\n",
       "    }\n",
       "\n",
       "    .dataframe tbody tr th {\n",
       "        vertical-align: top;\n",
       "    }\n",
       "\n",
       "    .dataframe thead th {\n",
       "        text-align: right;\n",
       "    }\n",
       "</style>\n",
       "<table border=\"1\" class=\"dataframe\">\n",
       "  <thead>\n",
       "    <tr style=\"text-align: right;\">\n",
       "      <th></th>\n",
       "      <th>1</th>\n",
       "      <th>2</th>\n",
       "      <th>3</th>\n",
       "    </tr>\n",
       "  </thead>\n",
       "  <tbody>\n",
       "    <tr>\n",
       "      <th>ABCDE</th>\n",
       "      <td>2.0</td>\n",
       "      <td>2.0</td>\n",
       "      <td>2.0</td>\n",
       "    </tr>\n",
       "    <tr>\n",
       "      <th>ABCD</th>\n",
       "      <td>2.0</td>\n",
       "      <td>2.0</td>\n",
       "      <td>2.0</td>\n",
       "    </tr>\n",
       "    <tr>\n",
       "      <th>ABC</th>\n",
       "      <td>1.0</td>\n",
       "      <td>1.0</td>\n",
       "      <td>1.0</td>\n",
       "    </tr>\n",
       "  </tbody>\n",
       "</table>\n",
       "</div>"
      ],
      "text/plain": [
       "         1    2    3\n",
       "ABCDE  2.0  2.0  2.0\n",
       "ABCD   2.0  2.0  2.0\n",
       "ABC    1.0  1.0  1.0"
      ]
     },
     "execution_count": 65,
     "metadata": {},
     "output_type": "execute_result"
    }
   ],
   "source": [
    "dp"
   ]
  },
  {
   "cell_type": "code",
   "execution_count": null,
   "id": "a8368778-f6c6-4ff9-9647-65fef5b6591f",
   "metadata": {},
   "outputs": [],
   "source": []
  }
 ],
 "metadata": {
  "kernelspec": {
   "display_name": "diffdig",
   "language": "python",
   "name": "diffdig"
  },
  "language_info": {
   "codemirror_mode": {
    "name": "ipython",
    "version": 3
   },
   "file_extension": ".py",
   "mimetype": "text/x-python",
   "name": "python",
   "nbconvert_exporter": "python",
   "pygments_lexer": "ipython3",
   "version": "3.7.13"
  }
 },
 "nbformat": 4,
 "nbformat_minor": 5
}
