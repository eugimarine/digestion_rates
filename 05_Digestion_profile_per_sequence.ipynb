{
 "cells": [
  {
   "cell_type": "code",
   "execution_count": 1,
   "id": "b1e1aee3-47d4-493a-9a59-6b5fc9585d44",
   "metadata": {},
   "outputs": [],
   "source": [
    "# | export\n",
    "import numpy as np\n",
    "import pandas as pd"
   ]
  },
  {
   "cell_type": "code",
   "execution_count": 2,
   "id": "b9004fb4-59b1-4cec-9a82-25c8e168068d",
   "metadata": {},
   "outputs": [],
   "source": [
    "#| default_exp sequences_preprocess"
   ]
  },
  {
   "cell_type": "code",
   "execution_count": 3,
   "id": "9c1fd042-4529-4afe-b5c2-f4336c2ea639",
   "metadata": {},
   "outputs": [],
   "source": [
    "#| hide\n",
    "import nbdev; nbdev.nbdev_export()"
   ]
  },
  {
   "cell_type": "markdown",
   "id": "a3141f25-1b2d-415a-814f-f5b5020eeec1",
   "metadata": {},
   "source": [
    "# Digestion profile per unique sequence\n",
    "> functions to build the digestion profile per unique sequence"
   ]
  },
  {
   "cell_type": "code",
   "execution_count": 4,
   "id": "d13afc79-2508-4015-8ad9-1bb8b03f9d63",
   "metadata": {},
   "outputs": [],
   "source": [
    "#| export\n",
    "def count_sequences_from_mother(seqcell, mother_seq, n_sequences, mnase_array, population, aggregation_per_cell='mean'):\n",
    "    \"\"\"\n",
    "    Return digestion mother sequence.\n",
    "    columns: digestion from right to left\n",
    "    rows: digestion from left to right\n",
    "    \"\"\"\n",
    "    seqcell = seqcell[(seqcell['sort_population']==population)]\n",
    "    mnase_array.sort()\n",
    "    count_matrices_list = []\n",
    "\n",
    "    row_name = []\n",
    "    column_name = []\n",
    "    \n",
    "    for mnase in mnase_array:\n",
    "        count_m = np.zeros((n_sequences, n_sequences))\n",
    "        df = seqcell[(seqcell['units_mnase'] == mnase)]\n",
    "\n",
    "        for i in range(0, count_m.shape[0]):\n",
    "            seq = mother_seq[:-(i)] if i != 0 else mother_seq\n",
    "            row_name.append(seq)\n",
    "            for j in range(count_m.shape[1]):\n",
    "                seqj = seq[j:]\n",
    "                counts = df.loc[df['seq']==seqj, 'counts'].aggregate(aggregation_per_cell) #sum or average counts per cell\n",
    "                count_m[i, j] = counts\n",
    "                column_name.append(seqj)\n",
    "        count_m[np.isnan(count_m)] = 0\n",
    "        count_matrices_list.append(count_m)\n",
    "    count_matrix_stacked = np.stack(count_matrices_list) # \n",
    "    return count_matrix_stacked, row_name, column_name"
   ]
  },
  {
   "cell_type": "code",
   "execution_count": 5,
   "id": "412857e9-eac4-4920-88e3-59c45f318681",
   "metadata": {},
   "outputs": [],
   "source": [
    "mnase_df = pd.DataFrame([1,2,3], columns=['units_mnase'])\n",
    "mnase_df['counts'] = 1\n",
    "sequences_df = pd.DataFrame(['ABCDE','ABC', 'BCD', 'CDE', 'CD'], columns=['seq'])\n",
    "sequences_df['counts'] = 1\n",
    "df = pd.merge(sequences_df, mnase_df, on='counts')\n",
    "df['sort_population'] = 2\n",
    "\n",
    "m, rows, columns = count_sequences_from_mother(df, 'ABCDE', 3, mnase_df['units_mnase'].values, 2, aggregation_per_cell='mean' )\n",
    "\n",
    "# matrix:\n",
    "#    | ABCDE BCDE CDE |\n",
    "#    | ABCD  BCD  CD  | x mnases\n",
    "#    | ABC   BC   C   |\n",
    "\n",
    "assert (m[0,:,:] == np.array([[1, 0, 1], [0, 1, 1], [1, 0, 0]])).all()"
   ]
  },
  {
   "cell_type": "code",
   "execution_count": 6,
   "id": "4e366788-38fc-43cc-9878-e1a2ee4dc904",
   "metadata": {},
   "outputs": [],
   "source": [
    "#| export\n",
    "def digestion_profile_from_count_matrix(count_matrix_stacked, mnases, digestion_direction, mother_seq, sequence_as_index=False):\n",
    "    \"\"\"\n",
    "    digestion dataframe of a sequence.\n",
    "    digestion_direction = 1: digestion by start (5'-->3') \n",
    "    digestion_direction = 2 : digestion by end (3' --> 5')\n",
    "    \"\"\"\n",
    "    sum_counts = count_matrix_stacked.sum(axis=digestion_direction)\n",
    "\n",
    "    if digestion_direction == 2: # digestion by end\n",
    "        sequences_digested = [mother_seq] + [mother_seq[:-i] for i in range(1,sum_counts.shape[1])]\n",
    "        sequences_digested.sort(key=len, reverse=True)\n",
    "    elif digestion_direction == 1: # digestion by start\n",
    "        sequences_digested = [mother_seq[i:] for i in range(sum_counts.shape[1])]\n",
    "        sequences_digested.sort(key=len, reverse=True)\n",
    "    else:\n",
    "        raise ValueError('Index out of range, choose 1 for 5-3 digestion (start) or 2 for 3-5 digestion (end)')\n",
    "    mnase_seq_df = pd.DataFrame(sum_counts, columns=sequences_digested, index=mnases)\n",
    "    if sequence_as_index:\n",
    "        mnase_seq_df = mnase_seq_df.transpose()\n",
    "    return mnase_seq_df"
   ]
  },
  {
   "cell_type": "code",
   "execution_count": 7,
   "id": "63fad172-5afc-446e-8579-d860da6bda38",
   "metadata": {},
   "outputs": [],
   "source": [
    "mother_seq = 'ABCDE'\n",
    "\n",
    "dp = digestion_profile_from_count_matrix(m, mnase_df['units_mnase'].values, 1, mother_seq)\n",
    "assert 1 == dp.loc[1, 'BCDE']\n",
    "\n",
    "dp = digestion_profile_from_count_matrix(m, mnase_df['units_mnase'].values, 2, mother_seq)\n",
    "assert 2 == dp.loc[1, 'ABCD']"
   ]
  },
  {
   "cell_type": "code",
   "execution_count": 8,
   "id": "4e661149-fb1a-4ab8-84be-1f260461c315",
   "metadata": {},
   "outputs": [
    {
     "data": {
      "text/html": [
       "<div>\n",
       "<style scoped>\n",
       "    .dataframe tbody tr th:only-of-type {\n",
       "        vertical-align: middle;\n",
       "    }\n",
       "\n",
       "    .dataframe tbody tr th {\n",
       "        vertical-align: top;\n",
       "    }\n",
       "\n",
       "    .dataframe thead th {\n",
       "        text-align: right;\n",
       "    }\n",
       "</style>\n",
       "<table border=\"1\" class=\"dataframe\">\n",
       "  <thead>\n",
       "    <tr style=\"text-align: right;\">\n",
       "      <th></th>\n",
       "      <th>ABCDE</th>\n",
       "      <th>ABCD</th>\n",
       "      <th>ABC</th>\n",
       "    </tr>\n",
       "  </thead>\n",
       "  <tbody>\n",
       "    <tr>\n",
       "      <th>1</th>\n",
       "      <td>2.0</td>\n",
       "      <td>2.0</td>\n",
       "      <td>1.0</td>\n",
       "    </tr>\n",
       "    <tr>\n",
       "      <th>2</th>\n",
       "      <td>2.0</td>\n",
       "      <td>2.0</td>\n",
       "      <td>1.0</td>\n",
       "    </tr>\n",
       "    <tr>\n",
       "      <th>3</th>\n",
       "      <td>2.0</td>\n",
       "      <td>2.0</td>\n",
       "      <td>1.0</td>\n",
       "    </tr>\n",
       "  </tbody>\n",
       "</table>\n",
       "</div>"
      ],
      "text/plain": [
       "   ABCDE  ABCD  ABC\n",
       "1    2.0   2.0  1.0\n",
       "2    2.0   2.0  1.0\n",
       "3    2.0   2.0  1.0"
      ]
     },
     "execution_count": 8,
     "metadata": {},
     "output_type": "execute_result"
    }
   ],
   "source": [
    "dp"
   ]
  },
  {
   "cell_type": "code",
   "execution_count": 9,
   "id": "ffa8bc4d-38cc-4723-a1ea-817ad6b86fdf",
   "metadata": {},
   "outputs": [
    {
     "data": {
      "text/plain": [
       "['ABCDE', 'ABCD', 'ABC', 'ABCDE', 'ABCD', 'ABC', 'ABCDE', 'ABCD', 'ABC']"
      ]
     },
     "execution_count": 9,
     "metadata": {},
     "output_type": "execute_result"
    }
   ],
   "source": [
    "rows\n"
   ]
  },
  {
   "cell_type": "code",
   "execution_count": 10,
   "id": "a8368778-f6c6-4ff9-9647-65fef5b6591f",
   "metadata": {},
   "outputs": [],
   "source": [
    "#| export\n",
    "def save_matrix(save_dir, m, rows, columns, mother_seq, p):\n",
    "    import os \n",
    "\n",
    "    if not os.path.exists(save_dir):\n",
    "        os.mkdir(save_dir)\n",
    "\n",
    "    file = save_dir + f'/m_{mother_seq}' + f'_p{p}.npy'\n",
    "\n",
    "    with open(file, 'wb') as f:\n",
    "        np.save(f, m)\n",
    "\n",
    "    file = save_dir + '/rows_name' + f'_{mother_seq[:5]}..{mother_seq[-5:]}' + f'_p{p}.txt'\n",
    "    rows = [r+'\\n' for r in rows]\n",
    "\n",
    "    with open(file, 'w') as f:\n",
    "        f.writelines(rows)\n",
    "\n",
    "    file = save_dir + '/columns_name' + f'_{mother_seq[:5]}..{mother_seq[-5:]}' + f'_p{p}.txt'\n",
    "    columns = [c+'\\n' for c in columns]\n",
    "\n",
    "    with open(file, 'w') as f:\n",
    "        f.writelines(columns)\n",
    "\n",
    "\n"
   ]
  },
  {
   "cell_type": "code",
   "execution_count": 11,
   "id": "bb48aa89-79c7-4786-82b1-9bd293dc61ec",
   "metadata": {},
   "outputs": [],
   "source": [
    "save_dir = './test_dir'\n",
    "mother_seq = 'ABCDE'\n",
    "p = 1\n",
    "\n",
    "save_matrix(save_dir, m, rows, columns, mother_seq, p)"
   ]
  },
  {
   "cell_type": "code",
   "execution_count": 12,
   "id": "c0d63091-8b92-43bc-a26d-398628cad953",
   "metadata": {},
   "outputs": [],
   "source": [
    "#| export\n",
    "\n",
    "def load_file(file):\n",
    "    m = np.load(file)\n",
    "\n",
    "    file = save_dir + '/columns_name' + f'_{mother_seq[:5]}..{mother_seq[-5:]}' + f'_p{p}.txt'\n",
    "\n",
    "    with open(file, 'r') as f:\n",
    "        cols = [line.rstrip('\\n') for line in f]\n",
    "\n",
    "    file = save_dir + '/rows_name' + f'_{mother_seq[:5]}..{mother_seq[-5:]}' + f'_p{p}.txt'\n",
    "\n",
    "    with open(file, 'r') as f:\n",
    "        rows = [line.rstrip('\\n') for line in f]\n",
    "    return m, rows, cols"
   ]
  },
  {
   "cell_type": "code",
   "execution_count": 13,
   "id": "bab8cd7d-d6f1-4d96-b801-3f743ddd5749",
   "metadata": {},
   "outputs": [],
   "source": [
    "\n",
    "file = save_dir + f'/m_{mother_seq}' + f'_p{p}.npy'\n",
    "m1, rows1, cols1 = load_file(file)\n",
    "\n",
    "assert (m == m1).all()"
   ]
  },
  {
   "cell_type": "code",
   "execution_count": null,
   "id": "6e0109bc-333c-4d3c-b34a-4648148d61dc",
   "metadata": {},
   "outputs": [],
   "source": []
  }
 ],
 "metadata": {
  "kernelspec": {
   "display_name": "diffdig",
   "language": "python",
   "name": "diffdig"
  },
  "language_info": {
   "codemirror_mode": {
    "name": "ipython",
    "version": 3
   },
   "file_extension": ".py",
   "mimetype": "text/x-python",
   "name": "python",
   "nbconvert_exporter": "python",
   "pygments_lexer": "ipython3",
   "version": "3.7.13"
  }
 },
 "nbformat": 4,
 "nbformat_minor": 5
}
