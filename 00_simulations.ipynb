{
 "cells": [
  {
   "cell_type": "markdown",
   "metadata": {},
   "source": [
    "# simulations\n",
    "\n",
    "> Simulate data"
   ]
  },
  {
   "cell_type": "code",
   "execution_count": null,
   "metadata": {},
   "outputs": [],
   "source": [
    "#| default_exp simulation"
   ]
  },
  {
   "cell_type": "code",
   "execution_count": 1,
   "metadata": {},
   "outputs": [],
   "source": [
    "#| hide\n",
    "import nbdev; nbdev.nbdev_export()"
   ]
  },
  {
   "cell_type": "code",
   "execution_count": null,
   "metadata": {},
   "outputs": [],
   "source": [
    "#| export"
   ]
  },
  {
   "cell_type": "code",
   "execution_count": null,
   "metadata": {},
   "outputs": [],
   "source": []
  },
  {
   "cell_type": "markdown",
   "metadata": {},
   "source": [
    "# Create Plates"
   ]
  },
  {
   "cell_type": "code",
   "execution_count": 12,
   "metadata": {},
   "outputs": [],
   "source": [
    "from Bio import SeqIO\n",
    "import numpy as np\n",
    "import gzip\n",
    "import random"
   ]
  },
  {
   "cell_type": "code",
   "execution_count": 15,
   "metadata": {},
   "outputs": [
    {
     "name": "stdout",
     "output_type": "stream",
     "text": [
      "200\n"
     ]
    }
   ],
   "source": [
    "fastq_file = \"../rrna_data/RPFv4D-TEST-03_R1.trimmed.fastq.gz\"\n",
    "with gzip.open(fastq_file, \"rt\") as handle:\n",
    "    records = list(SeqIO.parse(handle, \"fastq\"))\n",
    "\n",
    "print(len(records))"
   ]
  },
  {
   "cell_type": "code",
   "execution_count": 19,
   "metadata": {},
   "outputs": [
    {
     "name": "stdout",
     "output_type": "stream",
     "text": [
      "../../hpc/emarinelli/code/test_MPI/MPItest-RPMD1-01_R1.trimmed.fastq\n",
      "../../hpc/emarinelli/code/test_MPI/MPItest-RPMD1-02_R1.trimmed.fastq\n",
      "../../hpc/emarinelli/code/test_MPI/MPItest-RPMD1-03_R1.trimmed.fastq\n",
      "../../hpc/emarinelli/code/test_MPI/MPItest-RPMD1-04_R1.trimmed.fastq\n"
     ]
    }
   ],
   "source": [
    "n_samples_plate = 100\n",
    "n_plates = 4\n",
    "store_path = '../../hpc/emarinelli/code/test_MPI/'\n",
    "for i in range(1,n_plates+1):\n",
    "    plate_name = store_path + f'MPItest-RPMD1-0{i}_R1.trimmed.fastq'\n",
    "    print(plate_name)\n",
    "    sequences = random.choices(records, k=n_samples_plate)\n",
    "    with open(plate_name, \"wt\") as output_handle:\n",
    "        SeqIO.write(sequences, output_handle, \"fastq\")"
   ]
  },
  {
   "cell_type": "code",
   "execution_count": null,
   "metadata": {},
   "outputs": [],
   "source": []
  }
 ],
 "metadata": {
  "kernelspec": {
   "display_name": "digrates",
   "language": "python",
   "name": "digrates"
  },
  "language_info": {
   "codemirror_mode": {
    "name": "ipython",
    "version": 3
   },
   "file_extension": ".py",
   "mimetype": "text/x-python",
   "name": "python",
   "nbconvert_exporter": "python",
   "pygments_lexer": "ipython3",
   "version": "3.7.12"
  }
 },
 "nbformat": 4,
 "nbformat_minor": 4
}
