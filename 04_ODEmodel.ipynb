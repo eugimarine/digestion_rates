{
 "cells": [
  {
   "cell_type": "code",
   "execution_count": 1,
   "id": "2d751293-96ca-40c5-b389-9ffea806fe11",
   "metadata": {},
   "outputs": [],
   "source": [
    "# | export\n",
    "import numpy as np\n",
    "import matplotlib.pyplot as plt\n",
    "from scipy.integrate import odeint\n",
    "from lmfit import minimize, Parameters, Parameter, report_fit\n",
    "import pandas as pd"
   ]
  },
  {
   "cell_type": "markdown",
   "id": "e81a4514-8e38-4786-bf01-a86016f47ac6",
   "metadata": {},
   "source": [
    "# Utils Functions"
   ]
  },
  {
   "cell_type": "code",
   "execution_count": 2,
   "id": "452a7bc7-cce2-42a3-82e7-989b0e26a54b",
   "metadata": {},
   "outputs": [],
   "source": [
    "# | export\n",
    "def plot_fitted_odes(data_fitted, t_fit, measured, model_result, xlim=None, ylim=None, t_name='time'):\n",
    "    import seaborn as sns\n",
    "    import pandas as pd\n",
    "    time = measured[:,0]\n",
    "    x = measured[:,1:]\n",
    "    df_x = pd.DataFrame(x, columns=[f'x{i}' for i in range(x.shape[1])], index=pd.Series(time,  name=t_name)).reset_index().melt(id_vars=t_name, value_name='count', var_name='species')\n",
    "    \n",
    "    df_fit = pd.DataFrame(data=data_fitted, index=pd.Series(t_fit, name=t_name), columns=[f'fit_x{i}' for i in range(data_fitted.shape[1])]).reset_index()\n",
    "    df_fit_long = df_fit.melt(id_vars=t_name, var_name='fit_curve_name', value_name='count')\n",
    "    \n",
    "    ax = sns.lineplot(data = df_fit_long, x=t_name, y='count', hue='fit_curve_name')\n",
    "    ax = sns.scatterplot(data=df_x, x=t_name, y='count', hue='species')\n",
    "    if xlim != None:\n",
    "        ax.set_xlim(xlim)\n",
    "    if ylim != None:\n",
    "        ax.set_ylim(ylim)\n",
    "        \n",
    "        \n",
    "    report_fit(model_result)\n",
    "    plt.show()\n",
    "    return ax"
   ]
  },
  {
   "cell_type": "markdown",
   "id": "008ba611-0e16-47b3-8230-74436c6c0daa",
   "metadata": {
    "tags": []
   },
   "source": [
    "# ODE model n1\n",
    "\n",
    "models and fit functions for ODEs coming from a master equation. \n",
    "linear reaction where you just have forward rates. You can set creation rates (`kinp`) and distruction rates (`kout`) by initialize_params \n",
    "\n",
    "\n",
    "example:\n",
    "$$ \\xrightarrow{k_{inp}} \\text{AA..AA} \\xrightarrow{k_0} \\text{AA..A} \\xrightarrow{k_1} ... \\xrightarrow{k_{n-1}} \\text{AA} \\xrightarrow{k_{out}}$$"
   ]
  },
  {
   "cell_type": "code",
   "execution_count": 3,
   "id": "89bd3f7c-74c4-4867-babb-677ea95441d3",
   "metadata": {},
   "outputs": [],
   "source": [
    "#| default_exp ode"
   ]
  },
  {
   "cell_type": "code",
   "execution_count": 4,
   "id": "3f8581a9-9dea-4a23-a673-2b366c7a8178",
   "metadata": {},
   "outputs": [],
   "source": [
    "# | export\n",
    "def initialize_params(data, initial_guess='random', kin_guess=None, kout_guess=None, initial_guess_bounds=[0.0001, 1], vary_initial_conditions=False):\n",
    "    \"\"\" Inizialize parameters for ODEs. \n",
    "    If initial_guess is 'random' then a vector of random variables [0,1) is created\n",
    "    If kin_guess and kout_guess are None then the model doesn't include creation and distruction rate, provide a value otherwise\"\"\"\n",
    "    \n",
    "    initial_conditions = list(data[0,:])  \n",
    "    if initial_guess == 'random':\n",
    "        initial_guess = np.random.rand(len(initial_conditions) -1)\n",
    "    params = Parameters()\n",
    "\n",
    "    for nm,i in enumerate(initial_conditions):\n",
    "        params.add('x'+str(nm + 1)+'0', value=i, vary=vary_initial_conditions)\n",
    "\n",
    "    # creation rate   \n",
    "    if kin_guess == None:\n",
    "        params.add('k_inp', value=0, vary=False)\n",
    "    else:\n",
    "        params.add('k_inp', value=kin_guess)\n",
    "\n",
    "    # reaction rates \n",
    "    for nm, k in enumerate(initial_guess):\n",
    "        params.add('k'+str(nm), value=k, min=initial_guess_bounds[0], max=initial_guess_bounds[1])\n",
    "\n",
    "    # distruction rate   \n",
    "    if kout_guess == None:\n",
    "        params.add('k_out', value=0, vary=False)\n",
    "    else:\n",
    "        params.add('k_out', value=kout_guess)\n",
    "    return params"
   ]
  },
  {
   "cell_type": "code",
   "execution_count": 5,
   "id": "6b1dcae3-0db3-408c-be05-441464adce9b",
   "metadata": {},
   "outputs": [
    {
     "data": {
      "text/html": [
       "<table><tr><th> name </th><th> value </th><th> initial value </th><th> min </th><th> max </th><th> vary </th></tr><tr><td> x10 </td><td>  1.00000000 </td><td> 1 </td><td>        -inf </td><td>         inf </td><td> False </td></tr><tr><td> x20 </td><td>  1.00000000 </td><td> 1 </td><td>        -inf </td><td>         inf </td><td> False </td></tr><tr><td> x30 </td><td>  2.00000000 </td><td> 2 </td><td>        -inf </td><td>         inf </td><td> False </td></tr><tr><td> x40 </td><td>  3.00000000 </td><td> 3 </td><td>        -inf </td><td>         inf </td><td> False </td></tr><tr><td> k_inp </td><td>  0.30000000 </td><td> 0.3 </td><td>        -inf </td><td>         inf </td><td> True </td></tr><tr><td> k0 </td><td>  0.77014600 </td><td> 0.7701459951068893 </td><td>  1.0000e-04 </td><td>  1.00000000 </td><td> True </td></tr><tr><td> k1 </td><td>  0.57643164 </td><td> 0.576431636868473 </td><td>  1.0000e-04 </td><td>  1.00000000 </td><td> True </td></tr><tr><td> k2 </td><td>  0.88912226 </td><td> 0.8891222578036087 </td><td>  1.0000e-04 </td><td>  1.00000000 </td><td> True </td></tr><tr><td> k_out </td><td>  0.20000000 </td><td> 0.2 </td><td>        -inf </td><td>         inf </td><td> True </td></tr></table>"
      ],
      "text/plain": [
       "Parameters([('x10', <Parameter 'x10', value=1 (fixed), bounds=[-inf:inf]>), ('x20', <Parameter 'x20', value=1 (fixed), bounds=[-inf:inf]>), ('x30', <Parameter 'x30', value=2 (fixed), bounds=[-inf:inf]>), ('x40', <Parameter 'x40', value=3 (fixed), bounds=[-inf:inf]>), ('k_inp', <Parameter 'k_inp', value=0.3, bounds=[-inf:inf]>), ('k0', <Parameter 'k0', value=0.7701459951068893, bounds=[0.0001:1]>), ('k1', <Parameter 'k1', value=0.576431636868473, bounds=[0.0001:1]>), ('k2', <Parameter 'k2', value=0.8891222578036087, bounds=[0.0001:1]>), ('k_out', <Parameter 'k_out', value=0.2, bounds=[-inf:inf]>)])"
      ]
     },
     "execution_count": 5,
     "metadata": {},
     "output_type": "execute_result"
    }
   ],
   "source": [
    "x = np.array([[1,1,2,3], [1, 4,5,6]])\n",
    "initial_guess= [0.1, 0.2, 0.3]\n",
    "test_init_params = initialize_params(x, 'random', kin_guess=0.3, kout_guess=0.2)\n",
    "\n",
    "test_init_params"
   ]
  },
  {
   "cell_type": "code",
   "execution_count": 6,
   "id": "fe123fb1-28fb-4570-997d-71a9f23bd856",
   "metadata": {},
   "outputs": [],
   "source": [
    "x = np.array([[1,2,3], [4,5,6]])\n",
    "initial_guess= [0.1, 0.2, 0.3]\n",
    "test_init_params = initialize_params(x, initial_guess)\n",
    "assert test_init_params['k1'] == 0.2\n",
    "assert list(test_init_params.keys()) == ['x10', 'x20', 'x30', 'k_inp', 'k0', 'k1', 'k2', 'k_out' ]"
   ]
  },
  {
   "cell_type": "code",
   "execution_count": 7,
   "id": "984f4aea-5ce6-44ae-a791-3ee8d3032d19",
   "metadata": {},
   "outputs": [
    {
     "data": {
      "text/html": [
       "<table><tr><th> name </th><th> value </th><th> initial value </th><th> min </th><th> max </th><th> vary </th></tr><tr><td> x10 </td><td>  1.00000000 </td><td> 1 </td><td>        -inf </td><td>         inf </td><td> False </td></tr><tr><td> x20 </td><td>  2.00000000 </td><td> 2 </td><td>        -inf </td><td>         inf </td><td> False </td></tr><tr><td> x30 </td><td>  3.00000000 </td><td> 3 </td><td>        -inf </td><td>         inf </td><td> False </td></tr><tr><td> k_inp </td><td>  0.00000000 </td><td> 0 </td><td>        -inf </td><td>         inf </td><td> False </td></tr><tr><td> k0 </td><td>  0.10000000 </td><td> 0.1 </td><td>  1.0000e-04 </td><td>  1.00000000 </td><td> True </td></tr><tr><td> k1 </td><td>  0.20000000 </td><td> 0.2 </td><td>  1.0000e-04 </td><td>  1.00000000 </td><td> True </td></tr><tr><td> k2 </td><td>  0.30000000 </td><td> 0.3 </td><td>  1.0000e-04 </td><td>  1.00000000 </td><td> True </td></tr><tr><td> k_out </td><td>  0.00000000 </td><td> 0 </td><td>        -inf </td><td>         inf </td><td> False </td></tr></table>"
      ],
      "text/plain": [
       "Parameters([('x10', <Parameter 'x10', value=1 (fixed), bounds=[-inf:inf]>), ('x20', <Parameter 'x20', value=2 (fixed), bounds=[-inf:inf]>), ('x30', <Parameter 'x30', value=3 (fixed), bounds=[-inf:inf]>), ('k_inp', <Parameter 'k_inp', value=0 (fixed), bounds=[-inf:inf]>), ('k0', <Parameter 'k0', value=0.1, bounds=[0.0001:1]>), ('k1', <Parameter 'k1', value=0.2, bounds=[0.0001:1]>), ('k2', <Parameter 'k2', value=0.3, bounds=[0.0001:1]>), ('k_out', <Parameter 'k_out', value=0 (fixed), bounds=[-inf:inf]>)])"
      ]
     },
     "execution_count": 7,
     "metadata": {},
     "output_type": "execute_result"
    }
   ],
   "source": [
    "test_init_params"
   ]
  },
  {
   "cell_type": "code",
   "execution_count": 8,
   "id": "17a8cd29-f1b0-499b-9960-34abfbde1f89",
   "metadata": {},
   "outputs": [],
   "source": [
    "# | export \n",
    "def k_matrix(params):\n",
    "    params_k_list = [k for k in params.keys() if 'k' in k]\n",
    "    m = len(params_k_list)\n",
    "    n = m - 1\n",
    "\n",
    "    k = np.eye(n,m) - np.eye(n,m, k=1)\n",
    "    k_values = [params[k] for k in params_k_list]\n",
    "    return k_values * k"
   ]
  },
  {
   "cell_type": "code",
   "execution_count": 9,
   "id": "edd62c96-5497-41a5-8320-bb2f685d8cde",
   "metadata": {},
   "outputs": [],
   "source": [
    "test_params = {'a':1/3,'kin':0,'k1':1,'k2':20, 'k3':300, 'kout':1}\n",
    "out = np.array([[0,-1, 0, 0, 0], \n",
    "                [0,1,-20, 0, 0], \n",
    "                [0,0, 20, -300, 0], \n",
    "                [0, 0, 0, 300, -1]])\n",
    "assert (k_matrix(test_params) == out).all()"
   ]
  },
  {
   "cell_type": "code",
   "execution_count": 10,
   "id": "ff769e7c-024e-4d19-b444-ed238f5de49f",
   "metadata": {},
   "outputs": [
    {
     "data": {
      "text/plain": [
       "array([[   0.,   -1.,    0.,    0.,    0.],\n",
       "       [   0.,    1.,  -20.,    0.,    0.],\n",
       "       [   0.,    0.,   20., -300.,    0.],\n",
       "       [   0.,    0.,    0.,  300.,   -1.]])"
      ]
     },
     "execution_count": 10,
     "metadata": {},
     "output_type": "execute_result"
    }
   ],
   "source": [
    "k_matrix(test_params)"
   ]
  },
  {
   "cell_type": "code",
   "execution_count": 11,
   "id": "b68335ed-908b-4ab3-a304-87db733ce433",
   "metadata": {},
   "outputs": [],
   "source": [
    "# | export \n",
    "def _master_equations(y, t, paras):\n",
    "    \"\"\"\n",
    "    Your system of differential equations\n",
    "    # f0 = -k0 * x1\n",
    "    # f1 = k0 * x1 - k1 * x2\n",
    "    # ...\n",
    "    # fn-1 = kn-2 * x2 - kn-1 * x3\n",
    "    # fn = kn-1 * xn-1\n",
    "    fn need to be solve using odeint\n",
    "    \"\"\"\n",
    "    y = np.insert(y, 0, 1)\n",
    "\n",
    "    rates = k_matrix(paras)\n",
    "    # print('rates shape', rates.shape)\n",
    "    # print('y shape', y)\n",
    "    dydt = rates.dot(y)\n",
    "    # print('out shape', dydt.shape)\n",
    "    return dydt"
   ]
  },
  {
   "cell_type": "code",
   "execution_count": 12,
   "id": "641e64b5-f0de-4c91-8d43-afb1ed45dcea",
   "metadata": {},
   "outputs": [],
   "source": [
    "test_params = {'a':1/3, 'k_in':1, 'k1':4,'k2':6, 'k3':9, 'k_out':9}\n",
    "M = np.array([[1, -4, 0, 0, 0], \n",
    "              [0, 4, -6, 0, 0], \n",
    "              [0, 0, 6, -9, 0], \n",
    "              [0, 0, 0, 9, -9]])\n",
    "xs = np.array([ 1/4, 1/6, 1/9, 1/3])\n",
    "out = np.array([0, 0, 0, -2])\n",
    "_master_equations(xs, 0, test_params)\n",
    "# \n",
    "\n",
    "assert (_master_equations(xs, 0, test_params) == out.T).all()"
   ]
  },
  {
   "cell_type": "code",
   "execution_count": 13,
   "id": "e699b739-56eb-494f-acda-e6e7b2128114",
   "metadata": {},
   "outputs": [],
   "source": [
    "# | export \n",
    "def ode_solver(t, x0, paras):\n",
    "    \"\"\"\n",
    "    Solution to the ODE x'(t) = f(t,x,k) with initial condition x(0) = x0\n",
    "    \"\"\"\n",
    "    x = odeint(_master_equations, x0, t, args=(paras,))\n",
    "    return x"
   ]
  },
  {
   "cell_type": "code",
   "execution_count": 14,
   "id": "a9186604-1904-45a0-a7e6-56620d1c4f14",
   "metadata": {},
   "outputs": [],
   "source": [
    "# | export \n",
    "def plot_fitted(t_fit, data_fitted, measured, model_result):\n",
    "    t_measured = measured[:,0]\n",
    "    x_measured =  measured[:,1:]\n",
    "    # plot fitted data\n",
    "    plt.plot(t_fit, data_fitted, '-', linewidth=2, color='red', label='fitted data')\n",
    "    for i, xi_measured in enumerate(x_measured.T):\n",
    "        plt.scatter( t_measured, xi_measured, marker='o', color='b', label= 'X' + str(i))\n",
    "    plt.legend()\n",
    "    plt.xlim([0, np.max(t_measured)])\n",
    "    plt.ylim([0, 1.1 * np.max(data_fitted)])\n",
    "    # display fitted statistics\n",
    "    report_fit(model_result)\n",
    "\n",
    "    plt.show()"
   ]
  },
  {
   "cell_type": "code",
   "execution_count": 15,
   "id": "80f623ba-59cb-48ed-ac8f-19eb8f5d1a8b",
   "metadata": {},
   "outputs": [],
   "source": [
    "# | export \n",
    "def residual(paras, t, data, eps=None):\n",
    "\n",
    "    \"\"\"\n",
    "    compute the residual between actual data and fitted data\n",
    "    \"\"\"\n",
    "    x0 = [paras[x].value for x in paras.keys() if 'x' in x]\n",
    "    model = ode_solver(t, x0, paras)\n",
    "    if eps is None:\n",
    "        return ((model - data)).ravel()\n",
    "    return ((model-data) / eps).ravel()"
   ]
  },
  {
   "cell_type": "code",
   "execution_count": 16,
   "id": "7ff28053-6e9e-47c5-abdf-08fc9a9cc76b",
   "metadata": {},
   "outputs": [],
   "source": [
    "# | export \n",
    "def fit_ode(residual_fn, params, time, x, method='leastsq', eps=None):\n",
    "    kws = {'eps':eps}\n",
    "    return minimize(residual_fn, params, args=(time, x), kws=kws, method=method)"
   ]
  },
  {
   "cell_type": "markdown",
   "id": "572f6b5b-1070-4a26-bbcf-2b19bfdb8f89",
   "metadata": {},
   "source": [
    "## Simulate Process no k_in k_out\n",
    "\n",
    "$$\\text{AA..AA} \\xrightarrow{k_0} \\text{AA..A} \\xrightarrow{k_1} ... \\xrightarrow{k_{n-1}} \\text{AA}$$"
   ]
  },
  {
   "cell_type": "code",
   "execution_count": 17,
   "id": "51b28aca-c405-432e-bc88-22ef02132e01",
   "metadata": {},
   "outputs": [],
   "source": [
    "# Simulation using kinp and kout parameters fixed to zero\n",
    "# fixed error\n",
    "time_limit = 10\n",
    "num_chain_reaction = 4\n",
    "\n",
    "k0 = 0.3\n",
    "k1 = 0.8\n",
    "k2 = 0.8\n",
    "\n",
    "x = np.zeros((time_limit, num_chain_reaction))\n",
    "x[0,:] = np.array([1000, 0, 0 , 0])\n",
    "\n",
    "noise_dev = np.random.gamma(3, 0.8, (time_limit, 4))\n",
    "scale = 0.1\n",
    "\n",
    "\n",
    "for t in range(1, time_limit):\n",
    "    proc1, proc2, proc3 = np.random.normal(scale= scale), np.random.normal(scale= scale), np.random.normal(scale= scale)\n",
    "    x[t, 0] = x[t-1, 0] - (x[t-1, 0] * (k0 + proc1))\n",
    "    x[t, 1] = x[t-1, 1] + ((x[t-1, 0] * (k0 + proc1)) - (x[t-1, 1] * (k1 + proc2)))\n",
    "    x[t, 2] = x[t-1, 2] + ((x[t-1, 1] * (k1 + proc2)) - (x[t-1, 2] * (k2 + proc3)))\n",
    "    x[t, 3] = x[t-1, 3] + (x[t-1, 2] * (k2 + proc3))\n",
    "x = np.abs(x)"
   ]
  },
  {
   "cell_type": "code",
   "execution_count": 18,
   "id": "0ef01fa1-14ce-40db-943b-882cddea4c3b",
   "metadata": {
    "tags": []
   },
   "outputs": [],
   "source": [
    "# Fit\n",
    "\n",
    "# set parameters including bounds; you can also fix parameters (use vary=False)\n",
    "params = initialize_params(x)\n",
    "eps= None\n",
    "time = np.arange(time_limit)\n",
    "\n",
    "# fit model\n",
    "result = minimize(residual, params, args=(time, x),kws=eps, method='leastsq')  # leastsq nelder\n",
    "# check results of the fit\n",
    "t_fit = np.linspace(0., 10., 100)\n",
    "data_fitted = ode_solver(t_fit, x[0,:], result.params)\n",
    "\n",
    "\n"
   ]
  },
  {
   "cell_type": "code",
   "execution_count": 19,
   "id": "fbdded43-9327-4161-96cd-f1c20b0fecbe",
   "metadata": {},
   "outputs": [
    {
     "data": {
      "text/html": [
       "<table><tr><th> name </th><th> value </th><th> initial value </th><th> min </th><th> max </th><th> vary </th></tr><tr><td> x10 </td><td>  1000.00000 </td><td> 1000.0 </td><td>        -inf </td><td>         inf </td><td> False </td></tr><tr><td> x20 </td><td>  0.00000000 </td><td> 0.0 </td><td>        -inf </td><td>         inf </td><td> False </td></tr><tr><td> x30 </td><td>  0.00000000 </td><td> 0.0 </td><td>        -inf </td><td>         inf </td><td> False </td></tr><tr><td> x40 </td><td>  0.00000000 </td><td> 0.0 </td><td>        -inf </td><td>         inf </td><td> False </td></tr><tr><td> k_inp </td><td>  0.00000000 </td><td> 0 </td><td>        -inf </td><td>         inf </td><td> False </td></tr><tr><td> k0 </td><td>  0.45159166 </td><td> 0.45159165568096127 </td><td>  1.0000e-04 </td><td>  1.00000000 </td><td> True </td></tr><tr><td> k1 </td><td>  0.19124773 </td><td> 0.19124772690655567 </td><td>  1.0000e-04 </td><td>  1.00000000 </td><td> True </td></tr><tr><td> k2 </td><td>  0.93037351 </td><td> 0.9303735092657754 </td><td>  1.0000e-04 </td><td>  1.00000000 </td><td> True </td></tr><tr><td> k_out </td><td>  0.00000000 </td><td> 0 </td><td>        -inf </td><td>         inf </td><td> False </td></tr></table>"
      ],
      "text/plain": [
       "Parameters([('x10', <Parameter 'x10', value=1000.0 (fixed), bounds=[-inf:inf]>), ('x20', <Parameter 'x20', value=0.0 (fixed), bounds=[-inf:inf]>), ('x30', <Parameter 'x30', value=0.0 (fixed), bounds=[-inf:inf]>), ('x40', <Parameter 'x40', value=0.0 (fixed), bounds=[-inf:inf]>), ('k_inp', <Parameter 'k_inp', value=0 (fixed), bounds=[-inf:inf]>), ('k0', <Parameter 'k0', value=0.45159165568096127, bounds=[0.0001:1]>), ('k1', <Parameter 'k1', value=0.19124772690655567, bounds=[0.0001:1]>), ('k2', <Parameter 'k2', value=0.9303735092657754, bounds=[0.0001:1]>), ('k_out', <Parameter 'k_out', value=0 (fixed), bounds=[-inf:inf]>)])"
      ]
     },
     "execution_count": 19,
     "metadata": {},
     "output_type": "execute_result"
    }
   ],
   "source": [
    "params"
   ]
  },
  {
   "cell_type": "code",
   "execution_count": 20,
   "id": "1904a0b5-0bb1-45a9-a28d-a9a96e1689a4",
   "metadata": {},
   "outputs": [
    {
     "data": {
      "text/plain": [
       "array([[1000.        ,    0.        ,    0.        ,    0.        ],\n",
       "       [ 731.2951243 ,  268.7048757 ,    0.        ,    0.        ],\n",
       "       [ 476.64694941,  286.0307744 ,  237.32227619,    0.        ],\n",
       "       [ 329.12342657,  199.02425747,  259.89757651,  211.95473945],\n",
       "       [ 234.41068836,  134.42296867,  195.58437764,  435.58196533],\n",
       "       [ 159.04532461,  128.90248449,   91.03515723,  621.01703366],\n",
       "       [ 114.90137227,   68.62683677,  111.53634556,  704.9354454 ],\n",
       "       [  62.73139215,   55.50155817,   99.7876936 ,  781.97935608],\n",
       "       [  42.63228439,   38.79144049,   65.25864931,  853.3176258 ],\n",
       "       [  26.66791785,   24.54303027,   50.05754159,  898.73151029]])"
      ]
     },
     "execution_count": 20,
     "metadata": {},
     "output_type": "execute_result"
    }
   ],
   "source": [
    "x\n"
   ]
  },
  {
   "cell_type": "code",
   "execution_count": 21,
   "id": "7b1a8dff-ad40-4a6a-b0ec-be11e35ba81f",
   "metadata": {},
   "outputs": [
    {
     "name": "stderr",
     "output_type": "stream",
     "text": [
      "/home/e.marinelli_cbs-niob.local/.conda/envs/diffdig/lib/python3.7/site-packages/lmfit/printfuncs.py:177: RuntimeWarning: invalid value encountered in double_scalars\n",
      "  spercent = f'({abs(par.stderr/par.value):.2%})'\n"
     ]
    },
    {
     "name": "stdout",
     "output_type": "stream",
     "text": [
      "[[Fit Statistics]]\n",
      "    # fitting method   = leastsq\n",
      "    # function evals   = 39\n",
      "    # data points      = 40\n",
      "    # variables        = 3\n",
      "    chi-square         = 53301.2433\n",
      "    reduced chi-square = 1440.57414\n",
      "    Akaike info crit   = 293.793419\n",
      "    Bayesian info crit = 298.860058\n",
      "[[Variables]]\n",
      "    x10:    1000 (fixed)\n",
      "    x20:    0 (fixed)\n",
      "    x30:    0 (fixed)\n",
      "    x40:    0 (fixed)\n",
      "    k_inp:  0 (fixed)\n",
      "    k0:     0.38183811 +/- 0.01486957 (3.89%) (init = 0.4515917)\n",
      "    k1:     0.79796273 +/- 0.06163706 (7.72%) (init = 0.1912477)\n",
      "    k2:     0.78641225 +/- 0.06399689 (8.14%) (init = 0.9303735)\n",
      "    k_out:  0 (fixed)\n",
      "[[Correlations]] (unreported correlations are < 0.100)\n",
      "    C(k1, k2) = -0.358\n",
      "    C(k0, k1) = -0.270\n",
      "    C(k0, k2) = -0.253\n"
     ]
    },
    {
     "data": {
      "image/png": "[encoded data removed]",
      "text/plain": [
       "<Figure size 842.4x595.44 with 1 Axes>"
      ]
     },
     "metadata": {},
     "output_type": "display_data"
    },
    {
     "data": {
      "text/plain": [
       "<AxesSubplot:xlabel='time', ylabel='count'>"
      ]
     },
     "execution_count": 21,
     "metadata": {},
     "output_type": "execute_result"
    }
   ],
   "source": [
    "import seaborn as sns\n",
    "sns.set(rc={'figure.figsize':(11.7,8.27)})\n",
    "measured = np.concatenate((time.reshape(-1,1), x), axis=1)\n",
    "plot_fitted_odes(data_fitted, t_fit, measured, result)"
   ]
  },
  {
   "cell_type": "markdown",
   "id": "9ad62261-9e4a-4375-861d-ca4289db66a2",
   "metadata": {},
   "source": [
    "## Simulate Process with k_in k_out"
   ]
  },
  {
   "cell_type": "code",
   "execution_count": 22,
   "id": "851f4046-dd7d-4bfe-8694-2898589437ad",
   "metadata": {},
   "outputs": [],
   "source": [
    "# Simulation using kinp and kout parameters fixed to zero\n",
    "# fixed error\n",
    "time_limit = 40\n",
    "num_chain_reaction = 4\n",
    "\n",
    "k_inp = 0.5\n",
    "k0 = 0.3\n",
    "k1 = 0.1\n",
    "k2 = 0.6\n",
    "k_out = 0.8\n",
    "\n",
    "x = np.zeros((time_limit, num_chain_reaction))\n",
    "x[0,:] = np.array([0, 0, 0 , 0])\n",
    "\n",
    "noise_dev = np.random.gamma(3, 0.8, (time_limit, 4))\n",
    "scale = 0.1\n",
    "\n",
    "\n",
    "for t in range(1, time_limit):\n",
    "    proc0, proc1, proc2, proc3, procout = np.random.randn(5) * scale\n",
    "    x[t, 0] = np.max(x[t-1, 0] - (x[t-1, 0] * (k0 + proc1)) + (k_inp + proc0), 0)\n",
    "    x[t, 1] = x[t-1, 1] + ((x[t-1, 0] * (k0 + proc1)) - (x[t-1, 1] * (k1 + proc2)))\n",
    "    x[t, 2] = x[t-1, 2] + ((x[t-1, 1] * (k1 + proc2)) - (x[t-1, 2] * (k2 + proc3)))\n",
    "    x[t, 3] = x[t-1, 3] + (x[t-1, 2] * (k2 + proc3)) - (x[t-1, 3] * (k_out + procout))\n",
    "x = np.abs(x)"
   ]
  },
  {
   "cell_type": "code",
   "execution_count": 23,
   "id": "edff230c-08ed-40f6-a5e6-c2a278a57b5c",
   "metadata": {},
   "outputs": [
    {
     "data": {
      "text/html": [
       "<div>\n",
       "<style scoped>\n",
       "    .dataframe tbody tr th:only-of-type {\n",
       "        vertical-align: middle;\n",
       "    }\n",
       "\n",
       "    .dataframe tbody tr th {\n",
       "        vertical-align: top;\n",
       "    }\n",
       "\n",
       "    .dataframe thead th {\n",
       "        text-align: right;\n",
       "    }\n",
       "</style>\n",
       "<table border=\"1\" class=\"dataframe\">\n",
       "  <thead>\n",
       "    <tr style=\"text-align: right;\">\n",
       "      <th></th>\n",
       "      <th>t</th>\n",
       "      <th>x0</th>\n",
       "      <th>x1</th>\n",
       "      <th>x2</th>\n",
       "      <th>x3</th>\n",
       "    </tr>\n",
       "  </thead>\n",
       "  <tbody>\n",
       "    <tr>\n",
       "      <th>0</th>\n",
       "      <td>0.0</td>\n",
       "      <td>0.000000</td>\n",
       "      <td>0.000000</td>\n",
       "      <td>0.000000</td>\n",
       "      <td>0.000000</td>\n",
       "    </tr>\n",
       "    <tr>\n",
       "      <th>1</th>\n",
       "      <td>1.0</td>\n",
       "      <td>0.361933</td>\n",
       "      <td>0.000000</td>\n",
       "      <td>0.000000</td>\n",
       "      <td>0.000000</td>\n",
       "    </tr>\n",
       "    <tr>\n",
       "      <th>2</th>\n",
       "      <td>2.0</td>\n",
       "      <td>0.900933</td>\n",
       "      <td>0.052942</td>\n",
       "      <td>0.000000</td>\n",
       "      <td>0.000000</td>\n",
       "    </tr>\n",
       "    <tr>\n",
       "      <th>3</th>\n",
       "      <td>3.0</td>\n",
       "      <td>1.150503</td>\n",
       "      <td>0.258562</td>\n",
       "      <td>0.005880</td>\n",
       "      <td>0.000000</td>\n",
       "    </tr>\n",
       "    <tr>\n",
       "      <th>4</th>\n",
       "      <td>4.0</td>\n",
       "      <td>1.450129</td>\n",
       "      <td>0.452096</td>\n",
       "      <td>0.007369</td>\n",
       "      <td>0.004150</td>\n",
       "    </tr>\n",
       "    <tr>\n",
       "      <th>5</th>\n",
       "      <td>5.0</td>\n",
       "      <td>1.579261</td>\n",
       "      <td>0.818011</td>\n",
       "      <td>0.009886</td>\n",
       "      <td>0.003062</td>\n",
       "    </tr>\n",
       "    <tr>\n",
       "      <th>6</th>\n",
       "      <td>6.0</td>\n",
       "      <td>1.639351</td>\n",
       "      <td>1.101086</td>\n",
       "      <td>0.191035</td>\n",
       "      <td>0.006887</td>\n",
       "    </tr>\n",
       "    <tr>\n",
       "      <th>7</th>\n",
       "      <td>7.0</td>\n",
       "      <td>1.398290</td>\n",
       "      <td>1.498996</td>\n",
       "      <td>0.404420</td>\n",
       "      <td>0.110469</td>\n",
       "    </tr>\n",
       "    <tr>\n",
       "      <th>8</th>\n",
       "      <td>8.0</td>\n",
       "      <td>1.541398</td>\n",
       "      <td>1.517028</td>\n",
       "      <td>0.441546</td>\n",
       "      <td>0.284943</td>\n",
       "    </tr>\n",
       "    <tr>\n",
       "      <th>9</th>\n",
       "      <td>9.0</td>\n",
       "      <td>1.351384</td>\n",
       "      <td>2.150460</td>\n",
       "      <td>0.119531</td>\n",
       "      <td>0.366578</td>\n",
       "    </tr>\n",
       "    <tr>\n",
       "      <th>10</th>\n",
       "      <td>10.0</td>\n",
       "      <td>1.390175</td>\n",
       "      <td>2.359921</td>\n",
       "      <td>0.279067</td>\n",
       "      <td>0.121998</td>\n",
       "    </tr>\n",
       "    <tr>\n",
       "      <th>11</th>\n",
       "      <td>11.0</td>\n",
       "      <td>1.607787</td>\n",
       "      <td>2.540232</td>\n",
       "      <td>0.142088</td>\n",
       "      <td>0.254417</td>\n",
       "    </tr>\n",
       "    <tr>\n",
       "      <th>12</th>\n",
       "      <td>12.0</td>\n",
       "      <td>1.599801</td>\n",
       "      <td>2.605885</td>\n",
       "      <td>0.275186</td>\n",
       "      <td>0.144742</td>\n",
       "    </tr>\n",
       "    <tr>\n",
       "      <th>13</th>\n",
       "      <td>13.0</td>\n",
       "      <td>1.865394</td>\n",
       "      <td>2.898063</td>\n",
       "      <td>0.007697</td>\n",
       "      <td>0.182029</td>\n",
       "    </tr>\n",
       "    <tr>\n",
       "      <th>14</th>\n",
       "      <td>14.0</td>\n",
       "      <td>1.758544</td>\n",
       "      <td>3.599994</td>\n",
       "      <td>0.059187</td>\n",
       "      <td>0.061440</td>\n",
       "    </tr>\n",
       "    <tr>\n",
       "      <th>15</th>\n",
       "      <td>15.0</td>\n",
       "      <td>2.043721</td>\n",
       "      <td>3.087784</td>\n",
       "      <td>0.769199</td>\n",
       "      <td>0.020434</td>\n",
       "    </tr>\n",
       "    <tr>\n",
       "      <th>16</th>\n",
       "      <td>16.0</td>\n",
       "      <td>1.992425</td>\n",
       "      <td>3.463646</td>\n",
       "      <td>0.524575</td>\n",
       "      <td>0.421327</td>\n",
       "    </tr>\n",
       "    <tr>\n",
       "      <th>17</th>\n",
       "      <td>17.0</td>\n",
       "      <td>2.151539</td>\n",
       "      <td>3.576395</td>\n",
       "      <td>0.371808</td>\n",
       "      <td>0.312783</td>\n",
       "    </tr>\n",
       "    <tr>\n",
       "      <th>18</th>\n",
       "      <td>18.0</td>\n",
       "      <td>2.044206</td>\n",
       "      <td>3.763500</td>\n",
       "      <td>0.703679</td>\n",
       "      <td>0.241303</td>\n",
       "    </tr>\n",
       "    <tr>\n",
       "      <th>19</th>\n",
       "      <td>19.0</td>\n",
       "      <td>1.861187</td>\n",
       "      <td>3.676358</td>\n",
       "      <td>0.997319</td>\n",
       "      <td>0.449820</td>\n",
       "    </tr>\n",
       "    <tr>\n",
       "      <th>20</th>\n",
       "      <td>20.0</td>\n",
       "      <td>1.907793</td>\n",
       "      <td>4.572111</td>\n",
       "      <td>0.080614</td>\n",
       "      <td>0.751977</td>\n",
       "    </tr>\n",
       "    <tr>\n",
       "      <th>21</th>\n",
       "      <td>21.0</td>\n",
       "      <td>2.038553</td>\n",
       "      <td>4.631991</td>\n",
       "      <td>0.489827</td>\n",
       "      <td>0.015054</td>\n",
       "    </tr>\n",
       "    <tr>\n",
       "      <th>22</th>\n",
       "      <td>22.0</td>\n",
       "      <td>2.250114</td>\n",
       "      <td>4.738385</td>\n",
       "      <td>0.518346</td>\n",
       "      <td>0.207892</td>\n",
       "    </tr>\n",
       "    <tr>\n",
       "      <th>23</th>\n",
       "      <td>23.0</td>\n",
       "      <td>2.270261</td>\n",
       "      <td>4.964541</td>\n",
       "      <td>0.404916</td>\n",
       "      <td>0.441232</td>\n",
       "    </tr>\n",
       "    <tr>\n",
       "      <th>24</th>\n",
       "      <td>24.0</td>\n",
       "      <td>1.759153</td>\n",
       "      <td>5.275956</td>\n",
       "      <td>0.767324</td>\n",
       "      <td>0.288076</td>\n",
       "    </tr>\n",
       "    <tr>\n",
       "      <th>25</th>\n",
       "      <td>25.0</td>\n",
       "      <td>1.706392</td>\n",
       "      <td>4.651201</td>\n",
       "      <td>1.491960</td>\n",
       "      <td>0.492778</td>\n",
       "    </tr>\n",
       "    <tr>\n",
       "      <th>26</th>\n",
       "      <td>26.0</td>\n",
       "      <td>2.152542</td>\n",
       "      <td>4.987192</td>\n",
       "      <td>0.566777</td>\n",
       "      <td>0.774586</td>\n",
       "    </tr>\n",
       "    <tr>\n",
       "      <th>27</th>\n",
       "      <td>27.0</td>\n",
       "      <td>1.825617</td>\n",
       "      <td>5.556398</td>\n",
       "      <td>0.471074</td>\n",
       "      <td>0.430083</td>\n",
       "    </tr>\n",
       "    <tr>\n",
       "      <th>28</th>\n",
       "      <td>28.0</td>\n",
       "      <td>1.772013</td>\n",
       "      <td>6.370982</td>\n",
       "      <td>0.020155</td>\n",
       "      <td>0.444329</td>\n",
       "    </tr>\n",
       "    <tr>\n",
       "      <th>29</th>\n",
       "      <td>29.0</td>\n",
       "      <td>1.872892</td>\n",
       "      <td>5.607615</td>\n",
       "      <td>1.337320</td>\n",
       "      <td>0.088553</td>\n",
       "    </tr>\n",
       "    <tr>\n",
       "      <th>30</th>\n",
       "      <td>30.0</td>\n",
       "      <td>1.607756</td>\n",
       "      <td>5.123238</td>\n",
       "      <td>1.510374</td>\n",
       "      <td>0.967088</td>\n",
       "    </tr>\n",
       "    <tr>\n",
       "      <th>31</th>\n",
       "      <td>31.0</td>\n",
       "      <td>1.669356</td>\n",
       "      <td>5.661202</td>\n",
       "      <td>0.711771</td>\n",
       "      <td>0.938696</td>\n",
       "    </tr>\n",
       "    <tr>\n",
       "      <th>32</th>\n",
       "      <td>32.0</td>\n",
       "      <td>1.534638</td>\n",
       "      <td>6.126933</td>\n",
       "      <td>0.551938</td>\n",
       "      <td>0.553995</td>\n",
       "    </tr>\n",
       "    <tr>\n",
       "      <th>33</th>\n",
       "      <td>33.0</td>\n",
       "      <td>1.566128</td>\n",
       "      <td>5.756955</td>\n",
       "      <td>1.148200</td>\n",
       "      <td>0.303672</td>\n",
       "    </tr>\n",
       "    <tr>\n",
       "      <th>34</th>\n",
       "      <td>34.0</td>\n",
       "      <td>1.872232</td>\n",
       "      <td>5.149020</td>\n",
       "      <td>1.175084</td>\n",
       "      <td>0.821180</td>\n",
       "    </tr>\n",
       "    <tr>\n",
       "      <th>35</th>\n",
       "      <td>35.0</td>\n",
       "      <td>1.817575</td>\n",
       "      <td>5.430269</td>\n",
       "      <td>0.724415</td>\n",
       "      <td>0.913786</td>\n",
       "    </tr>\n",
       "    <tr>\n",
       "      <th>36</th>\n",
       "      <td>36.0</td>\n",
       "      <td>1.665208</td>\n",
       "      <td>5.512685</td>\n",
       "      <td>0.728347</td>\n",
       "      <td>0.576680</td>\n",
       "    </tr>\n",
       "    <tr>\n",
       "      <th>37</th>\n",
       "      <td>37.0</td>\n",
       "      <td>1.330703</td>\n",
       "      <td>4.987357</td>\n",
       "      <td>1.471745</td>\n",
       "      <td>0.473932</td>\n",
       "    </tr>\n",
       "    <tr>\n",
       "      <th>38</th>\n",
       "      <td>38.0</td>\n",
       "      <td>1.394746</td>\n",
       "      <td>5.227708</td>\n",
       "      <td>0.574626</td>\n",
       "      <td>1.162727</td>\n",
       "    </tr>\n",
       "    <tr>\n",
       "      <th>39</th>\n",
       "      <td>39.0</td>\n",
       "      <td>1.643276</td>\n",
       "      <td>5.895490</td>\n",
       "      <td>0.038200</td>\n",
       "      <td>0.528557</td>\n",
       "    </tr>\n",
       "  </tbody>\n",
       "</table>\n",
       "</div>"
      ],
      "text/plain": [
       "       t        x0        x1        x2        x3\n",
       "0    0.0  0.000000  0.000000  0.000000  0.000000\n",
       "1    1.0  0.361933  0.000000  0.000000  0.000000\n",
       "2    2.0  0.900933  0.052942  0.000000  0.000000\n",
       "3    3.0  1.150503  0.258562  0.005880  0.000000\n",
       "4    4.0  1.450129  0.452096  0.007369  0.004150\n",
       "5    5.0  1.579261  0.818011  0.009886  0.003062\n",
       "6    6.0  1.639351  1.101086  0.191035  0.006887\n",
       "7    7.0  1.398290  1.498996  0.404420  0.110469\n",
       "8    8.0  1.541398  1.517028  0.441546  0.284943\n",
       "9    9.0  1.351384  2.150460  0.119531  0.366578\n",
       "10  10.0  1.390175  2.359921  0.279067  0.121998\n",
       "11  11.0  1.607787  2.540232  0.142088  0.254417\n",
       "12  12.0  1.599801  2.605885  0.275186  0.144742\n",
       "13  13.0  1.865394  2.898063  0.007697  0.182029\n",
       "14  14.0  1.758544  3.599994  0.059187  0.061440\n",
       "15  15.0  2.043721  3.087784  0.769199  0.020434\n",
       "16  16.0  1.992425  3.463646  0.524575  0.421327\n",
       "17  17.0  2.151539  3.576395  0.371808  0.312783\n",
       "18  18.0  2.044206  3.763500  0.703679  0.241303\n",
       "19  19.0  1.861187  3.676358  0.997319  0.449820\n",
       "20  20.0  1.907793  4.572111  0.080614  0.751977\n",
       "21  21.0  2.038553  4.631991  0.489827  0.015054\n",
       "22  22.0  2.250114  4.738385  0.518346  0.207892\n",
       "23  23.0  2.270261  4.964541  0.404916  0.441232\n",
       "24  24.0  1.759153  5.275956  0.767324  0.288076\n",
       "25  25.0  1.706392  4.651201  1.491960  0.492778\n",
       "26  26.0  2.152542  4.987192  0.566777  0.774586\n",
       "27  27.0  1.825617  5.556398  0.471074  0.430083\n",
       "28  28.0  1.772013  6.370982  0.020155  0.444329\n",
       "29  29.0  1.872892  5.607615  1.337320  0.088553\n",
       "30  30.0  1.607756  5.123238  1.510374  0.967088\n",
       "31  31.0  1.669356  5.661202  0.711771  0.938696\n",
       "32  32.0  1.534638  6.126933  0.551938  0.553995\n",
       "33  33.0  1.566128  5.756955  1.148200  0.303672\n",
       "34  34.0  1.872232  5.149020  1.175084  0.821180\n",
       "35  35.0  1.817575  5.430269  0.724415  0.913786\n",
       "36  36.0  1.665208  5.512685  0.728347  0.576680\n",
       "37  37.0  1.330703  4.987357  1.471745  0.473932\n",
       "38  38.0  1.394746  5.227708  0.574626  1.162727\n",
       "39  39.0  1.643276  5.895490  0.038200  0.528557"
      ]
     },
     "execution_count": 23,
     "metadata": {},
     "output_type": "execute_result"
    }
   ],
   "source": [
    "df = pd.DataFrame(np.c_[np.arange(time_limit),x], columns=['t', 'x0', 'x1', 'x2', 'x3'])\n",
    "df\n",
    "\n"
   ]
  },
  {
   "cell_type": "code",
   "execution_count": 24,
   "id": "9b5379ad-bb5d-4037-9328-2edadab74919",
   "metadata": {},
   "outputs": [
    {
     "data": {
      "image/png": "[encoded data removed]",
      "text/plain": [
       "<Figure size 842.4x595.44 with 1 Axes>"
      ]
     },
     "metadata": {},
     "output_type": "display_data"
    }
   ],
   "source": [
    "import pandas as pd\n",
    "\n",
    "\n",
    "f,ax = plt.subplots(1)\n",
    "for x_ax,y_ax,c in zip(['t'] * (len(df.columns)-1),df.columns[1:],['r','g','b', 'k']):\n",
    "    df.plot(kind='scatter', \n",
    "            x=x_ax, \n",
    "            y=y_ax, \n",
    "            color=c, \n",
    "            ax=ax, \n",
    "            label='{} vs {}'.format(x_ax,y_ax)\n",
    "            )"
   ]
  },
  {
   "cell_type": "code",
   "execution_count": 25,
   "id": "e75cf667-e72b-4728-b178-e585c947bc2f",
   "metadata": {},
   "outputs": [
    {
     "data": {
      "text/html": [
       "<table><tr><th> name </th><th> value </th><th> initial value </th><th> min </th><th> max </th><th> vary </th></tr><tr><td> x10 </td><td>  1000.00000 </td><td> 1000.0 </td><td>        -inf </td><td>         inf </td><td> False </td></tr><tr><td> x20 </td><td>  0.00000000 </td><td> 0.0 </td><td>        -inf </td><td>         inf </td><td> False </td></tr><tr><td> x30 </td><td>  0.00000000 </td><td> 0.0 </td><td>        -inf </td><td>         inf </td><td> False </td></tr><tr><td> x40 </td><td>  0.00000000 </td><td> 0.0 </td><td>        -inf </td><td>         inf </td><td> False </td></tr><tr><td> k_inp </td><td>  0.00000000 </td><td> 0 </td><td>        -inf </td><td>         inf </td><td> False </td></tr><tr><td> k0 </td><td>  0.45159166 </td><td> 0.45159165568096127 </td><td>  1.0000e-04 </td><td>  1.00000000 </td><td> True </td></tr><tr><td> k1 </td><td>  0.19124773 </td><td> 0.19124772690655567 </td><td>  1.0000e-04 </td><td>  1.00000000 </td><td> True </td></tr><tr><td> k2 </td><td>  0.93037351 </td><td> 0.9303735092657754 </td><td>  1.0000e-04 </td><td>  1.00000000 </td><td> True </td></tr><tr><td> k_out </td><td>  0.00000000 </td><td> 0 </td><td>        -inf </td><td>         inf </td><td> False </td></tr></table>"
      ],
      "text/plain": [
       "Parameters([('x10', <Parameter 'x10', value=1000.0 (fixed), bounds=[-inf:inf]>), ('x20', <Parameter 'x20', value=0.0 (fixed), bounds=[-inf:inf]>), ('x30', <Parameter 'x30', value=0.0 (fixed), bounds=[-inf:inf]>), ('x40', <Parameter 'x40', value=0.0 (fixed), bounds=[-inf:inf]>), ('k_inp', <Parameter 'k_inp', value=0 (fixed), bounds=[-inf:inf]>), ('k0', <Parameter 'k0', value=0.45159165568096127, bounds=[0.0001:1]>), ('k1', <Parameter 'k1', value=0.19124772690655567, bounds=[0.0001:1]>), ('k2', <Parameter 'k2', value=0.9303735092657754, bounds=[0.0001:1]>), ('k_out', <Parameter 'k_out', value=0 (fixed), bounds=[-inf:inf]>)])"
      ]
     },
     "execution_count": 25,
     "metadata": {},
     "output_type": "execute_result"
    }
   ],
   "source": [
    "params"
   ]
  },
  {
   "cell_type": "code",
   "execution_count": 26,
   "id": "d02bee41-6c35-4dcb-9cdf-6537c70ee205",
   "metadata": {
    "tags": []
   },
   "outputs": [],
   "source": [
    "# Fit\n",
    "\n",
    "# set parameters including bounds; you can also fix parameters (use vary=False)\n",
    "params = initialize_params(x, kin_guess=0.5, kout_guess=0.5)\n",
    "eps= None\n",
    "time = np.arange(time_limit)\n",
    "\n",
    "# fit model\n",
    "result = minimize(residual, params, args=(time, x),kws=eps, method='leastsq')  # leastsq nelder\n",
    "# check results of the fit\n",
    "t_fit = np.linspace(0., 40., 1000)\n",
    "data_fitted = ode_solver(t_fit, x[0,:], result.params)\n",
    "\n",
    "\n"
   ]
  },
  {
   "cell_type": "code",
   "execution_count": 27,
   "id": "348aab4f-ce16-4186-b295-66bd254aef32",
   "metadata": {},
   "outputs": [
    {
     "name": "stderr",
     "output_type": "stream",
     "text": [
      "/home/e.marinelli_cbs-niob.local/.conda/envs/diffdig/lib/python3.7/site-packages/lmfit/printfuncs.py:177: RuntimeWarning: invalid value encountered in double_scalars\n",
      "  spercent = f'({abs(par.stderr/par.value):.2%})'\n"
     ]
    },
    {
     "name": "stdout",
     "output_type": "stream",
     "text": [
      "[[Fit Statistics]]\n",
      "    # fitting method   = leastsq\n",
      "    # function evals   = 45\n",
      "    # data points      = 160\n",
      "    # variables        = 5\n",
      "    chi-square         = 13.3254595\n",
      "    reduced chi-square = 0.08597071\n",
      "    Akaike info crit   = -387.679578\n",
      "    Bayesian info crit = -372.303709\n",
      "[[Variables]]\n",
      "    x10:    0 (fixed)\n",
      "    x20:    0 (fixed)\n",
      "    x30:    0 (fixed)\n",
      "    x40:    0 (fixed)\n",
      "    k_inp:  0.47007056 +/- 0.01500855 (3.19%) (init = 0.5)\n",
      "    k0:     0.25709588 +/- 0.00976043 (3.80%) (init = 0.2084555)\n",
      "    k1:     0.07440385 +/- 0.00412389 (5.54%) (init = 0.6495825)\n",
      "    k2:     0.49693199 +/- 0.05111573 (10.29%) (init = 0.6741837)\n",
      "    k_out:  0.65363170 +/- 0.08585121 (13.13%) (init = 0.5)\n",
      "[[Correlations]] (unreported correlations are < 0.100)\n",
      "    C(k_inp, k1)    = 0.945\n",
      "    C(k0, k1)       = 0.680\n",
      "    C(k_inp, k0)    = 0.663\n",
      "    C(k_inp, k2)    = 0.565\n",
      "    C(k1, k2)       = 0.560\n",
      "    C(k_inp, k_out) = 0.479\n",
      "    C(k1, k_out)    = 0.475\n",
      "    C(k0, k2)       = 0.411\n",
      "    C(k0, k_out)    = 0.350\n",
      "    C(k2, k_out)    = 0.311\n"
     ]
    },
    {
     "data": {
      "image/png": "[encoded data removed]",
      "text/plain": [
       "<Figure size 842.4x595.44 with 1 Axes>"
      ]
     },
     "metadata": {},
     "output_type": "display_data"
    },
    {
     "data": {
      "text/plain": [
       "<AxesSubplot:xlabel='time', ylabel='count'>"
      ]
     },
     "execution_count": 27,
     "metadata": {},
     "output_type": "execute_result"
    }
   ],
   "source": [
    "import seaborn as sns\n",
    "sns.set(rc={'figure.figsize':(11.7,8.27)})\n",
    "measured = np.concatenate((time.reshape(-1,1), x), axis=1)\n",
    "plot_fitted_odes(data_fitted, t_fit, measured, result)"
   ]
  },
  {
   "cell_type": "code",
   "execution_count": null,
   "id": "047b825a-f6d9-497a-b25b-911a428d5df5",
   "metadata": {},
   "outputs": [],
   "source": []
  },
  {
   "cell_type": "code",
   "execution_count": 23,
   "id": "fd5a8055-233b-4e09-8361-5317faa48beb",
   "metadata": {},
   "outputs": [],
   "source": [
    "# | export "
   ]
  },
  {
   "cell_type": "code",
   "execution_count": 24,
   "id": "21c9025c-210f-4927-97ab-09a03609d9a2",
   "metadata": {},
   "outputs": [],
   "source": [
    "# | export "
   ]
  },
  {
   "cell_type": "code",
   "execution_count": null,
   "id": "f361b741-92dc-4af1-b219-a9827c4df984",
   "metadata": {},
   "outputs": [],
   "source": []
  },
  {
   "cell_type": "code",
   "execution_count": null,
   "id": "725f0995-7548-47f8-b58f-17227af5a73d",
   "metadata": {},
   "outputs": [],
   "source": []
  },
  {
   "cell_type": "code",
   "execution_count": null,
   "id": "5809efa0-9e8d-4d93-bdbc-10aafba7088d",
   "metadata": {},
   "outputs": [],
   "source": []
  },
  {
   "cell_type": "code",
   "execution_count": 28,
   "id": "bfb49a09-d0c8-4d98-93e5-a53d9c661dde",
   "metadata": {},
   "outputs": [],
   "source": [
    "#| hide\n",
    "import nbdev; nbdev.nbdev_export()"
   ]
  },
  {
   "cell_type": "code",
   "execution_count": null,
   "id": "3a7a56e6-0215-45cf-83cd-b9905344a0e9",
   "metadata": {},
   "outputs": [],
   "source": []
  },
  {
   "cell_type": "code",
   "execution_count": null,
   "id": "40146389-fee0-40de-9a36-3b410cc25ddd",
   "metadata": {},
   "outputs": [],
   "source": []
  },
  {
   "cell_type": "code",
   "execution_count": null,
   "id": "92d0fa14-4401-4c53-b7e7-69c224f8d386",
   "metadata": {},
   "outputs": [],
   "source": []
  }
 ],
 "metadata": {
  "kernelspec": {
   "display_name": "diffdig",
   "language": "python",
   "name": "diffdig"
  },
  "language_info": {
   "codemirror_mode": {
    "name": "ipython",
    "version": 3
   },
   "file_extension": ".py",
   "mimetype": "text/x-python",
   "name": "python",
   "nbconvert_exporter": "python",
   "pygments_lexer": "ipython3",
   "version": "3.7.13"
  }
 },
 "nbformat": 4,
 "nbformat_minor": 5
}
