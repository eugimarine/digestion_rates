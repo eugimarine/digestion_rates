{
 "cells": [
  {
   "cell_type": "markdown",
   "metadata": {},
   "source": [
    "# FastQ and SequencesCells class\n",
    "\n",
    "> Read and create count table of cells"
   ]
  },
  {
   "cell_type": "code",
   "execution_count": null,
   "metadata": {},
   "outputs": [],
   "source": [
    "#| hide\n",
    "from nbdev import nbdev_export\n",
    "nbdev_export()"
   ]
  },
  {
   "cell_type": "code",
   "execution_count": null,
   "metadata": {},
   "outputs": [],
   "source": [
    "#| default_exp preprocess"
   ]
  },
  {
   "cell_type": "code",
   "execution_count": null,
   "metadata": {},
   "outputs": [],
   "source": [
    "#| export\n",
    "import numpy as np\n",
    "import pandas as pd\n",
    "import gzip\n",
    "from Bio import SeqIO"
   ]
  },
  {
   "cell_type": "markdown",
   "metadata": {},
   "source": [
    "# SeqCell class\n",
    "\n",
    "\n",
    "Run with parse_file(fastq.gz) method and return a SequencesCells() class containing the dataframe:\n",
    "\n",
    "|       | **plate** | **seq**   | **cb** | **counts** |\n",
    "|-------|-----------|-----------|--------|------------|\n",
    "| **0** |  RPMD1-01 |    CTCTGA |  GTNCB |          1 |\n",
    "| **1** |  RPMD1-01 |    CTCTGA |  NTGCB |          2 |\n",
    "| **2** |  RPMD1-01 | CTCTGAGGG |  GTNCB |          1 |\n",
    "\n",
    "that can be transformed in the wide dataframe\n",
    "\n",
    "|                | **NTGCB** | **GTNCB** | **cell3** |\n",
    "|----------------|-----------|-----------|-----------|\n",
    "| **CTCTGA**     | 2         | 1         | ..        |\n",
    "| **CTCTGAGGG**  | 0         | 1         | ..        |\n",
    "| **sequence_3** | ..        | ..        | ..        |\n",
    "\n",
    "On the SequencesCells object then you can join a new plate using the method `.join_plate()`\n"
   ]
  },
  {
   "cell_type": "markdown",
   "metadata": {},
   "source": [
    "`RPFv4D-TEST-03_R1.trimmed.fastq.gz` contains 100 sequences all repeated 2 times"
   ]
  },
  {
   "cell_type": "code",
   "execution_count": null,
   "metadata": {},
   "outputs": [],
   "source": [
    "#| export\n",
    "\n",
    "def extract_umi_cb(nm):\n",
    "    nm = nm.split(' ')[0]\n",
    "    cb, umi = nm.split('_')[1:3]\n",
    "    return umi, cb"
   ]
  },
  {
   "cell_type": "code",
   "execution_count": null,
   "metadata": {},
   "outputs": [],
   "source": [
    "nm = '@VH00225:8:AAAKNTKHV:1:1101:62862:1057_NTGCB_GGCAUMI 1:N:0:GTTTCG'\n",
    "umi, cb = extract_umi_cb(nm)\n",
    "\n",
    "assert cb == 'NTGCB'\n",
    "assert umi == 'GGCAUMI'"
   ]
  },
  {
   "cell_type": "code",
   "execution_count": null,
   "metadata": {},
   "outputs": [],
   "source": [
    "#| export\n",
    "\n",
    "def parse_plate(path, plate_name):\n",
    "    ids = []\n",
    "    with gzip.open(path, \"rt\") as handle:\n",
    "        for record in SeqIO.parse(handle, \"fastq\"):\n",
    "            umi, cb = extract_umi_cb(str(record.id))\n",
    "            # cb = plate_name + '_' + cb \n",
    "            sequence = str(record.seq)\n",
    "            id_item = ( plate_name, sequence, cb, umi)\n",
    "            ids.append(id_item)\n",
    "    df = pd.DataFrame(ids, columns=['plate', 'seq', 'cb','umi'])\n",
    "    dedup_df = df.drop_duplicates().reset_index(drop=True)\n",
    "    count_df = dedup_df.groupby(['plate','seq', 'cb']).count()\n",
    "    seqcell_long = count_df.reset_index().rename(columns={'umi':'counts'})\n",
    "    return seqcell_long\n"
   ]
  },
  {
   "cell_type": "code",
   "execution_count": null,
   "metadata": {},
   "outputs": [
    {
     "name": "stdout",
     "output_type": "stream",
     "text": [
      "['plate', 'seq', 'cb', 'counts']\n"
     ]
    }
   ],
   "source": [
    "seqcell_table = parse_plate('./test-RPMD1-01_R1.trimmed.fastq.gz', 'RPMD1-01')\n",
    "print(list(seqcell_table.columns))\n",
    "assert list(seqcell_table.columns) == ['plate', 'seq', 'cb', 'counts']\n",
    "assert list(seqcell_table['counts']) == [1,2,1]"
   ]
  },
  {
   "cell_type": "code",
   "execution_count": null,
   "metadata": {},
   "outputs": [
    {
     "data": {
      "text/html": [
       "<div>\n",
       "<style scoped>\n",
       "    .dataframe tbody tr th:only-of-type {\n",
       "        vertical-align: middle;\n",
       "    }\n",
       "\n",
       "    .dataframe tbody tr th {\n",
       "        vertical-align: top;\n",
       "    }\n",
       "\n",
       "    .dataframe thead th {\n",
       "        text-align: right;\n",
       "    }\n",
       "</style>\n",
       "<table border=\"1\" class=\"dataframe\">\n",
       "  <thead>\n",
       "    <tr style=\"text-align: right;\">\n",
       "      <th></th>\n",
       "      <th>plate</th>\n",
       "      <th>seq</th>\n",
       "      <th>cb</th>\n",
       "      <th>counts</th>\n",
       "    </tr>\n",
       "  </thead>\n",
       "  <tbody>\n",
       "    <tr>\n",
       "      <th>0</th>\n",
       "      <td>RPMD1-01</td>\n",
       "      <td>CTCTGA</td>\n",
       "      <td>GTNCB</td>\n",
       "      <td>1</td>\n",
       "    </tr>\n",
       "    <tr>\n",
       "      <th>1</th>\n",
       "      <td>RPMD1-01</td>\n",
       "      <td>CTCTGA</td>\n",
       "      <td>NTGCB</td>\n",
       "      <td>2</td>\n",
       "    </tr>\n",
       "    <tr>\n",
       "      <th>2</th>\n",
       "      <td>RPMD1-01</td>\n",
       "      <td>CTCTGAGGG</td>\n",
       "      <td>GTNCB</td>\n",
       "      <td>1</td>\n",
       "    </tr>\n",
       "  </tbody>\n",
       "</table>\n",
       "</div>"
      ],
      "text/plain": [
       "      plate        seq     cb  counts\n",
       "0  RPMD1-01     CTCTGA  GTNCB       1\n",
       "1  RPMD1-01     CTCTGA  NTGCB       2\n",
       "2  RPMD1-01  CTCTGAGGG  GTNCB       1"
      ]
     },
     "execution_count": null,
     "metadata": {},
     "output_type": "execute_result"
    }
   ],
   "source": [
    "seqcell_table"
   ]
  },
  {
   "cell_type": "code",
   "execution_count": null,
   "metadata": {},
   "outputs": [],
   "source": [
    "#| export\n",
    "class SequencesCells():\n",
    "    def __init__(self, df=None):\n",
    "        self.table = df\n",
    "        \n",
    "    def join_plate(self, sequences_cells):\n",
    "        addtable = sequences_cells.table\n",
    "        addplates = addtable['plate'].unique()\n",
    "        inplates = self.table['plate'].unique()\n",
    "        plates_to_add = [p for p in addplates if p not in inplates]\n",
    "        if len(plates_to_add) == 0:\n",
    "            return self\n",
    "        n_plates = len(list(inplates)+list(plates_to_add))\n",
    "        other = addtable.set_index('plate').loc[plates_to_add, :].reset_index()\n",
    "        cat_table = pd.concat([self.table, other])\n",
    "        seq_grouped = cat_table.groupby('seq')\n",
    "        self.table =seq_grouped.filter(lambda x: len(x['plate'].unique()) == n_plates).reset_index(drop=True)\n",
    "        return self\n",
    "    \n",
    "    def select_plate(self, plate):\n",
    "        df = self.set_index('plate').loc[plate, :].reset_index()\n",
    "        return SequencesCells(df)\n",
    "    \n",
    "    def parse_file(self, fastq_file, plate_name=None):\n",
    "        if plate_name is None:\n",
    "            plate_name = '-'.join(fastq_file.split('_')[0].split('-')[1:])\n",
    "        self.table = parse_plate(fastq_file, plate_name)\n",
    "        return self\n",
    "    \n",
    "    def save_table(self, path, compression='gzip'):\n",
    "        self.table.to_csv(path, compression=compression)\n",
    "        \n",
    "    def read_csv(self, path, compression='gzip'):\n",
    "        self.table = pd.read_csv(path, index_col=0, compression=compression)\n",
    "        return self"
   ]
  },
  {
   "cell_type": "code",
   "execution_count": null,
   "metadata": {},
   "outputs": [],
   "source": []
  },
  {
   "cell_type": "code",
   "execution_count": null,
   "metadata": {},
   "outputs": [
    {
     "data": {
      "text/html": [
       "<div>\n",
       "<style scoped>\n",
       "    .dataframe tbody tr th:only-of-type {\n",
       "        vertical-align: middle;\n",
       "    }\n",
       "\n",
       "    .dataframe tbody tr th {\n",
       "        vertical-align: top;\n",
       "    }\n",
       "\n",
       "    .dataframe thead th {\n",
       "        text-align: right;\n",
       "    }\n",
       "</style>\n",
       "<table border=\"1\" class=\"dataframe\">\n",
       "  <thead>\n",
       "    <tr style=\"text-align: right;\">\n",
       "      <th></th>\n",
       "      <th>plate</th>\n",
       "      <th>seq</th>\n",
       "      <th>cb</th>\n",
       "      <th>counts</th>\n",
       "    </tr>\n",
       "  </thead>\n",
       "  <tbody>\n",
       "    <tr>\n",
       "      <th>0</th>\n",
       "      <td>RPMD1-02</td>\n",
       "      <td>CTCTGA</td>\n",
       "      <td>GTNCB</td>\n",
       "      <td>1</td>\n",
       "    </tr>\n",
       "    <tr>\n",
       "      <th>1</th>\n",
       "      <td>RPMD1-02</td>\n",
       "      <td>CTCTGA</td>\n",
       "      <td>NTGCB</td>\n",
       "      <td>2</td>\n",
       "    </tr>\n",
       "  </tbody>\n",
       "</table>\n",
       "</div>"
      ],
      "text/plain": [
       "      plate     seq     cb  counts\n",
       "0  RPMD1-02  CTCTGA  GTNCB       1\n",
       "1  RPMD1-02  CTCTGA  NTGCB       2"
      ]
     },
     "execution_count": null,
     "metadata": {},
     "output_type": "execute_result"
    }
   ],
   "source": [
    "fastq = SequencesCells()\n",
    "plate2 = fastq.parse_file('./test-RPMD1-02_R1.trimmed.fastq.gz')\n",
    "plate2.table"
   ]
  },
  {
   "cell_type": "code",
   "execution_count": null,
   "metadata": {},
   "outputs": [
    {
     "data": {
      "text/html": [
       "<div>\n",
       "<style scoped>\n",
       "    .dataframe tbody tr th:only-of-type {\n",
       "        vertical-align: middle;\n",
       "    }\n",
       "\n",
       "    .dataframe tbody tr th {\n",
       "        vertical-align: top;\n",
       "    }\n",
       "\n",
       "    .dataframe thead th {\n",
       "        text-align: right;\n",
       "    }\n",
       "</style>\n",
       "<table border=\"1\" class=\"dataframe\">\n",
       "  <thead>\n",
       "    <tr style=\"text-align: right;\">\n",
       "      <th></th>\n",
       "      <th>plate</th>\n",
       "      <th>seq</th>\n",
       "      <th>cb</th>\n",
       "      <th>counts</th>\n",
       "    </tr>\n",
       "  </thead>\n",
       "  <tbody>\n",
       "    <tr>\n",
       "      <th>0</th>\n",
       "      <td>RPMD1-01</td>\n",
       "      <td>CTCTGA</td>\n",
       "      <td>GTNCB</td>\n",
       "      <td>1</td>\n",
       "    </tr>\n",
       "    <tr>\n",
       "      <th>1</th>\n",
       "      <td>RPMD1-01</td>\n",
       "      <td>CTCTGA</td>\n",
       "      <td>NTGCB</td>\n",
       "      <td>2</td>\n",
       "    </tr>\n",
       "    <tr>\n",
       "      <th>2</th>\n",
       "      <td>RPMD1-01</td>\n",
       "      <td>CTCTGAGGG</td>\n",
       "      <td>GTNCB</td>\n",
       "      <td>1</td>\n",
       "    </tr>\n",
       "  </tbody>\n",
       "</table>\n",
       "</div>"
      ],
      "text/plain": [
       "      plate        seq     cb  counts\n",
       "0  RPMD1-01     CTCTGA  GTNCB       1\n",
       "1  RPMD1-01     CTCTGA  NTGCB       2\n",
       "2  RPMD1-01  CTCTGAGGG  GTNCB       1"
      ]
     },
     "execution_count": null,
     "metadata": {},
     "output_type": "execute_result"
    }
   ],
   "source": [
    "sc = SequencesCells()\n",
    "plate1 = sc.parse_file('./test-RPMD1-01_R1.trimmed.fastq.gz')\n",
    "plate1.table"
   ]
  },
  {
   "cell_type": "code",
   "execution_count": null,
   "metadata": {},
   "outputs": [
    {
     "data": {
      "text/html": [
       "<div>\n",
       "<style scoped>\n",
       "    .dataframe tbody tr th:only-of-type {\n",
       "        vertical-align: middle;\n",
       "    }\n",
       "\n",
       "    .dataframe tbody tr th {\n",
       "        vertical-align: top;\n",
       "    }\n",
       "\n",
       "    .dataframe thead th {\n",
       "        text-align: right;\n",
       "    }\n",
       "</style>\n",
       "<table border=\"1\" class=\"dataframe\">\n",
       "  <thead>\n",
       "    <tr style=\"text-align: right;\">\n",
       "      <th></th>\n",
       "      <th>plate</th>\n",
       "      <th>seq</th>\n",
       "      <th>cb</th>\n",
       "      <th>counts</th>\n",
       "    </tr>\n",
       "  </thead>\n",
       "  <tbody>\n",
       "    <tr>\n",
       "      <th>0</th>\n",
       "      <td>RPMD1-01</td>\n",
       "      <td>CTCTGA</td>\n",
       "      <td>GTNCB</td>\n",
       "      <td>1</td>\n",
       "    </tr>\n",
       "    <tr>\n",
       "      <th>1</th>\n",
       "      <td>RPMD1-01</td>\n",
       "      <td>CTCTGA</td>\n",
       "      <td>NTGCB</td>\n",
       "      <td>2</td>\n",
       "    </tr>\n",
       "    <tr>\n",
       "      <th>2</th>\n",
       "      <td>RPMD1-02</td>\n",
       "      <td>CTCTGA</td>\n",
       "      <td>GTNCB</td>\n",
       "      <td>1</td>\n",
       "    </tr>\n",
       "    <tr>\n",
       "      <th>3</th>\n",
       "      <td>RPMD1-02</td>\n",
       "      <td>CTCTGA</td>\n",
       "      <td>NTGCB</td>\n",
       "      <td>2</td>\n",
       "    </tr>\n",
       "  </tbody>\n",
       "</table>\n",
       "</div>"
      ],
      "text/plain": [
       "      plate     seq     cb  counts\n",
       "0  RPMD1-01  CTCTGA  GTNCB       1\n",
       "1  RPMD1-01  CTCTGA  NTGCB       2\n",
       "2  RPMD1-02  CTCTGA  GTNCB       1\n",
       "3  RPMD1-02  CTCTGA  NTGCB       2"
      ]
     },
     "execution_count": null,
     "metadata": {},
     "output_type": "execute_result"
    }
   ],
   "source": [
    "n_plates = 2\n",
    "\n",
    "seq_grouped = pd.concat([plate1.table, plate2.table]).groupby('seq')\n",
    "df =seq_grouped.filter(lambda x: len(x['plate'].unique()) == n_plates).reset_index(drop=True)\n",
    "df"
   ]
  },
  {
   "cell_type": "code",
   "execution_count": null,
   "metadata": {},
   "outputs": [
    {
     "name": "stdout",
     "output_type": "stream",
     "text": [
      "2\n"
     ]
    }
   ],
   "source": [
    "plates = plate1.join_plate(plate2)\n",
    "\n",
    "assert list(plates.table.plate.unique()) == ['RPMD1-01', 'RPMD1-02']\n",
    "assert list(plates.table.seq) == ['CTCTGA']*4"
   ]
  },
  {
   "cell_type": "code",
   "execution_count": null,
   "metadata": {},
   "outputs": [
    {
     "data": {
      "text/html": [
       "<div>\n",
       "<style scoped>\n",
       "    .dataframe tbody tr th:only-of-type {\n",
       "        vertical-align: middle;\n",
       "    }\n",
       "\n",
       "    .dataframe tbody tr th {\n",
       "        vertical-align: top;\n",
       "    }\n",
       "\n",
       "    .dataframe thead th {\n",
       "        text-align: right;\n",
       "    }\n",
       "</style>\n",
       "<table border=\"1\" class=\"dataframe\">\n",
       "  <thead>\n",
       "    <tr style=\"text-align: right;\">\n",
       "      <th></th>\n",
       "      <th>plate</th>\n",
       "      <th>seq</th>\n",
       "      <th>cb</th>\n",
       "      <th>counts</th>\n",
       "    </tr>\n",
       "  </thead>\n",
       "  <tbody>\n",
       "    <tr>\n",
       "      <th>0</th>\n",
       "      <td>RPMD1-01</td>\n",
       "      <td>CTCTGAGGG</td>\n",
       "      <td>GTNCB</td>\n",
       "      <td>1</td>\n",
       "    </tr>\n",
       "  </tbody>\n",
       "</table>\n",
       "</div>"
      ],
      "text/plain": [
       "      plate        seq     cb  counts\n",
       "0  RPMD1-01  CTCTGAGGG  GTNCB       1"
      ]
     },
     "execution_count": null,
     "metadata": {},
     "output_type": "execute_result"
    }
   ],
   "source": [
    "plates.table"
   ]
  },
  {
   "cell_type": "code",
   "execution_count": null,
   "metadata": {},
   "outputs": [
    {
     "data": {
      "text/html": [
       "<div>\n",
       "<style scoped>\n",
       "    .dataframe tbody tr th:only-of-type {\n",
       "        vertical-align: middle;\n",
       "    }\n",
       "\n",
       "    .dataframe tbody tr th {\n",
       "        vertical-align: top;\n",
       "    }\n",
       "\n",
       "    .dataframe thead th {\n",
       "        text-align: right;\n",
       "    }\n",
       "</style>\n",
       "<table border=\"1\" class=\"dataframe\">\n",
       "  <thead>\n",
       "    <tr style=\"text-align: right;\">\n",
       "      <th></th>\n",
       "      <th>plate</th>\n",
       "      <th>seq</th>\n",
       "      <th>cb</th>\n",
       "      <th>counts</th>\n",
       "    </tr>\n",
       "  </thead>\n",
       "  <tbody>\n",
       "    <tr>\n",
       "      <th>0</th>\n",
       "      <td>RPMD1-01</td>\n",
       "      <td>CTCTGA</td>\n",
       "      <td>GTNCB</td>\n",
       "      <td>1</td>\n",
       "    </tr>\n",
       "    <tr>\n",
       "      <th>1</th>\n",
       "      <td>RPMD1-01</td>\n",
       "      <td>CTCTGA</td>\n",
       "      <td>NTGCB</td>\n",
       "      <td>2</td>\n",
       "    </tr>\n",
       "    <tr>\n",
       "      <th>2</th>\n",
       "      <td>RPMD1-02</td>\n",
       "      <td>CTCTGA</td>\n",
       "      <td>GTNCB</td>\n",
       "      <td>1</td>\n",
       "    </tr>\n",
       "    <tr>\n",
       "      <th>3</th>\n",
       "      <td>RPMD1-02</td>\n",
       "      <td>CTCTGA</td>\n",
       "      <td>NTGCB</td>\n",
       "      <td>2</td>\n",
       "    </tr>\n",
       "  </tbody>\n",
       "</table>\n",
       "</div>"
      ],
      "text/plain": [
       "      plate     seq     cb  counts\n",
       "0  RPMD1-01  CTCTGA  GTNCB       1\n",
       "1  RPMD1-01  CTCTGA  NTGCB       2\n",
       "2  RPMD1-02  CTCTGA  GTNCB       1\n",
       "3  RPMD1-02  CTCTGA  NTGCB       2"
      ]
     },
     "execution_count": null,
     "metadata": {},
     "output_type": "execute_result"
    }
   ],
   "source": [
    "plates.table"
   ]
  },
  {
   "cell_type": "code",
   "execution_count": null,
   "metadata": {},
   "outputs": [],
   "source": [
    "#| export\n",
    "\n",
    "def concat_plates(sequences_cells, n_plates=None):\n",
    "    if n_plates == None:\n",
    "        n_plates = len(sequences_cells)\n",
    "    cat_table = pd.concat([sc.table for sc in sequences_cells] )\n",
    "    seq_grouped = cat_table.groupby('seq')\n",
    "    table =seq_grouped.filter(lambda x: len(x['plate'].unique()) == n_plates).reset_index(drop=True)\n",
    "    return SequencesCells(df=table)"
   ]
  },
  {
   "cell_type": "code",
   "execution_count": null,
   "metadata": {},
   "outputs": [],
   "source": [
    "plates = concat_plates([plate1,plate2])\n",
    "\n",
    "assert list(plates.table.plate.unique()) == ['RPMD1-01', 'RPMD1-02']\n",
    "assert list(plates.table.seq) == ['CTCTGA']*4"
   ]
  },
  {
   "cell_type": "code",
   "execution_count": null,
   "metadata": {},
   "outputs": [
    {
     "data": {
      "text/html": [
       "<div>\n",
       "<style scoped>\n",
       "    .dataframe tbody tr th:only-of-type {\n",
       "        vertical-align: middle;\n",
       "    }\n",
       "\n",
       "    .dataframe tbody tr th {\n",
       "        vertical-align: top;\n",
       "    }\n",
       "\n",
       "    .dataframe thead th {\n",
       "        text-align: right;\n",
       "    }\n",
       "</style>\n",
       "<table border=\"1\" class=\"dataframe\">\n",
       "  <thead>\n",
       "    <tr style=\"text-align: right;\">\n",
       "      <th></th>\n",
       "      <th>plate</th>\n",
       "      <th>seq</th>\n",
       "      <th>cb</th>\n",
       "      <th>counts</th>\n",
       "    </tr>\n",
       "  </thead>\n",
       "  <tbody>\n",
       "    <tr>\n",
       "      <th>0</th>\n",
       "      <td>RPMD1-01</td>\n",
       "      <td>CTCTGA</td>\n",
       "      <td>GTNCB</td>\n",
       "      <td>1</td>\n",
       "    </tr>\n",
       "    <tr>\n",
       "      <th>1</th>\n",
       "      <td>RPMD1-01</td>\n",
       "      <td>CTCTGA</td>\n",
       "      <td>NTGCB</td>\n",
       "      <td>2</td>\n",
       "    </tr>\n",
       "    <tr>\n",
       "      <th>2</th>\n",
       "      <td>RPMD1-02</td>\n",
       "      <td>CTCTGA</td>\n",
       "      <td>GTNCB</td>\n",
       "      <td>1</td>\n",
       "    </tr>\n",
       "    <tr>\n",
       "      <th>3</th>\n",
       "      <td>RPMD1-02</td>\n",
       "      <td>CTCTGA</td>\n",
       "      <td>NTGCB</td>\n",
       "      <td>2</td>\n",
       "    </tr>\n",
       "  </tbody>\n",
       "</table>\n",
       "</div>"
      ],
      "text/plain": [
       "      plate     seq     cb  counts\n",
       "0  RPMD1-01  CTCTGA  GTNCB       1\n",
       "1  RPMD1-01  CTCTGA  NTGCB       2\n",
       "2  RPMD1-02  CTCTGA  GTNCB       1\n",
       "3  RPMD1-02  CTCTGA  NTGCB       2"
      ]
     },
     "execution_count": null,
     "metadata": {},
     "output_type": "execute_result"
    }
   ],
   "source": [
    "plates.table"
   ]
  },
  {
   "cell_type": "code",
   "execution_count": null,
   "metadata": {},
   "outputs": [],
   "source": [
    "plates.save_table('all_plates.csv.gz')"
   ]
  },
  {
   "cell_type": "code",
   "execution_count": null,
   "metadata": {},
   "outputs": [],
   "source": [
    "results = SequencesCells().read_csv('all_plates.csv.gz')"
   ]
  }
 ],
 "metadata": {
  "kernelspec": {
   "display_name": "fastqtables",
   "language": "python",
   "name": "fastqtables"
  }
 },
 "nbformat": 4,
 "nbformat_minor": 4
}
