{
 "cells": [
  {
   "cell_type": "markdown",
   "metadata": {},
   "source": [
    "# SequencesCells class\n",
    "\n",
    "> Read and create count table of cells"
   ]
  },
  {
   "cell_type": "code",
   "execution_count": 1,
   "metadata": {},
   "outputs": [],
   "source": [
    "#| hide\n",
    "from nbdev import nbdev_export\n",
    "nbdev_export()"
   ]
  },
  {
   "cell_type": "code",
   "execution_count": null,
   "metadata": {},
   "outputs": [],
   "source": [
    "#| default_exp preprocess"
   ]
  },
  {
   "cell_type": "code",
   "execution_count": null,
   "metadata": {},
   "outputs": [],
   "source": [
    "#| export\n",
    "import numpy as np\n",
    "import pandas as pd\n",
    "import gzip\n",
    "from Bio import SeqIO\n",
    "from pathlib import Path\n",
    "from multiprocessing import Pool"
   ]
  },
  {
   "cell_type": "markdown",
   "metadata": {},
   "source": [
    "# SeqCell class\n",
    "\n",
    "\n",
    "Run with parse_file(fastq.gz) method and return a SequencesCells() class containing the dataframe:\n",
    "\n",
    "|       | **plate** | **seq**   | **cb** | **counts** |\n",
    "|-------|-----------|-----------|--------|------------|\n",
    "| **0** |  RPMD1-01 |    CTCTGA |  GTNCB |          1 |\n",
    "| **1** |  RPMD1-01 |    CTCTGA |  NTGCB |          2 |\n",
    "| **2** |  RPMD1-01 | CTCTGAGGG |  GTNCB |          1 |\n",
    "\n",
    "that can be transformed in the wide dataframe using `SeqCell.to_wide_format()`\n",
    "\n",
    "|                | **plate_NTGCB** | **plate_GTNCB** | **cell3** |\n",
    "|----------------|-----------|-----------|-----------|\n",
    "| **CTCTGA**     | 2         | 1         | ..        |\n",
    "| **CTCTGAGGG**  | 0         | 1         | ..        |\n",
    "| **sequence_3** | ..        | ..        | ..        |\n",
    "\n",
    "On the SequencesCells object then you can join a new plate using the method `.join_plate()` or having a list of SeqCell you can use `concat_plates()`\n"
   ]
  },
  {
   "cell_type": "code",
   "execution_count": null,
   "metadata": {},
   "outputs": [],
   "source": [
    "#| export\n",
    "\n",
    "def extract_umi_cb(nm):\n",
    "    nm = nm.split(' ')[0]\n",
    "    cb, umi = nm.split('_')[1:3]\n",
    "    return umi, cb"
   ]
  },
  {
   "cell_type": "code",
   "execution_count": null,
   "metadata": {},
   "outputs": [],
   "source": [
    "nm = '@VH00225:8:AAAKNTKHV:1:1101:62862:1057_NTGCB_GGCAUMI 1:N:0:GTTTCG'\n",
    "umi, cb = extract_umi_cb(nm)\n",
    "\n",
    "assert cb == 'NTGCB'\n",
    "assert umi == 'GGCAUMI'"
   ]
  },
  {
   "cell_type": "code",
   "execution_count": null,
   "metadata": {},
   "outputs": [],
   "source": [
    "#| export\n",
    "\n",
    "def parse_plate(path, plate_name):\n",
    "    ids = []\n",
    "    with gzip.open(path, \"rt\") as handle:\n",
    "        for record in SeqIO.parse(handle, \"fastq\"):\n",
    "            umi, cb = extract_umi_cb(str(record.id))\n",
    "            cb = plate_name + '_' + cb \n",
    "            sequence = str(record.seq)\n",
    "            id_item = (plate_name, sequence, cb, umi)\n",
    "            ids.append(id_item)\n",
    "    df = pd.DataFrame(ids, columns=['plate', 'seq', 'cb','umi'])\n",
    "    dedup_df = df.drop_duplicates().reset_index(drop=True)\n",
    "    count_df = dedup_df.groupby(['plate','seq', 'cb']).count()\n",
    "    seqcell_long = count_df.reset_index().rename(columns={'umi':'counts'})\n",
    "    return seqcell_long\n"
   ]
  },
  {
   "cell_type": "code",
   "execution_count": null,
   "metadata": {},
   "outputs": [
    {
     "name": "stdout",
     "output_type": "stream",
     "text": [
      "['plate', 'seq', 'cb', 'counts']\n"
     ]
    }
   ],
   "source": [
    "seqcell_table = parse_plate('./test-RPMD1-01_R1.trimmed.fastq.gz', 'RPMD1-01')\n",
    "print(list(seqcell_table.columns))\n",
    "assert list(seqcell_table.columns) == ['plate', 'seq', 'cb', 'counts']\n",
    "assert list(seqcell_table['counts']) == [1,2,1]"
   ]
  },
  {
   "cell_type": "code",
   "execution_count": null,
   "metadata": {},
   "outputs": [
    {
     "data": {
      "text/html": [
       "<div>\n",
       "<style scoped>\n",
       "    .dataframe tbody tr th:only-of-type {\n",
       "        vertical-align: middle;\n",
       "    }\n",
       "\n",
       "    .dataframe tbody tr th {\n",
       "        vertical-align: top;\n",
       "    }\n",
       "\n",
       "    .dataframe thead th {\n",
       "        text-align: right;\n",
       "    }\n",
       "</style>\n",
       "<table border=\"1\" class=\"dataframe\">\n",
       "  <thead>\n",
       "    <tr style=\"text-align: right;\">\n",
       "      <th></th>\n",
       "      <th>plate</th>\n",
       "      <th>seq</th>\n",
       "      <th>cb</th>\n",
       "      <th>counts</th>\n",
       "    </tr>\n",
       "  </thead>\n",
       "  <tbody>\n",
       "    <tr>\n",
       "      <th>0</th>\n",
       "      <td>RPMD1-01</td>\n",
       "      <td>CTCTGA</td>\n",
       "      <td>RPMD1-01_GTNCB</td>\n",
       "      <td>1</td>\n",
       "    </tr>\n",
       "    <tr>\n",
       "      <th>1</th>\n",
       "      <td>RPMD1-01</td>\n",
       "      <td>CTCTGA</td>\n",
       "      <td>RPMD1-01_NTGCB</td>\n",
       "      <td>2</td>\n",
       "    </tr>\n",
       "    <tr>\n",
       "      <th>2</th>\n",
       "      <td>RPMD1-01</td>\n",
       "      <td>CTCTGAGGG</td>\n",
       "      <td>RPMD1-01_GTNCB</td>\n",
       "      <td>1</td>\n",
       "    </tr>\n",
       "  </tbody>\n",
       "</table>\n",
       "</div>"
      ],
      "text/plain": [
       "      plate        seq              cb  counts\n",
       "0  RPMD1-01     CTCTGA  RPMD1-01_GTNCB       1\n",
       "1  RPMD1-01     CTCTGA  RPMD1-01_NTGCB       2\n",
       "2  RPMD1-01  CTCTGAGGG  RPMD1-01_GTNCB       1"
      ]
     },
     "execution_count": null,
     "metadata": {},
     "output_type": "execute_result"
    }
   ],
   "source": [
    "seqcell_table"
   ]
  },
  {
   "cell_type": "code",
   "execution_count": null,
   "metadata": {},
   "outputs": [],
   "source": [
    "#| export\n",
    "class SequencesCells():\n",
    "    def __init__(self, df=None):\n",
    "        self.table = df\n",
    "\n",
    "    def __getitem__(self, key):\n",
    "        try:\n",
    "            out = self.table[key]\n",
    "        except:\n",
    "            out = self.table.loc[key]\n",
    "        return out\n",
    "    \n",
    "    def select_plate(self, plate):\n",
    "        df = self.table.set_index('plate').loc[plate, :].reset_index()\n",
    "        return SequencesCells(df)\n",
    "    \n",
    "    def parse_file(self, fastq_file, plate_name=None):\n",
    "        fastq_file = Path(fastq_file)\n",
    "        if plate_name is None:\n",
    "            plate_name = '-'.join(fastq_file.name.split('_')[0].split('-')[1:])\n",
    "        self.table = parse_plate(fastq_file, plate_name)\n",
    "        return self\n",
    "    \n",
    "    def save_table(self, path, compression='gzip'):\n",
    "        self.table.to_csv(path, compression=compression)\n",
    "        \n",
    "    def read_csv(self, path, compression='gzip'):\n",
    "        self.table = pd.read_csv(path, index_col=0, compression=compression)\n",
    "        return self\n",
    "    def to_wide_format(self):\n",
    "        df = self.table.copy()\n",
    "        df['cb'] = df.apply(lambda x: x.plate +'_'+ x.cb , axis= 1)\n",
    "        df = df.pivot(index='seq', columns= 'cb', values= 'counts')\n",
    "        return df\n",
    "    def apply_prefix_plate_to_cb(self):\n",
    "        self.table['cb'] = self.table.apply(lambda x: x.plate +'_'+ x.cb , axis= 1)"
   ]
  },
  {
   "cell_type": "code",
   "execution_count": null,
   "metadata": {},
   "outputs": [],
   "source": []
  },
  {
   "cell_type": "code",
   "execution_count": null,
   "metadata": {},
   "outputs": [
    {
     "data": {
      "text/html": [
       "<div>\n",
       "<style scoped>\n",
       "    .dataframe tbody tr th:only-of-type {\n",
       "        vertical-align: middle;\n",
       "    }\n",
       "\n",
       "    .dataframe tbody tr th {\n",
       "        vertical-align: top;\n",
       "    }\n",
       "\n",
       "    .dataframe thead th {\n",
       "        text-align: right;\n",
       "    }\n",
       "</style>\n",
       "<table border=\"1\" class=\"dataframe\">\n",
       "  <thead>\n",
       "    <tr style=\"text-align: right;\">\n",
       "      <th></th>\n",
       "      <th>plate</th>\n",
       "      <th>seq</th>\n",
       "      <th>cb</th>\n",
       "      <th>counts</th>\n",
       "    </tr>\n",
       "  </thead>\n",
       "  <tbody>\n",
       "    <tr>\n",
       "      <th>0</th>\n",
       "      <td>RPMD1-02</td>\n",
       "      <td>CTCTGA</td>\n",
       "      <td>RPMD1-02_GTNCB</td>\n",
       "      <td>1</td>\n",
       "    </tr>\n",
       "    <tr>\n",
       "      <th>1</th>\n",
       "      <td>RPMD1-02</td>\n",
       "      <td>CTCTGA</td>\n",
       "      <td>RPMD1-02_NTGCB</td>\n",
       "      <td>2</td>\n",
       "    </tr>\n",
       "  </tbody>\n",
       "</table>\n",
       "</div>"
      ],
      "text/plain": [
       "      plate     seq              cb  counts\n",
       "0  RPMD1-02  CTCTGA  RPMD1-02_GTNCB       1\n",
       "1  RPMD1-02  CTCTGA  RPMD1-02_NTGCB       2"
      ]
     },
     "execution_count": null,
     "metadata": {},
     "output_type": "execute_result"
    }
   ],
   "source": [
    "fastq = SequencesCells()\n",
    "plate2 = fastq.parse_file('./test-RPMD1-02_R1.trimmed.fastq.gz')\n",
    "plate2.table"
   ]
  },
  {
   "cell_type": "code",
   "execution_count": null,
   "metadata": {},
   "outputs": [
    {
     "data": {
      "text/plain": [
       "0    CTCTGA\n",
       "1    CTCTGA\n",
       "Name: seq, dtype: object"
      ]
     },
     "execution_count": null,
     "metadata": {},
     "output_type": "execute_result"
    }
   ],
   "source": [
    "plate2[:,'seq']"
   ]
  },
  {
   "cell_type": "code",
   "execution_count": null,
   "metadata": {},
   "outputs": [
    {
     "data": {
      "text/html": [
       "<div>\n",
       "<style scoped>\n",
       "    .dataframe tbody tr th:only-of-type {\n",
       "        vertical-align: middle;\n",
       "    }\n",
       "\n",
       "    .dataframe tbody tr th {\n",
       "        vertical-align: top;\n",
       "    }\n",
       "\n",
       "    .dataframe thead th {\n",
       "        text-align: right;\n",
       "    }\n",
       "</style>\n",
       "<table border=\"1\" class=\"dataframe\">\n",
       "  <thead>\n",
       "    <tr style=\"text-align: right;\">\n",
       "      <th></th>\n",
       "      <th>plate</th>\n",
       "      <th>seq</th>\n",
       "      <th>cb</th>\n",
       "      <th>counts</th>\n",
       "    </tr>\n",
       "  </thead>\n",
       "  <tbody>\n",
       "    <tr>\n",
       "      <th>0</th>\n",
       "      <td>RPMD1-01</td>\n",
       "      <td>CTCTGA</td>\n",
       "      <td>RPMD1-01_GTNCB</td>\n",
       "      <td>1</td>\n",
       "    </tr>\n",
       "    <tr>\n",
       "      <th>1</th>\n",
       "      <td>RPMD1-01</td>\n",
       "      <td>CTCTGA</td>\n",
       "      <td>RPMD1-01_NTGCB</td>\n",
       "      <td>2</td>\n",
       "    </tr>\n",
       "    <tr>\n",
       "      <th>2</th>\n",
       "      <td>RPMD1-01</td>\n",
       "      <td>CTCTGAGGG</td>\n",
       "      <td>RPMD1-01_GTNCB</td>\n",
       "      <td>1</td>\n",
       "    </tr>\n",
       "  </tbody>\n",
       "</table>\n",
       "</div>"
      ],
      "text/plain": [
       "      plate        seq              cb  counts\n",
       "0  RPMD1-01     CTCTGA  RPMD1-01_GTNCB       1\n",
       "1  RPMD1-01     CTCTGA  RPMD1-01_NTGCB       2\n",
       "2  RPMD1-01  CTCTGAGGG  RPMD1-01_GTNCB       1"
      ]
     },
     "execution_count": null,
     "metadata": {},
     "output_type": "execute_result"
    }
   ],
   "source": [
    "sc = SequencesCells()\n",
    "plate1 = sc.parse_file('./test-RPMD1-01_R1.trimmed.fastq.gz')\n",
    "plate1.table"
   ]
  },
  {
   "cell_type": "code",
   "execution_count": null,
   "metadata": {},
   "outputs": [
    {
     "data": {
      "text/html": [
       "<div>\n",
       "<style scoped>\n",
       "    .dataframe tbody tr th:only-of-type {\n",
       "        vertical-align: middle;\n",
       "    }\n",
       "\n",
       "    .dataframe tbody tr th {\n",
       "        vertical-align: top;\n",
       "    }\n",
       "\n",
       "    .dataframe thead th {\n",
       "        text-align: right;\n",
       "    }\n",
       "</style>\n",
       "<table border=\"1\" class=\"dataframe\">\n",
       "  <thead>\n",
       "    <tr style=\"text-align: right;\">\n",
       "      <th>cb</th>\n",
       "      <th>RPMD1-01_GTNCB</th>\n",
       "      <th>RPMD1-01_NTGCB</th>\n",
       "      <th>RPMD1-02_GTNCB</th>\n",
       "      <th>RPMD1-02_NTGCB</th>\n",
       "    </tr>\n",
       "    <tr>\n",
       "      <th>seq</th>\n",
       "      <th></th>\n",
       "      <th></th>\n",
       "      <th></th>\n",
       "      <th></th>\n",
       "    </tr>\n",
       "  </thead>\n",
       "  <tbody>\n",
       "    <tr>\n",
       "      <th>CTCTGA</th>\n",
       "      <td>1</td>\n",
       "      <td>2</td>\n",
       "      <td>1</td>\n",
       "      <td>2</td>\n",
       "    </tr>\n",
       "  </tbody>\n",
       "</table>\n",
       "</div>"
      ],
      "text/plain": [
       "cb      RPMD1-01_GTNCB  RPMD1-01_NTGCB  RPMD1-02_GTNCB  RPMD1-02_NTGCB\n",
       "seq                                                                   \n",
       "CTCTGA               1               2               1               2"
      ]
     },
     "execution_count": null,
     "metadata": {},
     "output_type": "execute_result"
    }
   ],
   "source": [
    "plates.to_wide_format()"
   ]
  },
  {
   "cell_type": "code",
   "execution_count": null,
   "metadata": {},
   "outputs": [
    {
     "data": {
      "text/html": [
       "<div>\n",
       "<style scoped>\n",
       "    .dataframe tbody tr th:only-of-type {\n",
       "        vertical-align: middle;\n",
       "    }\n",
       "\n",
       "    .dataframe tbody tr th {\n",
       "        vertical-align: top;\n",
       "    }\n",
       "\n",
       "    .dataframe thead th {\n",
       "        text-align: right;\n",
       "    }\n",
       "</style>\n",
       "<table border=\"1\" class=\"dataframe\">\n",
       "  <thead>\n",
       "    <tr style=\"text-align: right;\">\n",
       "      <th></th>\n",
       "      <th>plate</th>\n",
       "      <th>seq</th>\n",
       "      <th>cb</th>\n",
       "      <th>counts</th>\n",
       "    </tr>\n",
       "  </thead>\n",
       "  <tbody>\n",
       "    <tr>\n",
       "      <th>0</th>\n",
       "      <td>RPMD1-01</td>\n",
       "      <td>CTCTGA</td>\n",
       "      <td>GTNCB</td>\n",
       "      <td>1</td>\n",
       "    </tr>\n",
       "    <tr>\n",
       "      <th>1</th>\n",
       "      <td>RPMD1-01</td>\n",
       "      <td>CTCTGA</td>\n",
       "      <td>NTGCB</td>\n",
       "      <td>2</td>\n",
       "    </tr>\n",
       "    <tr>\n",
       "      <th>2</th>\n",
       "      <td>RPMD1-02</td>\n",
       "      <td>CTCTGA</td>\n",
       "      <td>GTNCB</td>\n",
       "      <td>1</td>\n",
       "    </tr>\n",
       "    <tr>\n",
       "      <th>3</th>\n",
       "      <td>RPMD1-02</td>\n",
       "      <td>CTCTGA</td>\n",
       "      <td>NTGCB</td>\n",
       "      <td>2</td>\n",
       "    </tr>\n",
       "  </tbody>\n",
       "</table>\n",
       "</div>"
      ],
      "text/plain": [
       "      plate     seq     cb  counts\n",
       "0  RPMD1-01  CTCTGA  GTNCB       1\n",
       "1  RPMD1-01  CTCTGA  NTGCB       2\n",
       "2  RPMD1-02  CTCTGA  GTNCB       1\n",
       "3  RPMD1-02  CTCTGA  NTGCB       2"
      ]
     },
     "execution_count": null,
     "metadata": {},
     "output_type": "execute_result"
    }
   ],
   "source": [
    "plates.table"
   ]
  },
  {
   "cell_type": "code",
   "execution_count": null,
   "metadata": {},
   "outputs": [],
   "source": [
    "#| export\n",
    "def filter_group(x, n_plates):\n",
    "    if len(x['plate'].unique()) == n_plates:\n",
    "        return x\n",
    "    \n",
    "\n",
    "\n",
    "def concat_plates(sequences_cells, n_plates=None, n_cores=None):\n",
    "    if n_plates == None:\n",
    "        n_plates = len(sequences_cells)\n",
    "    cat_table = pd.concat([sc.table for sc in sequences_cells] )\n",
    "    seq_grouped = cat_table.groupby('seq')\n",
    "    if n_cores is None:\n",
    "        table =seq_grouped.filter(lambda x: len(x['plate'].unique()) == n_plates).reset_index(drop=True)\n",
    "    else:\n",
    "        with Pool(n_cores) as pool:\n",
    "            table = pd.concat(pool.starmap(filter_group, [(group, n_plates) for name, group in seq_grouped]))\n",
    "    \n",
    "    return SequencesCells(df=table)"
   ]
  },
  {
   "cell_type": "code",
   "execution_count": null,
   "metadata": {},
   "outputs": [],
   "source": [
    "plate1 = plate1.select_plate('RPMD1-01')\n",
    "assert list(plate1.table.plate.unique()) == ['RPMD1-01']"
   ]
  },
  {
   "cell_type": "code",
   "execution_count": null,
   "metadata": {},
   "outputs": [],
   "source": [
    "plates = concat_plates([plate1,plate2])\n",
    "\n",
    "assert list(plates.table.plate.unique()) == ['RPMD1-01', 'RPMD1-02']\n",
    "assert list(plates.table.seq) == ['CTCTGA']*4"
   ]
  },
  {
   "cell_type": "code",
   "execution_count": null,
   "metadata": {},
   "outputs": [],
   "source": [
    "plates = concat_plates([plate1,plate2], n_cores=4)\n",
    "\n",
    "assert list(plates.table.plate.unique()) == ['RPMD1-01', 'RPMD1-02']\n",
    "assert list(plates.table.seq) == ['CTCTGA']*4"
   ]
  },
  {
   "cell_type": "code",
   "execution_count": null,
   "metadata": {},
   "outputs": [],
   "source": [
    "plates.save_table('all_plates.csv.gz')"
   ]
  },
  {
   "cell_type": "code",
   "execution_count": null,
   "metadata": {},
   "outputs": [],
   "source": [
    "results = SequencesCells().read_csv('all_plates.csv.gz')"
   ]
  },
  {
   "cell_type": "code",
   "execution_count": null,
   "metadata": {},
   "outputs": [
    {
     "data": {
      "text/html": [
       "<div>\n",
       "<style scoped>\n",
       "    .dataframe tbody tr th:only-of-type {\n",
       "        vertical-align: middle;\n",
       "    }\n",
       "\n",
       "    .dataframe tbody tr th {\n",
       "        vertical-align: top;\n",
       "    }\n",
       "\n",
       "    .dataframe thead th {\n",
       "        text-align: right;\n",
       "    }\n",
       "</style>\n",
       "<table border=\"1\" class=\"dataframe\">\n",
       "  <thead>\n",
       "    <tr style=\"text-align: right;\">\n",
       "      <th></th>\n",
       "      <th>plate</th>\n",
       "      <th>seq</th>\n",
       "      <th>cb</th>\n",
       "      <th>counts</th>\n",
       "    </tr>\n",
       "  </thead>\n",
       "  <tbody>\n",
       "    <tr>\n",
       "      <th>0</th>\n",
       "      <td>RPMD1-01</td>\n",
       "      <td>CTCTGA</td>\n",
       "      <td>GTNCB</td>\n",
       "      <td>1</td>\n",
       "    </tr>\n",
       "    <tr>\n",
       "      <th>1</th>\n",
       "      <td>RPMD1-01</td>\n",
       "      <td>CTCTGA</td>\n",
       "      <td>NTGCB</td>\n",
       "      <td>2</td>\n",
       "    </tr>\n",
       "    <tr>\n",
       "      <th>2</th>\n",
       "      <td>RPMD1-02</td>\n",
       "      <td>CTCTGA</td>\n",
       "      <td>GTNCB</td>\n",
       "      <td>1</td>\n",
       "    </tr>\n",
       "    <tr>\n",
       "      <th>3</th>\n",
       "      <td>RPMD1-02</td>\n",
       "      <td>CTCTGA</td>\n",
       "      <td>NTGCB</td>\n",
       "      <td>2</td>\n",
       "    </tr>\n",
       "  </tbody>\n",
       "</table>\n",
       "</div>"
      ],
      "text/plain": [
       "      plate     seq     cb  counts\n",
       "0  RPMD1-01  CTCTGA  GTNCB       1\n",
       "1  RPMD1-01  CTCTGA  NTGCB       2\n",
       "2  RPMD1-02  CTCTGA  GTNCB       1\n",
       "3  RPMD1-02  CTCTGA  NTGCB       2"
      ]
     },
     "execution_count": null,
     "metadata": {},
     "output_type": "execute_result"
    }
   ],
   "source": [
    "results.table\n"
   ]
  },
  {
   "cell_type": "code",
   "execution_count": null,
   "metadata": {},
   "outputs": [],
   "source": []
  }
 ],
 "metadata": {
  "kernelspec": {
   "display_name": "torch",
   "language": "python",
   "name": "seqcell"
  },
  "language_info": {
   "codemirror_mode": {
    "name": "ipython",
    "version": 3
   },
   "file_extension": ".py",
   "mimetype": "text/x-python",
   "name": "python",
   "nbconvert_exporter": "python",
   "pygments_lexer": "ipython3",
   "version": "3.7.12"
  }
 },
 "nbformat": 4,
 "nbformat_minor": 4
}
