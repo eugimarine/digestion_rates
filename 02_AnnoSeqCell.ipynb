{
 "cells": [
  {
   "cell_type": "markdown",
   "metadata": {},
   "source": [
    "# AnnoSeqCell class\n",
    "\n",
    "> Read table and add annotation"
   ]
  },
  {
   "cell_type": "code",
   "execution_count": 76,
   "metadata": {},
   "outputs": [],
   "source": [
    "#| hide\n",
    "from nbdev import nbdev_export\n",
    "nbdev_export()"
   ]
  },
  {
   "cell_type": "code",
   "execution_count": 42,
   "metadata": {},
   "outputs": [],
   "source": [
    "#| default_exp annoseqcell"
   ]
  },
  {
   "cell_type": "code",
   "execution_count": 43,
   "metadata": {},
   "outputs": [],
   "source": [
    "#| export\n",
    "import numpy as np\n",
    "import pandas as pd\n",
    "import gzip\n",
    "from digestion_rates.preprocess import SequencesCells\n",
    "from pathlib import Path\n",
    "from multiprocessing import Pool"
   ]
  },
  {
   "cell_type": "markdown",
   "metadata": {},
   "source": [
    "# AnnoSeqCell class\n",
    "\n",
    "\n",
    "\n"
   ]
  },
  {
   "cell_type": "markdown",
   "metadata": {},
   "source": [
    "## Test data"
   ]
  },
  {
   "cell_type": "code",
   "execution_count": 44,
   "metadata": {},
   "outputs": [
    {
     "data": {
      "text/html": [
       "<div>\n",
       "<style scoped>\n",
       "    .dataframe tbody tr th:only-of-type {\n",
       "        vertical-align: middle;\n",
       "    }\n",
       "\n",
       "    .dataframe tbody tr th {\n",
       "        vertical-align: top;\n",
       "    }\n",
       "\n",
       "    .dataframe thead th {\n",
       "        text-align: right;\n",
       "    }\n",
       "</style>\n",
       "<table border=\"1\" class=\"dataframe\">\n",
       "  <thead>\n",
       "    <tr style=\"text-align: right;\">\n",
       "      <th></th>\n",
       "      <th>seq</th>\n",
       "      <th>cb</th>\n",
       "      <th>counts</th>\n",
       "    </tr>\n",
       "  </thead>\n",
       "  <tbody>\n",
       "    <tr>\n",
       "      <th>0</th>\n",
       "      <td>ACCA</td>\n",
       "      <td>PLATE-01_CCCC</td>\n",
       "      <td>1</td>\n",
       "    </tr>\n",
       "    <tr>\n",
       "      <th>1</th>\n",
       "      <td>ACCA</td>\n",
       "      <td>PLATE-01_CCCA</td>\n",
       "      <td>1</td>\n",
       "    </tr>\n",
       "    <tr>\n",
       "      <th>2</th>\n",
       "      <td>CAAC</td>\n",
       "      <td>PLATE-01_CCCA</td>\n",
       "      <td>2</td>\n",
       "    </tr>\n",
       "    <tr>\n",
       "      <th>3</th>\n",
       "      <td>ACCA</td>\n",
       "      <td>PLATE-02_CCCC</td>\n",
       "      <td>1</td>\n",
       "    </tr>\n",
       "    <tr>\n",
       "      <th>4</th>\n",
       "      <td>CAAC</td>\n",
       "      <td>PLATE-02_CCCT</td>\n",
       "      <td>2</td>\n",
       "    </tr>\n",
       "    <tr>\n",
       "      <th>5</th>\n",
       "      <td>CCCA</td>\n",
       "      <td>PLATE-02_CCAA</td>\n",
       "      <td>3</td>\n",
       "    </tr>\n",
       "  </tbody>\n",
       "</table>\n",
       "</div>"
      ],
      "text/plain": [
       "    seq             cb  counts\n",
       "0  ACCA  PLATE-01_CCCC       1\n",
       "1  ACCA  PLATE-01_CCCA       1\n",
       "2  CAAC  PLATE-01_CCCA       2\n",
       "3  ACCA  PLATE-02_CCCC       1\n",
       "4  CAAC  PLATE-02_CCCT       2\n",
       "5  CCCA  PLATE-02_CCAA       3"
      ]
     },
     "execution_count": 44,
     "metadata": {},
     "output_type": "execute_result"
    }
   ],
   "source": [
    "data = [('ACCA', 'PLATE-01_CCCC', 1), ('ACCA', 'PLATE-01_CCCA', 1), \n",
    "        ('CAAC', 'PLATE-01_CCCA', 2), ('ACCA', 'PLATE-02_CCCC', 1), \n",
    "        ('CAAC', 'PLATE-02_CCCT', 2), ('CCCA', 'PLATE-02_CCAA', 3)]\n",
    "df = pd.DataFrame(data, columns=['seq', 'cb', 'counts'])\n",
    "df"
   ]
  },
  {
   "cell_type": "code",
   "execution_count": 65,
   "metadata": {},
   "outputs": [],
   "source": [
    "data = [('PLATE-01_CCCC', 1, 'G0'), ('PLATE-01_CCCA', 2, 'G0'), ('PLATE-02_CCCC', 1, 'Interphase'), \n",
    "        ('PLATE-02_CCCT', 2, 'Interphase'), ('PLATE-02_CCAA', 1,'G0'), ('PLATE-02_CCAA', 1,np.nan)]\n",
    "anno_df = pd.DataFrame(data, columns=['cb','units_mnase','sort_population'])\n",
    "anno_df.to_csv('annotation.csv.gz', compression='gzip', index=False)"
   ]
  },
  {
   "cell_type": "code",
   "execution_count": 66,
   "metadata": {},
   "outputs": [
    {
     "data": {
      "text/html": [
       "<div>\n",
       "<style scoped>\n",
       "    .dataframe tbody tr th:only-of-type {\n",
       "        vertical-align: middle;\n",
       "    }\n",
       "\n",
       "    .dataframe tbody tr th {\n",
       "        vertical-align: top;\n",
       "    }\n",
       "\n",
       "    .dataframe thead th {\n",
       "        text-align: right;\n",
       "    }\n",
       "</style>\n",
       "<table border=\"1\" class=\"dataframe\">\n",
       "  <thead>\n",
       "    <tr style=\"text-align: right;\">\n",
       "      <th></th>\n",
       "      <th>cb</th>\n",
       "      <th>units_mnase</th>\n",
       "      <th>sort_population</th>\n",
       "    </tr>\n",
       "  </thead>\n",
       "  <tbody>\n",
       "    <tr>\n",
       "      <th>0</th>\n",
       "      <td>PLATE-01_CCCC</td>\n",
       "      <td>1</td>\n",
       "      <td>G0</td>\n",
       "    </tr>\n",
       "    <tr>\n",
       "      <th>1</th>\n",
       "      <td>PLATE-01_CCCA</td>\n",
       "      <td>2</td>\n",
       "      <td>G0</td>\n",
       "    </tr>\n",
       "    <tr>\n",
       "      <th>2</th>\n",
       "      <td>PLATE-02_CCCC</td>\n",
       "      <td>1</td>\n",
       "      <td>Interphase</td>\n",
       "    </tr>\n",
       "    <tr>\n",
       "      <th>3</th>\n",
       "      <td>PLATE-02_CCCT</td>\n",
       "      <td>2</td>\n",
       "      <td>Interphase</td>\n",
       "    </tr>\n",
       "    <tr>\n",
       "      <th>4</th>\n",
       "      <td>PLATE-02_CCAA</td>\n",
       "      <td>1</td>\n",
       "      <td>G0</td>\n",
       "    </tr>\n",
       "    <tr>\n",
       "      <th>5</th>\n",
       "      <td>PLATE-02_CCAA</td>\n",
       "      <td>1</td>\n",
       "      <td>NaN</td>\n",
       "    </tr>\n",
       "  </tbody>\n",
       "</table>\n",
       "</div>"
      ],
      "text/plain": [
       "              cb  units_mnase sort_population\n",
       "0  PLATE-01_CCCC            1              G0\n",
       "1  PLATE-01_CCCA            2              G0\n",
       "2  PLATE-02_CCCC            1      Interphase\n",
       "3  PLATE-02_CCCT            2      Interphase\n",
       "4  PLATE-02_CCAA            1              G0\n",
       "5  PLATE-02_CCAA            1             NaN"
      ]
     },
     "execution_count": 66,
     "metadata": {},
     "output_type": "execute_result"
    }
   ],
   "source": [
    "anno_df"
   ]
  },
  {
   "cell_type": "code",
   "execution_count": 47,
   "metadata": {},
   "outputs": [],
   "source": [
    "anno_seq = df.join(anno_df.set_index('cb'), on='cb')"
   ]
  },
  {
   "cell_type": "code",
   "execution_count": 48,
   "metadata": {},
   "outputs": [
    {
     "data": {
      "text/html": [
       "<div>\n",
       "<style scoped>\n",
       "    .dataframe tbody tr th:only-of-type {\n",
       "        vertical-align: middle;\n",
       "    }\n",
       "\n",
       "    .dataframe tbody tr th {\n",
       "        vertical-align: top;\n",
       "    }\n",
       "\n",
       "    .dataframe thead th {\n",
       "        text-align: right;\n",
       "    }\n",
       "</style>\n",
       "<table border=\"1\" class=\"dataframe\">\n",
       "  <thead>\n",
       "    <tr style=\"text-align: right;\">\n",
       "      <th></th>\n",
       "      <th>seq</th>\n",
       "      <th>cb</th>\n",
       "      <th>counts</th>\n",
       "      <th>units_mnase</th>\n",
       "      <th>sort_population</th>\n",
       "    </tr>\n",
       "  </thead>\n",
       "  <tbody>\n",
       "    <tr>\n",
       "      <th>0</th>\n",
       "      <td>ACCA</td>\n",
       "      <td>PLATE-01_CCCC</td>\n",
       "      <td>1</td>\n",
       "      <td>1</td>\n",
       "      <td>G0</td>\n",
       "    </tr>\n",
       "    <tr>\n",
       "      <th>1</th>\n",
       "      <td>ACCA</td>\n",
       "      <td>PLATE-01_CCCA</td>\n",
       "      <td>1</td>\n",
       "      <td>2</td>\n",
       "      <td>G0</td>\n",
       "    </tr>\n",
       "    <tr>\n",
       "      <th>2</th>\n",
       "      <td>CAAC</td>\n",
       "      <td>PLATE-01_CCCA</td>\n",
       "      <td>2</td>\n",
       "      <td>2</td>\n",
       "      <td>G0</td>\n",
       "    </tr>\n",
       "    <tr>\n",
       "      <th>3</th>\n",
       "      <td>ACCA</td>\n",
       "      <td>PLATE-02_CCCC</td>\n",
       "      <td>1</td>\n",
       "      <td>1</td>\n",
       "      <td>Interphase</td>\n",
       "    </tr>\n",
       "    <tr>\n",
       "      <th>4</th>\n",
       "      <td>CAAC</td>\n",
       "      <td>PLATE-02_CCCT</td>\n",
       "      <td>2</td>\n",
       "      <td>2</td>\n",
       "      <td>Interphase</td>\n",
       "    </tr>\n",
       "    <tr>\n",
       "      <th>5</th>\n",
       "      <td>CCCA</td>\n",
       "      <td>PLATE-02_CCAA</td>\n",
       "      <td>3</td>\n",
       "      <td>1</td>\n",
       "      <td>G0</td>\n",
       "    </tr>\n",
       "  </tbody>\n",
       "</table>\n",
       "</div>"
      ],
      "text/plain": [
       "    seq             cb  counts  units_mnase sort_population\n",
       "0  ACCA  PLATE-01_CCCC       1            1              G0\n",
       "1  ACCA  PLATE-01_CCCA       1            2              G0\n",
       "2  CAAC  PLATE-01_CCCA       2            2              G0\n",
       "3  ACCA  PLATE-02_CCCC       1            1      Interphase\n",
       "4  CAAC  PLATE-02_CCCT       2            2      Interphase\n",
       "5  CCCA  PLATE-02_CCAA       3            1              G0"
      ]
     },
     "execution_count": 48,
     "metadata": {},
     "output_type": "execute_result"
    }
   ],
   "source": [
    "anno_seq"
   ]
  },
  {
   "cell_type": "markdown",
   "metadata": {},
   "source": [
    "## AnnoSequencesCells"
   ]
  },
  {
   "cell_type": "code",
   "execution_count": 49,
   "metadata": {},
   "outputs": [],
   "source": [
    "#| export\n",
    "def build_group_dictionary(anno_seq, group):\n",
    "    phase_dz = {}\n",
    "    [ phase_dz.update({phase:df}) for phase, df in anno_seq.groupby(group)]\n",
    "    return phase_dz"
   ]
  },
  {
   "cell_type": "code",
   "execution_count": 50,
   "metadata": {},
   "outputs": [
    {
     "data": {
      "text/html": [
       "<div>\n",
       "<style scoped>\n",
       "    .dataframe tbody tr th:only-of-type {\n",
       "        vertical-align: middle;\n",
       "    }\n",
       "\n",
       "    .dataframe tbody tr th {\n",
       "        vertical-align: top;\n",
       "    }\n",
       "\n",
       "    .dataframe thead th {\n",
       "        text-align: right;\n",
       "    }\n",
       "</style>\n",
       "<table border=\"1\" class=\"dataframe\">\n",
       "  <thead>\n",
       "    <tr style=\"text-align: right;\">\n",
       "      <th></th>\n",
       "      <th>seq</th>\n",
       "      <th>cb</th>\n",
       "      <th>counts</th>\n",
       "      <th>units_mnase</th>\n",
       "      <th>sort_population</th>\n",
       "    </tr>\n",
       "  </thead>\n",
       "  <tbody>\n",
       "    <tr>\n",
       "      <th>0</th>\n",
       "      <td>ACCA</td>\n",
       "      <td>PLATE-01_CCCC</td>\n",
       "      <td>1</td>\n",
       "      <td>1</td>\n",
       "      <td>G0</td>\n",
       "    </tr>\n",
       "    <tr>\n",
       "      <th>1</th>\n",
       "      <td>ACCA</td>\n",
       "      <td>PLATE-01_CCCA</td>\n",
       "      <td>1</td>\n",
       "      <td>2</td>\n",
       "      <td>G0</td>\n",
       "    </tr>\n",
       "    <tr>\n",
       "      <th>2</th>\n",
       "      <td>CAAC</td>\n",
       "      <td>PLATE-01_CCCA</td>\n",
       "      <td>2</td>\n",
       "      <td>2</td>\n",
       "      <td>G0</td>\n",
       "    </tr>\n",
       "    <tr>\n",
       "      <th>5</th>\n",
       "      <td>CCCA</td>\n",
       "      <td>PLATE-02_CCAA</td>\n",
       "      <td>3</td>\n",
       "      <td>1</td>\n",
       "      <td>G0</td>\n",
       "    </tr>\n",
       "  </tbody>\n",
       "</table>\n",
       "</div>"
      ],
      "text/plain": [
       "    seq             cb  counts  units_mnase sort_population\n",
       "0  ACCA  PLATE-01_CCCC       1            1              G0\n",
       "1  ACCA  PLATE-01_CCCA       1            2              G0\n",
       "2  CAAC  PLATE-01_CCCA       2            2              G0\n",
       "5  CCCA  PLATE-02_CCAA       3            1              G0"
      ]
     },
     "execution_count": 50,
     "metadata": {},
     "output_type": "execute_result"
    }
   ],
   "source": [
    "dz['G0']"
   ]
  },
  {
   "cell_type": "code",
   "execution_count": 68,
   "metadata": {},
   "outputs": [],
   "source": [
    "dz = build_group_dictionary(anno_seq, 'sort_population')\n",
    "assert list(dz.keys()) == ['G0', 'Interphase']\n",
    "assert (list(dz['G0'].sort_population) == ['G0']*4)\n",
    "    "
   ]
  },
  {
   "cell_type": "code",
   "execution_count": 69,
   "metadata": {},
   "outputs": [],
   "source": [
    "#| export\n",
    "def join_df_anno(df, anno_df):\n",
    "    anno_seq = df.join(anno_df.set_index('cb'), on='cb', how='inner')\n",
    "    return anno_seq"
   ]
  },
  {
   "cell_type": "code",
   "execution_count": 70,
   "metadata": {},
   "outputs": [],
   "source": [
    "\n",
    "anno_seq = join_df_anno(df,anno_df.dropna())\n",
    "assert (anno_seq.shape == (6, 5))\n"
   ]
  },
  {
   "cell_type": "code",
   "execution_count": 71,
   "metadata": {},
   "outputs": [],
   "source": [
    "#| export\n",
    "def filter_unshared_sequences(df, groups):\n",
    "    filtered = df.groupby('seq').filter(lambda x: sorted(list(x['sort_population'].unique())) == sorted(groups) )\n",
    "    return filtered"
   ]
  },
  {
   "cell_type": "code",
   "execution_count": 72,
   "metadata": {},
   "outputs": [],
   "source": [
    "filtered = filter_unshared_sequences(anno_seq, ['Interphase','G0'])\n",
    "assert (list(filtered.seq.unique()) == ['ACCA', 'CAAC'])"
   ]
  },
  {
   "cell_type": "code",
   "execution_count": 73,
   "metadata": {},
   "outputs": [],
   "source": [
    "#| export\n",
    "class AnnoSequencesCells(SequencesCells):\n",
    "    def __init__(self, df=None):\n",
    "        super().__init__(df=df)\n",
    "\n",
    "    def add_cell_anno(self, path, compression='gzip', usecols=None, dropna=False):\n",
    "        anno_df = pd.read_csv(path, compression=compression, usecols=usecols)\n",
    "        anno_df.columns = map(lambda x: x.lower(), anno_df.columns)\n",
    "        self.table = join_df_anno(self.table, anno_df)\n",
    "        if dropna:\n",
    "            self.table.dropna(inplace=True)\n",
    "        return self\n",
    "\n",
    "    def split_cells(self, by='sort_population', keep_only_common=False):\n",
    "        group_names = list(self.table[by].unique())\n",
    "        if keep_only_common:\n",
    "            self.table = filter_unshared_sequences(self.table, group_names)\n",
    "        dz = build_group_dictionary(self.table, by)    \n",
    "        self.group = dz\n",
    "        return self\n",
    "    \n",
    "    "
   ]
  },
  {
   "cell_type": "code",
   "execution_count": 74,
   "metadata": {},
   "outputs": [
    {
     "data": {
      "text/html": [
       "<div>\n",
       "<style scoped>\n",
       "    .dataframe tbody tr th:only-of-type {\n",
       "        vertical-align: middle;\n",
       "    }\n",
       "\n",
       "    .dataframe tbody tr th {\n",
       "        vertical-align: top;\n",
       "    }\n",
       "\n",
       "    .dataframe thead th {\n",
       "        text-align: right;\n",
       "    }\n",
       "</style>\n",
       "<table border=\"1\" class=\"dataframe\">\n",
       "  <thead>\n",
       "    <tr style=\"text-align: right;\">\n",
       "      <th></th>\n",
       "      <th>seq</th>\n",
       "      <th>cb</th>\n",
       "      <th>counts</th>\n",
       "    </tr>\n",
       "  </thead>\n",
       "  <tbody>\n",
       "    <tr>\n",
       "      <th>0</th>\n",
       "      <td>ACCA</td>\n",
       "      <td>PLATE-01_CCCC</td>\n",
       "      <td>1</td>\n",
       "    </tr>\n",
       "    <tr>\n",
       "      <th>1</th>\n",
       "      <td>ACCA</td>\n",
       "      <td>PLATE-01_CCCA</td>\n",
       "      <td>1</td>\n",
       "    </tr>\n",
       "    <tr>\n",
       "      <th>2</th>\n",
       "      <td>CAAC</td>\n",
       "      <td>PLATE-01_CCCA</td>\n",
       "      <td>2</td>\n",
       "    </tr>\n",
       "    <tr>\n",
       "      <th>3</th>\n",
       "      <td>ACCA</td>\n",
       "      <td>PLATE-02_CCCC</td>\n",
       "      <td>1</td>\n",
       "    </tr>\n",
       "    <tr>\n",
       "      <th>4</th>\n",
       "      <td>CAAC</td>\n",
       "      <td>PLATE-02_CCCT</td>\n",
       "      <td>2</td>\n",
       "    </tr>\n",
       "    <tr>\n",
       "      <th>5</th>\n",
       "      <td>CCCA</td>\n",
       "      <td>PLATE-02_CCAA</td>\n",
       "      <td>3</td>\n",
       "    </tr>\n",
       "  </tbody>\n",
       "</table>\n",
       "</div>"
      ],
      "text/plain": [
       "    seq             cb  counts\n",
       "0  ACCA  PLATE-01_CCCC       1\n",
       "1  ACCA  PLATE-01_CCCA       1\n",
       "2  CAAC  PLATE-01_CCCA       2\n",
       "3  ACCA  PLATE-02_CCCC       1\n",
       "4  CAAC  PLATE-02_CCCT       2\n",
       "5  CCCA  PLATE-02_CCAA       3"
      ]
     },
     "execution_count": 74,
     "metadata": {},
     "output_type": "execute_result"
    }
   ],
   "source": [
    "annseqcell = AnnoSequencesCells(df)\n",
    "annseqcell.table "
   ]
  },
  {
   "cell_type": "code",
   "execution_count": 75,
   "metadata": {},
   "outputs": [
    {
     "data": {
      "text/html": [
       "<div>\n",
       "<style scoped>\n",
       "    .dataframe tbody tr th:only-of-type {\n",
       "        vertical-align: middle;\n",
       "    }\n",
       "\n",
       "    .dataframe tbody tr th {\n",
       "        vertical-align: top;\n",
       "    }\n",
       "\n",
       "    .dataframe thead th {\n",
       "        text-align: right;\n",
       "    }\n",
       "</style>\n",
       "<table border=\"1\" class=\"dataframe\">\n",
       "  <thead>\n",
       "    <tr style=\"text-align: right;\">\n",
       "      <th></th>\n",
       "      <th>seq</th>\n",
       "      <th>cb</th>\n",
       "      <th>counts</th>\n",
       "      <th>units_mnase</th>\n",
       "      <th>sort_population</th>\n",
       "    </tr>\n",
       "  </thead>\n",
       "  <tbody>\n",
       "    <tr>\n",
       "      <th>0</th>\n",
       "      <td>ACCA</td>\n",
       "      <td>PLATE-01_CCCC</td>\n",
       "      <td>1</td>\n",
       "      <td>1</td>\n",
       "      <td>G0</td>\n",
       "    </tr>\n",
       "    <tr>\n",
       "      <th>1</th>\n",
       "      <td>ACCA</td>\n",
       "      <td>PLATE-01_CCCA</td>\n",
       "      <td>1</td>\n",
       "      <td>2</td>\n",
       "      <td>G0</td>\n",
       "    </tr>\n",
       "    <tr>\n",
       "      <th>2</th>\n",
       "      <td>CAAC</td>\n",
       "      <td>PLATE-01_CCCA</td>\n",
       "      <td>2</td>\n",
       "      <td>2</td>\n",
       "      <td>G0</td>\n",
       "    </tr>\n",
       "    <tr>\n",
       "      <th>3</th>\n",
       "      <td>ACCA</td>\n",
       "      <td>PLATE-02_CCCC</td>\n",
       "      <td>1</td>\n",
       "      <td>1</td>\n",
       "      <td>Interphase</td>\n",
       "    </tr>\n",
       "    <tr>\n",
       "      <th>4</th>\n",
       "      <td>CAAC</td>\n",
       "      <td>PLATE-02_CCCT</td>\n",
       "      <td>2</td>\n",
       "      <td>2</td>\n",
       "      <td>Interphase</td>\n",
       "    </tr>\n",
       "    <tr>\n",
       "      <th>5</th>\n",
       "      <td>CCCA</td>\n",
       "      <td>PLATE-02_CCAA</td>\n",
       "      <td>3</td>\n",
       "      <td>1</td>\n",
       "      <td>G0</td>\n",
       "    </tr>\n",
       "  </tbody>\n",
       "</table>\n",
       "</div>"
      ],
      "text/plain": [
       "    seq             cb  counts  units_mnase sort_population\n",
       "0  ACCA  PLATE-01_CCCC       1            1              G0\n",
       "1  ACCA  PLATE-01_CCCA       1            2              G0\n",
       "2  CAAC  PLATE-01_CCCA       2            2              G0\n",
       "3  ACCA  PLATE-02_CCCC       1            1      Interphase\n",
       "4  CAAC  PLATE-02_CCCT       2            2      Interphase\n",
       "5  CCCA  PLATE-02_CCAA       3            1              G0"
      ]
     },
     "execution_count": 75,
     "metadata": {},
     "output_type": "execute_result"
    }
   ],
   "source": [
    "annseqcell.add_cell_anno('./annotation.csv.gz', dropna=True)\n",
    "annseqcell.table"
   ]
  },
  {
   "cell_type": "code",
   "execution_count": 29,
   "metadata": {},
   "outputs": [],
   "source": [
    "annseqcell.split_cells(keep_only_common=True)\n",
    "assert sorted(list(annseqcell.group.keys())) == ['G0', 'Interphase']"
   ]
  },
  {
   "cell_type": "code",
   "execution_count": 31,
   "metadata": {},
   "outputs": [],
   "source": [
    "assert len(annseqcell.group['G0']) == 3"
   ]
  },
  {
   "cell_type": "code",
   "execution_count": 37,
   "metadata": {},
   "outputs": [],
   "source": [
    "assert (annseqcell[annseqcell['units_mnase']> 1]['units_mnase'] == [2]*3).all()"
   ]
  },
  {
   "cell_type": "code",
   "execution_count": null,
   "metadata": {},
   "outputs": [],
   "source": []
  }
 ],
 "metadata": {
  "kernelspec": {
   "display_name": "torch",
   "language": "python",
   "name": "seqcell"
  },
  "language_info": {
   "codemirror_mode": {
    "name": "ipython",
    "version": 3
   },
   "file_extension": ".py",
   "mimetype": "text/x-python",
   "name": "python",
   "nbconvert_exporter": "python",
   "pygments_lexer": "ipython3",
   "version": "3.7.12"
  }
 },
 "nbformat": 4,
 "nbformat_minor": 4
}
