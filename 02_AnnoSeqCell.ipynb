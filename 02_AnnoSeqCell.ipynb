{
 "cells": [
  {
   "cell_type": "markdown",
   "metadata": {},
   "source": [
    "# AnnoSeqCell class\n",
    "\n",
    "> Read table and add annotation"
   ]
  },
  {
   "cell_type": "code",
   "execution_count": null,
   "metadata": {},
   "outputs": [],
   "source": [
    "#| hide\n",
    "from nbdev import nbdev_export\n",
    "nbdev_export()"
   ]
  },
  {
   "cell_type": "code",
   "execution_count": null,
   "metadata": {},
   "outputs": [],
   "source": [
    "#| default_exp annoseqcell"
   ]
  },
  {
   "cell_type": "code",
   "execution_count": null,
   "metadata": {},
   "outputs": [],
   "source": [
    "#| export\n",
    "import numpy as np\n",
    "import pandas as pd\n",
    "import gzip\n",
    "from digestion_rates.preprocess import SequencesCells\n",
    "from pathlib import Path\n",
    "from multiprocessing import Pool"
   ]
  },
  {
   "cell_type": "markdown",
   "metadata": {},
   "source": [
    "# AnnoSeqCell class\n",
    "\n",
    "\n",
    "\n"
   ]
  },
  {
   "cell_type": "markdown",
   "metadata": {},
   "source": [
    "## Test data"
   ]
  },
  {
   "cell_type": "code",
   "execution_count": null,
   "metadata": {},
   "outputs": [
    {
     "data": {
      "text/html": [
       "<div>\n",
       "<style scoped>\n",
       "    .dataframe tbody tr th:only-of-type {\n",
       "        vertical-align: middle;\n",
       "    }\n",
       "\n",
       "    .dataframe tbody tr th {\n",
       "        vertical-align: top;\n",
       "    }\n",
       "\n",
       "    .dataframe thead th {\n",
       "        text-align: right;\n",
       "    }\n",
       "</style>\n",
       "<table border=\"1\" class=\"dataframe\">\n",
       "  <thead>\n",
       "    <tr style=\"text-align: right;\">\n",
       "      <th></th>\n",
       "      <th>seq</th>\n",
       "      <th>cb</th>\n",
       "      <th>counts</th>\n",
       "    </tr>\n",
       "  </thead>\n",
       "  <tbody>\n",
       "    <tr>\n",
       "      <th>0</th>\n",
       "      <td>ACCA</td>\n",
       "      <td>PLATE-01_CCCC</td>\n",
       "      <td>1</td>\n",
       "    </tr>\n",
       "    <tr>\n",
       "      <th>1</th>\n",
       "      <td>ACCA</td>\n",
       "      <td>PLATE-01_CCCA</td>\n",
       "      <td>1</td>\n",
       "    </tr>\n",
       "    <tr>\n",
       "      <th>2</th>\n",
       "      <td>CAAC</td>\n",
       "      <td>PLATE-01_CCCA</td>\n",
       "      <td>2</td>\n",
       "    </tr>\n",
       "    <tr>\n",
       "      <th>3</th>\n",
       "      <td>ACCA</td>\n",
       "      <td>PLATE-02_CCCC</td>\n",
       "      <td>1</td>\n",
       "    </tr>\n",
       "    <tr>\n",
       "      <th>4</th>\n",
       "      <td>CAAC</td>\n",
       "      <td>PLATE-02_CCCT</td>\n",
       "      <td>2</td>\n",
       "    </tr>\n",
       "    <tr>\n",
       "      <th>5</th>\n",
       "      <td>CCCA</td>\n",
       "      <td>PLATE-02_CCAA</td>\n",
       "      <td>3</td>\n",
       "    </tr>\n",
       "  </tbody>\n",
       "</table>\n",
       "</div>"
      ],
      "text/plain": [
       "    seq             cb  counts\n",
       "0  ACCA  PLATE-01_CCCC       1\n",
       "1  ACCA  PLATE-01_CCCA       1\n",
       "2  CAAC  PLATE-01_CCCA       2\n",
       "3  ACCA  PLATE-02_CCCC       1\n",
       "4  CAAC  PLATE-02_CCCT       2\n",
       "5  CCCA  PLATE-02_CCAA       3"
      ]
     },
     "execution_count": null,
     "metadata": {},
     "output_type": "execute_result"
    }
   ],
   "source": [
    "data = [('ACCA', 'PLATE-01_CCCC', 1), ('ACCA', 'PLATE-01_CCCA', 1), \n",
    "        ('CAAC', 'PLATE-01_CCCA', 2), ('ACCA', 'PLATE-02_CCCC', 1), \n",
    "        ('CAAC', 'PLATE-02_CCCT', 2), ('CCCA', 'PLATE-02_CCAA', 3)]\n",
    "df = pd.DataFrame(data, columns=['seq', 'cb', 'counts'])\n",
    "df"
   ]
  },
  {
   "cell_type": "code",
   "execution_count": null,
   "metadata": {},
   "outputs": [],
   "source": [
    "data = [('PLATE-01_CCCC', 1, 'G0'), ('PLATE-01_CCCA', 2, 'G0'), ('PLATE-02_CCCC', 1, 'Interphase'), \n",
    "        ('PLATE-02_CCCT', 2, 'Interphase'), ('PLATE-02_CCAA', 1,'G0')]\n",
    "anno_df = pd.DataFrame(data, columns=['cb','units_mnase','sort_population'])\n",
    "anno_df.to_csv('annotation.csv.gz', compression='gzip', index=False)"
   ]
  },
  {
   "cell_type": "code",
   "execution_count": null,
   "metadata": {},
   "outputs": [],
   "source": [
    "seqcell = SequencesCells(df)"
   ]
  },
  {
   "cell_type": "code",
   "execution_count": null,
   "metadata": {},
   "outputs": [
    {
     "data": {
      "text/html": [
       "<div>\n",
       "<style scoped>\n",
       "    .dataframe tbody tr th:only-of-type {\n",
       "        vertical-align: middle;\n",
       "    }\n",
       "\n",
       "    .dataframe tbody tr th {\n",
       "        vertical-align: top;\n",
       "    }\n",
       "\n",
       "    .dataframe thead th {\n",
       "        text-align: right;\n",
       "    }\n",
       "</style>\n",
       "<table border=\"1\" class=\"dataframe\">\n",
       "  <thead>\n",
       "    <tr style=\"text-align: right;\">\n",
       "      <th></th>\n",
       "      <th>seq</th>\n",
       "      <th>cb</th>\n",
       "      <th>counts</th>\n",
       "    </tr>\n",
       "  </thead>\n",
       "  <tbody>\n",
       "    <tr>\n",
       "      <th>0</th>\n",
       "      <td>ACCA</td>\n",
       "      <td>PLATE-01_CCCC</td>\n",
       "      <td>1</td>\n",
       "    </tr>\n",
       "    <tr>\n",
       "      <th>1</th>\n",
       "      <td>ACCA</td>\n",
       "      <td>PLATE-01_CCCA</td>\n",
       "      <td>1</td>\n",
       "    </tr>\n",
       "    <tr>\n",
       "      <th>2</th>\n",
       "      <td>CAAC</td>\n",
       "      <td>PLATE-01_CCCA</td>\n",
       "      <td>2</td>\n",
       "    </tr>\n",
       "    <tr>\n",
       "      <th>3</th>\n",
       "      <td>ACCA</td>\n",
       "      <td>PLATE-02_CCCC</td>\n",
       "      <td>1</td>\n",
       "    </tr>\n",
       "    <tr>\n",
       "      <th>4</th>\n",
       "      <td>CAAC</td>\n",
       "      <td>PLATE-02_CCCT</td>\n",
       "      <td>2</td>\n",
       "    </tr>\n",
       "    <tr>\n",
       "      <th>5</th>\n",
       "      <td>CCCA</td>\n",
       "      <td>PLATE-02_CCAA</td>\n",
       "      <td>3</td>\n",
       "    </tr>\n",
       "  </tbody>\n",
       "</table>\n",
       "</div>"
      ],
      "text/plain": [
       "    seq             cb  counts\n",
       "0  ACCA  PLATE-01_CCCC       1\n",
       "1  ACCA  PLATE-01_CCCA       1\n",
       "2  CAAC  PLATE-01_CCCA       2\n",
       "3  ACCA  PLATE-02_CCCC       1\n",
       "4  CAAC  PLATE-02_CCCT       2\n",
       "5  CCCA  PLATE-02_CCAA       3"
      ]
     },
     "execution_count": null,
     "metadata": {},
     "output_type": "execute_result"
    }
   ],
   "source": [
    "seqcell.table"
   ]
  },
  {
   "cell_type": "markdown",
   "metadata": {},
   "source": [
    "## AnnoSequencesCells"
   ]
  },
  {
   "cell_type": "code",
   "execution_count": null,
   "metadata": {},
   "outputs": [],
   "source": [
    "def build_group_dictionary(anno_seq, group):\n",
    "    phase_dz = {}\n",
    "    [ phase_dz.update({phase:df}) for phase, df in anno_seq.groupby(group)]\n",
    "    return phase_dz"
   ]
  },
  {
   "cell_type": "code",
   "execution_count": null,
   "metadata": {},
   "outputs": [],
   "source": [
    "dz = build_group_dictionary(anno_seq, 'sort_population')\n",
    "assert list(dz.keys()) == ['G0', 'Interphase']\n",
    "assert (list(dz['G0'].sort_population) == ['G0']*4)\n",
    "    "
   ]
  },
  {
   "cell_type": "code",
   "execution_count": null,
   "metadata": {},
   "outputs": [],
   "source": [
    "def join_df_anno(df, anno_df):\n",
    "    anno_seq = df.join(anno_df.set_index('cb'), on='cb')\n",
    "    return anno_seq"
   ]
  },
  {
   "cell_type": "code",
   "execution_count": null,
   "metadata": {},
   "outputs": [],
   "source": [
    "anno_seq = join_df_anno(df,anno_df)\n",
    "assert (anno_seq.shape == (6, 5))\n"
   ]
  },
  {
   "cell_type": "code",
   "execution_count": null,
   "metadata": {},
   "outputs": [],
   "source": [
    "def filter_unshared_sequences(df, groups):\n",
    "    filtered = df.groupby('seq').filter(lambda x: sorted(list(x['sort_population'].unique())) == sorted(groups) )\n",
    "    return filtered\n",
    "    \n",
    "    \n",
    "filtered = filter_unshared_sequences(anno_seq, ['Interphase','G0'])\n",
    "assert (list(filtered.seq.unique()) == ['ACCA', 'CAAC'])"
   ]
  },
  {
   "cell_type": "code",
   "execution_count": null,
   "metadata": {},
   "outputs": [
    {
     "data": {
      "text/html": [
       "<div>\n",
       "<style scoped>\n",
       "    .dataframe tbody tr th:only-of-type {\n",
       "        vertical-align: middle;\n",
       "    }\n",
       "\n",
       "    .dataframe tbody tr th {\n",
       "        vertical-align: top;\n",
       "    }\n",
       "\n",
       "    .dataframe thead th {\n",
       "        text-align: right;\n",
       "    }\n",
       "</style>\n",
       "<table border=\"1\" class=\"dataframe\">\n",
       "  <thead>\n",
       "    <tr style=\"text-align: right;\">\n",
       "      <th></th>\n",
       "      <th>seq</th>\n",
       "      <th>cb</th>\n",
       "      <th>counts</th>\n",
       "      <th>units_mnase</th>\n",
       "      <th>sort_population</th>\n",
       "    </tr>\n",
       "  </thead>\n",
       "  <tbody>\n",
       "    <tr>\n",
       "      <th>0</th>\n",
       "      <td>ACCA</td>\n",
       "      <td>PLATE-01_CCCC</td>\n",
       "      <td>1</td>\n",
       "      <td>1</td>\n",
       "      <td>G0</td>\n",
       "    </tr>\n",
       "    <tr>\n",
       "      <th>1</th>\n",
       "      <td>ACCA</td>\n",
       "      <td>PLATE-01_CCCA</td>\n",
       "      <td>1</td>\n",
       "      <td>2</td>\n",
       "      <td>G0</td>\n",
       "    </tr>\n",
       "    <tr>\n",
       "      <th>2</th>\n",
       "      <td>CAAC</td>\n",
       "      <td>PLATE-01_CCCA</td>\n",
       "      <td>2</td>\n",
       "      <td>2</td>\n",
       "      <td>G0</td>\n",
       "    </tr>\n",
       "    <tr>\n",
       "      <th>3</th>\n",
       "      <td>ACCA</td>\n",
       "      <td>PLATE-02_CCCC</td>\n",
       "      <td>1</td>\n",
       "      <td>1</td>\n",
       "      <td>Interphase</td>\n",
       "    </tr>\n",
       "    <tr>\n",
       "      <th>4</th>\n",
       "      <td>CAAC</td>\n",
       "      <td>PLATE-02_CCCT</td>\n",
       "      <td>2</td>\n",
       "      <td>2</td>\n",
       "      <td>Interphase</td>\n",
       "    </tr>\n",
       "    <tr>\n",
       "      <th>5</th>\n",
       "      <td>CCCA</td>\n",
       "      <td>PLATE-02_CCAA</td>\n",
       "      <td>3</td>\n",
       "      <td>1</td>\n",
       "      <td>G0</td>\n",
       "    </tr>\n",
       "  </tbody>\n",
       "</table>\n",
       "</div>"
      ],
      "text/plain": [
       "    seq             cb  counts  units_mnase sort_population\n",
       "0  ACCA  PLATE-01_CCCC       1            1              G0\n",
       "1  ACCA  PLATE-01_CCCA       1            2              G0\n",
       "2  CAAC  PLATE-01_CCCA       2            2              G0\n",
       "3  ACCA  PLATE-02_CCCC       1            1      Interphase\n",
       "4  CAAC  PLATE-02_CCCT       2            2      Interphase\n",
       "5  CCCA  PLATE-02_CCAA       3            1              G0"
      ]
     },
     "execution_count": null,
     "metadata": {},
     "output_type": "execute_result"
    }
   ],
   "source": [
    "anno_seq"
   ]
  },
  {
   "cell_type": "code",
   "execution_count": null,
   "metadata": {},
   "outputs": [],
   "source": [
    "#| export\n",
    "class AnnoSequencesCells(SequencesCells):\n",
    "    def __init__(self, df=None):\n",
    "        super().__init__(df=df)\n",
    "\n",
    "    def add_cell_anno(self, path, compression='gzip', usecols=None):\n",
    "        anno_df = pd.read_csv(path, compression=compression, usecols=usecols)\n",
    "        anno_df.columns = map(lambda x: x.lower(), anno_df.columns)\n",
    "        self.table = join_df_anno(self.table, anno_df)\n",
    "        return self\n",
    "\n",
    "    def split_cells(self, by='sort_population', keep_only_common=False):\n",
    "        group_names = list(self.table[by].unique())\n",
    "        if keep_only_common:\n",
    "            self.table = filter_unshared_sequences(self.table, group_names)\n",
    "        dz = build_group_dictionary(self.table, by)    \n",
    "        self.group = dz\n",
    "        return self\n",
    "        \n",
    "    "
   ]
  },
  {
   "cell_type": "code",
   "execution_count": null,
   "metadata": {},
   "outputs": [
    {
     "data": {
      "text/html": [
       "<div>\n",
       "<style scoped>\n",
       "    .dataframe tbody tr th:only-of-type {\n",
       "        vertical-align: middle;\n",
       "    }\n",
       "\n",
       "    .dataframe tbody tr th {\n",
       "        vertical-align: top;\n",
       "    }\n",
       "\n",
       "    .dataframe thead th {\n",
       "        text-align: right;\n",
       "    }\n",
       "</style>\n",
       "<table border=\"1\" class=\"dataframe\">\n",
       "  <thead>\n",
       "    <tr style=\"text-align: right;\">\n",
       "      <th></th>\n",
       "      <th>seq</th>\n",
       "      <th>cb</th>\n",
       "      <th>counts</th>\n",
       "    </tr>\n",
       "  </thead>\n",
       "  <tbody>\n",
       "    <tr>\n",
       "      <th>0</th>\n",
       "      <td>ACCA</td>\n",
       "      <td>PLATE-01_CCCC</td>\n",
       "      <td>1</td>\n",
       "    </tr>\n",
       "    <tr>\n",
       "      <th>1</th>\n",
       "      <td>ACCA</td>\n",
       "      <td>PLATE-01_CCCA</td>\n",
       "      <td>1</td>\n",
       "    </tr>\n",
       "    <tr>\n",
       "      <th>2</th>\n",
       "      <td>CAAC</td>\n",
       "      <td>PLATE-01_CCCA</td>\n",
       "      <td>2</td>\n",
       "    </tr>\n",
       "    <tr>\n",
       "      <th>3</th>\n",
       "      <td>ACCA</td>\n",
       "      <td>PLATE-02_CCCC</td>\n",
       "      <td>1</td>\n",
       "    </tr>\n",
       "    <tr>\n",
       "      <th>4</th>\n",
       "      <td>CAAC</td>\n",
       "      <td>PLATE-02_CCCT</td>\n",
       "      <td>2</td>\n",
       "    </tr>\n",
       "    <tr>\n",
       "      <th>5</th>\n",
       "      <td>CCCA</td>\n",
       "      <td>PLATE-02_CCAA</td>\n",
       "      <td>3</td>\n",
       "    </tr>\n",
       "  </tbody>\n",
       "</table>\n",
       "</div>"
      ],
      "text/plain": [
       "    seq             cb  counts\n",
       "0  ACCA  PLATE-01_CCCC       1\n",
       "1  ACCA  PLATE-01_CCCA       1\n",
       "2  CAAC  PLATE-01_CCCA       2\n",
       "3  ACCA  PLATE-02_CCCC       1\n",
       "4  CAAC  PLATE-02_CCCT       2\n",
       "5  CCCA  PLATE-02_CCAA       3"
      ]
     },
     "execution_count": null,
     "metadata": {},
     "output_type": "execute_result"
    }
   ],
   "source": [
    "annseqcell = AnnoSequencesCells(df)\n",
    "annseqcell.table"
   ]
  },
  {
   "cell_type": "code",
   "execution_count": null,
   "metadata": {},
   "outputs": [
    {
     "data": {
      "text/html": [
       "<div>\n",
       "<style scoped>\n",
       "    .dataframe tbody tr th:only-of-type {\n",
       "        vertical-align: middle;\n",
       "    }\n",
       "\n",
       "    .dataframe tbody tr th {\n",
       "        vertical-align: top;\n",
       "    }\n",
       "\n",
       "    .dataframe thead th {\n",
       "        text-align: right;\n",
       "    }\n",
       "</style>\n",
       "<table border=\"1\" class=\"dataframe\">\n",
       "  <thead>\n",
       "    <tr style=\"text-align: right;\">\n",
       "      <th></th>\n",
       "      <th>seq</th>\n",
       "      <th>cb</th>\n",
       "      <th>counts</th>\n",
       "      <th>units_mnase</th>\n",
       "      <th>sort_population</th>\n",
       "    </tr>\n",
       "  </thead>\n",
       "  <tbody>\n",
       "    <tr>\n",
       "      <th>0</th>\n",
       "      <td>ACCA</td>\n",
       "      <td>PLATE-01_CCCC</td>\n",
       "      <td>1</td>\n",
       "      <td>1</td>\n",
       "      <td>G0</td>\n",
       "    </tr>\n",
       "    <tr>\n",
       "      <th>1</th>\n",
       "      <td>ACCA</td>\n",
       "      <td>PLATE-01_CCCA</td>\n",
       "      <td>1</td>\n",
       "      <td>2</td>\n",
       "      <td>G0</td>\n",
       "    </tr>\n",
       "    <tr>\n",
       "      <th>2</th>\n",
       "      <td>CAAC</td>\n",
       "      <td>PLATE-01_CCCA</td>\n",
       "      <td>2</td>\n",
       "      <td>2</td>\n",
       "      <td>G0</td>\n",
       "    </tr>\n",
       "    <tr>\n",
       "      <th>3</th>\n",
       "      <td>ACCA</td>\n",
       "      <td>PLATE-02_CCCC</td>\n",
       "      <td>1</td>\n",
       "      <td>1</td>\n",
       "      <td>Interphase</td>\n",
       "    </tr>\n",
       "    <tr>\n",
       "      <th>4</th>\n",
       "      <td>CAAC</td>\n",
       "      <td>PLATE-02_CCCT</td>\n",
       "      <td>2</td>\n",
       "      <td>2</td>\n",
       "      <td>Interphase</td>\n",
       "    </tr>\n",
       "    <tr>\n",
       "      <th>5</th>\n",
       "      <td>CCCA</td>\n",
       "      <td>PLATE-02_CCAA</td>\n",
       "      <td>3</td>\n",
       "      <td>1</td>\n",
       "      <td>G0</td>\n",
       "    </tr>\n",
       "  </tbody>\n",
       "</table>\n",
       "</div>"
      ],
      "text/plain": [
       "    seq             cb  counts  units_mnase sort_population\n",
       "0  ACCA  PLATE-01_CCCC       1            1              G0\n",
       "1  ACCA  PLATE-01_CCCA       1            2              G0\n",
       "2  CAAC  PLATE-01_CCCA       2            2              G0\n",
       "3  ACCA  PLATE-02_CCCC       1            1      Interphase\n",
       "4  CAAC  PLATE-02_CCCT       2            2      Interphase\n",
       "5  CCCA  PLATE-02_CCAA       3            1              G0"
      ]
     },
     "execution_count": null,
     "metadata": {},
     "output_type": "execute_result"
    }
   ],
   "source": [
    "annseqcell.add_cell_anno('./annotation.csv.gz')\n",
    "annseqcell.table"
   ]
  },
  {
   "cell_type": "code",
   "execution_count": null,
   "metadata": {},
   "outputs": [
    {
     "data": {
      "text/plain": [
       "dict_keys(['G0', 'Interphase'])"
      ]
     },
     "execution_count": null,
     "metadata": {},
     "output_type": "execute_result"
    }
   ],
   "source": [
    "annseqcell.split_cells(keep_only_common=True)\n",
    "annseqcell.group.keys()"
   ]
  },
  {
   "cell_type": "code",
   "execution_count": null,
   "metadata": {},
   "outputs": [
    {
     "data": {
      "text/html": [
       "<div>\n",
       "<style scoped>\n",
       "    .dataframe tbody tr th:only-of-type {\n",
       "        vertical-align: middle;\n",
       "    }\n",
       "\n",
       "    .dataframe tbody tr th {\n",
       "        vertical-align: top;\n",
       "    }\n",
       "\n",
       "    .dataframe thead th {\n",
       "        text-align: right;\n",
       "    }\n",
       "</style>\n",
       "<table border=\"1\" class=\"dataframe\">\n",
       "  <thead>\n",
       "    <tr style=\"text-align: right;\">\n",
       "      <th></th>\n",
       "      <th>seq</th>\n",
       "      <th>cb</th>\n",
       "      <th>counts</th>\n",
       "      <th>units_mnase</th>\n",
       "      <th>sort_population</th>\n",
       "    </tr>\n",
       "  </thead>\n",
       "  <tbody>\n",
       "    <tr>\n",
       "      <th>3</th>\n",
       "      <td>ACCA</td>\n",
       "      <td>PLATE-02_CCCC</td>\n",
       "      <td>1</td>\n",
       "      <td>1</td>\n",
       "      <td>Interphase</td>\n",
       "    </tr>\n",
       "    <tr>\n",
       "      <th>4</th>\n",
       "      <td>CAAC</td>\n",
       "      <td>PLATE-02_CCCT</td>\n",
       "      <td>2</td>\n",
       "      <td>2</td>\n",
       "      <td>Interphase</td>\n",
       "    </tr>\n",
       "  </tbody>\n",
       "</table>\n",
       "</div>"
      ],
      "text/plain": [
       "    seq             cb  counts  units_mnase sort_population\n",
       "3  ACCA  PLATE-02_CCCC       1            1      Interphase\n",
       "4  CAAC  PLATE-02_CCCT       2            2      Interphase"
      ]
     },
     "execution_count": null,
     "metadata": {},
     "output_type": "execute_result"
    }
   ],
   "source": [
    "annseqcell.group['Interphase']"
   ]
  },
  {
   "cell_type": "code",
   "execution_count": null,
   "metadata": {},
   "outputs": [
    {
     "data": {
      "text/html": [
       "<div>\n",
       "<style scoped>\n",
       "    .dataframe tbody tr th:only-of-type {\n",
       "        vertical-align: middle;\n",
       "    }\n",
       "\n",
       "    .dataframe tbody tr th {\n",
       "        vertical-align: top;\n",
       "    }\n",
       "\n",
       "    .dataframe thead th {\n",
       "        text-align: right;\n",
       "    }\n",
       "</style>\n",
       "<table border=\"1\" class=\"dataframe\">\n",
       "  <thead>\n",
       "    <tr style=\"text-align: right;\">\n",
       "      <th></th>\n",
       "      <th>cb</th>\n",
       "      <th>units_mnase</th>\n",
       "      <th>sort_population</th>\n",
       "    </tr>\n",
       "  </thead>\n",
       "  <tbody>\n",
       "    <tr>\n",
       "      <th>0</th>\n",
       "      <td>RPMD1-03_AACAGCAATG</td>\n",
       "      <td>25.000000</td>\n",
       "      <td>Interphase</td>\n",
       "    </tr>\n",
       "    <tr>\n",
       "      <th>1</th>\n",
       "      <td>RPMD1-03_AACCACGTCA</td>\n",
       "      <td>0.390625</td>\n",
       "      <td>Interphase</td>\n",
       "    </tr>\n",
       "    <tr>\n",
       "      <th>2</th>\n",
       "      <td>RPMD1-03_AACCGTAACA</td>\n",
       "      <td>0.048828</td>\n",
       "      <td>Interphase</td>\n",
       "    </tr>\n",
       "    <tr>\n",
       "      <th>3</th>\n",
       "      <td>RPMD1-03_AACCTAGACG</td>\n",
       "      <td>0.000000</td>\n",
       "      <td>Interphase</td>\n",
       "    </tr>\n",
       "    <tr>\n",
       "      <th>4</th>\n",
       "      <td>RPMD1-03_AACGCGGTAG</td>\n",
       "      <td>0.000000</td>\n",
       "      <td>Interphase</td>\n",
       "    </tr>\n",
       "    <tr>\n",
       "      <th>...</th>\n",
       "      <td>...</td>\n",
       "      <td>...</td>\n",
       "      <td>...</td>\n",
       "    </tr>\n",
       "    <tr>\n",
       "      <th>6126</th>\n",
       "      <td>RPMD1-18_TTGGTGTGTC</td>\n",
       "      <td>0.048828</td>\n",
       "      <td>G0</td>\n",
       "    </tr>\n",
       "    <tr>\n",
       "      <th>6127</th>\n",
       "      <td>RPMD1-18_TTGTCTCTAC</td>\n",
       "      <td>0.012207</td>\n",
       "      <td>Mit</td>\n",
       "    </tr>\n",
       "    <tr>\n",
       "      <th>6128</th>\n",
       "      <td>RPMD1-18_TTGTGCTTGG</td>\n",
       "      <td>0.000000</td>\n",
       "      <td>Mit</td>\n",
       "    </tr>\n",
       "    <tr>\n",
       "      <th>6129</th>\n",
       "      <td>RPMD1-18_TTGTTCGTGT</td>\n",
       "      <td>25.000000</td>\n",
       "      <td>Interphase</td>\n",
       "    </tr>\n",
       "    <tr>\n",
       "      <th>6130</th>\n",
       "      <td>RPMD1-18_TTGTTGAGTG</td>\n",
       "      <td>0.390625</td>\n",
       "      <td>G0</td>\n",
       "    </tr>\n",
       "  </tbody>\n",
       "</table>\n",
       "<p>6131 rows × 3 columns</p>\n",
       "</div>"
      ],
      "text/plain": [
       "                       cb  units_mnase sort_population\n",
       "0     RPMD1-03_AACAGCAATG    25.000000      Interphase\n",
       "1     RPMD1-03_AACCACGTCA     0.390625      Interphase\n",
       "2     RPMD1-03_AACCGTAACA     0.048828      Interphase\n",
       "3     RPMD1-03_AACCTAGACG     0.000000      Interphase\n",
       "4     RPMD1-03_AACGCGGTAG     0.000000      Interphase\n",
       "...                   ...          ...             ...\n",
       "6126  RPMD1-18_TTGGTGTGTC     0.048828              G0\n",
       "6127  RPMD1-18_TTGTCTCTAC     0.012207             Mit\n",
       "6128  RPMD1-18_TTGTGCTTGG     0.000000             Mit\n",
       "6129  RPMD1-18_TTGTTCGTGT    25.000000      Interphase\n",
       "6130  RPMD1-18_TTGTTGAGTG     0.390625              G0\n",
       "\n",
       "[6131 rows x 3 columns]"
      ]
     },
     "execution_count": null,
     "metadata": {},
     "output_type": "execute_result"
    }
   ],
   "source": [
    "df = pd.read_csv('../RPMD1/meta_data/cell_annotations.csv.gz', compression='gzip', usecols=['CB', 'units_mnase', 'sort_population'])\n",
    "df.columns = map(lambda x: x.lower(), df.columns)\n",
    "df"
   ]
  },
  {
   "cell_type": "code",
   "execution_count": null,
   "metadata": {},
   "outputs": [],
   "source": []
  }
 ],
 "metadata": {
  "kernelspec": {
   "display_name": "fastqtables",
   "language": "python",
   "name": "fastqtables"
  }
 },
 "nbformat": 4,
 "nbformat_minor": 4
}
