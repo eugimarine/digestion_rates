{
 "cells": [
  {
   "cell_type": "markdown",
   "metadata": {},
   "source": [
    "# Main notebook\n",
    "\n",
    "> Process data"
   ]
  },
  {
   "cell_type": "markdown",
   "metadata": {},
   "source": [
    "# Main"
   ]
  },
  {
   "cell_type": "code",
   "execution_count": null,
   "metadata": {},
   "outputs": [],
   "source": []
  },
  {
   "cell_type": "code",
   "execution_count": null,
   "metadata": {},
   "outputs": [],
   "source": [
    "#| default_exp main_export_tables"
   ]
  },
  {
   "cell_type": "code",
   "execution_count": 1,
   "metadata": {},
   "outputs": [],
   "source": [
    "# | export\n",
    "from digestion_rates.fastq_reader import SequencesCells, FastQ\n",
    "import sys\n",
    "import glob"
   ]
  },
  {
   "cell_type": "code",
   "execution_count": 2,
   "metadata": {},
   "outputs": [
    {
     "name": "stdout",
     "output_type": "stream",
     "text": [
      "['./test2-RPMD1-01_R1.trimmed.fastq.gz', './test2-RPMD1-02_R1.trimmed.fastq.gz']\n"
     ]
    }
   ],
   "source": [
    "plates = None\n",
    "file_list = glob.glob('.'+'/test2-*.fastq.gz')\n",
    "print(file_list)\n",
    "    "
   ]
  },
  {
   "cell_type": "code",
   "execution_count": 9,
   "metadata": {},
   "outputs": [
    {
     "name": "stdout",
     "output_type": "stream",
     "text": [
      "plate ./test2-RPMD1-01_R1.trimmed.fastq.gz\n",
      "\n",
      "Index             190\n",
      "RPMD1-01_NTGCB     24\n",
      "RPMD1-01_GTNCB     24\n",
      "RPMD1-01_ACNCB     24\n",
      "dtype: int64\n",
      "plate ./test2-RPMD1-02_R1.trimmed.fastq.gz\n",
      "\n",
      "Index             124\n",
      "RPMD1-02_NTGCB     16\n",
      "RPMD1-02_GTNCB     16\n",
      "RPMD1-02_ACNCB     16\n",
      "dtype: int64\n"
     ]
    }
   ],
   "source": [
    "for f in file_list:\n",
    "    plate = FastQ(f).parse_file()\n",
    "    print('plate '+f+'\\n')\n",
    "    print(plate.table.memory_usage(deep=True))\n",
    "    if plates is None:\n",
    "        plates = plate\n",
    "        continue\n",
    "    plates.join_plate(plate)"
   ]
  },
  {
   "cell_type": "code",
   "execution_count": 8,
   "metadata": {},
   "outputs": [
    {
     "data": {
      "text/plain": [
       "Index             124\n",
       "RPMD1-01_NTGCB     16\n",
       "RPMD1-01_GTNCB     16\n",
       "RPMD1-01_ACNCB     16\n",
       "RPMD1-02_NTGCB     16\n",
       "RPMD1-02_GTNCB     16\n",
       "RPMD1-02_ACNCB     16\n",
       "dtype: int64"
      ]
     },
     "execution_count": 8,
     "metadata": {},
     "output_type": "execute_result"
    }
   ],
   "source": [
    "plates.table.memory_usage(deep=True)\n"
   ]
  },
  {
   "cell_type": "code",
   "execution_count": null,
   "metadata": {},
   "outputs": [],
   "source": [
    "plates.table.to_csv('./output_main.csv.gz', index_label='sequence',compression='gzip')"
   ]
  },
  {
   "cell_type": "code",
   "execution_count": null,
   "metadata": {},
   "outputs": [
    {
     "data": {
      "text/html": [
       "<div>\n",
       "<style scoped>\n",
       "    .dataframe tbody tr th:only-of-type {\n",
       "        vertical-align: middle;\n",
       "    }\n",
       "\n",
       "    .dataframe tbody tr th {\n",
       "        vertical-align: top;\n",
       "    }\n",
       "\n",
       "    .dataframe thead th {\n",
       "        text-align: right;\n",
       "    }\n",
       "</style>\n",
       "<table border=\"1\" class=\"dataframe\">\n",
       "  <thead>\n",
       "    <tr style=\"text-align: right;\">\n",
       "      <th></th>\n",
       "      <th>RPMD1-01_NTGCB</th>\n",
       "      <th>RPMD1-01_GTNCB</th>\n",
       "      <th>RPMD1-02_NTGCB</th>\n",
       "      <th>RPMD1-02_GTNCB</th>\n",
       "    </tr>\n",
       "    <tr>\n",
       "      <th>sequence</th>\n",
       "      <th></th>\n",
       "      <th></th>\n",
       "      <th></th>\n",
       "      <th></th>\n",
       "    </tr>\n",
       "  </thead>\n",
       "  <tbody>\n",
       "    <tr>\n",
       "      <th>CTCTGA</th>\n",
       "      <td>2</td>\n",
       "      <td>1</td>\n",
       "      <td>2.0</td>\n",
       "      <td>1.0</td>\n",
       "    </tr>\n",
       "  </tbody>\n",
       "</table>\n",
       "</div>"
      ],
      "text/plain": [
       "          RPMD1-01_NTGCB  RPMD1-01_GTNCB  RPMD1-02_NTGCB  RPMD1-02_GTNCB\n",
       "sequence                                                                \n",
       "CTCTGA                 2               1             2.0             1.0"
      ]
     },
     "execution_count": null,
     "metadata": {},
     "output_type": "execute_result"
    }
   ],
   "source": [
    "import pandas as pd\n",
    "pd.read_csv('./output_main.csv.gz', index_col=0, compression='gzip')"
   ]
  },
  {
   "cell_type": "code",
   "execution_count": null,
   "metadata": {},
   "outputs": [],
   "source": [
    "#| export\n",
    "def main():\n",
    "    input_path = sys.argv[1]\n",
    "    output_path = sys.argv[2]\n",
    "    plates = None\n",
    "    for f in glob.glob(input_path+'/*.fastq.gz'):\n",
    "        plate = FastQ(f).parse_file()\n",
    "        if plates is None:\n",
    "            plates = plate\n",
    "            continue\n",
    "        plates.join_plate(plate)\n",
    "    plates.table.to_csv(output_path, index_label='sequence', compression='gzip')\n",
    "    \n",
    "    \n",
    "    \n",
    "    \n",
    "if __name__ == '__main__':\n",
    "    main()"
   ]
  }
 ],
 "metadata": {
  "kernelspec": {
   "display_name": "digrates",
   "language": "python",
   "name": "digrates"
  },
  "language_info": {
   "codemirror_mode": {
    "name": "ipython",
    "version": 3
   },
   "file_extension": ".py",
   "mimetype": "text/x-python",
   "name": "python",
   "nbconvert_exporter": "python",
   "pygments_lexer": "ipython3",
   "version": "3.7.12"
  }
 },
 "nbformat": 4,
 "nbformat_minor": 4
}
