{
 "cells": [
  {
   "cell_type": "markdown",
   "metadata": {},
   "source": [
    "# Bootstrap tools\n",
    "\n",
    "> Bootstrap cells from seq cell dataframe"
   ]
  },
  {
   "cell_type": "code",
   "execution_count": null,
   "metadata": {},
   "outputs": [],
   "source": [
    "#| default_exp bootstrap_tools"
   ]
  },
  {
   "cell_type": "code",
   "execution_count": 107,
   "metadata": {},
   "outputs": [],
   "source": [
    "#| hide\n",
    "import nbdev; nbdev.nbdev_export()"
   ]
  },
  {
   "cell_type": "markdown",
   "metadata": {},
   "source": [
    "# Import"
   ]
  },
  {
   "cell_type": "code",
   "execution_count": 45,
   "metadata": {},
   "outputs": [],
   "source": [
    "# | export \n",
    "\n",
    "import pandas as pd\n",
    "import numpy as np\n",
    "from scipy.signal import correlate"
   ]
  },
  {
   "cell_type": "code",
   "execution_count": null,
   "metadata": {},
   "outputs": [],
   "source": []
  },
  {
   "cell_type": "markdown",
   "metadata": {},
   "source": [
    "# Data Test"
   ]
  },
  {
   "cell_type": "code",
   "execution_count": null,
   "metadata": {},
   "outputs": [],
   "source": []
  },
  {
   "cell_type": "code",
   "execution_count": 46,
   "metadata": {},
   "outputs": [
    {
     "data": {
      "text/html": [
       "<div>\n",
       "<style scoped>\n",
       "    .dataframe tbody tr th:only-of-type {\n",
       "        vertical-align: middle;\n",
       "    }\n",
       "\n",
       "    .dataframe tbody tr th {\n",
       "        vertical-align: top;\n",
       "    }\n",
       "\n",
       "    .dataframe thead th {\n",
       "        text-align: right;\n",
       "    }\n",
       "</style>\n",
       "<table border=\"1\" class=\"dataframe\">\n",
       "  <thead>\n",
       "    <tr style=\"text-align: right;\">\n",
       "      <th></th>\n",
       "      <th>seq</th>\n",
       "      <th>cb_encode</th>\n",
       "      <th>counts</th>\n",
       "      <th>sort_population</th>\n",
       "      <th>log_units_mnase</th>\n",
       "    </tr>\n",
       "  </thead>\n",
       "  <tbody>\n",
       "    <tr>\n",
       "      <th>0</th>\n",
       "      <td>ACCA</td>\n",
       "      <td>1</td>\n",
       "      <td>1</td>\n",
       "      <td>0</td>\n",
       "      <td>-1</td>\n",
       "    </tr>\n",
       "    <tr>\n",
       "      <th>1</th>\n",
       "      <td>ACCA</td>\n",
       "      <td>2</td>\n",
       "      <td>1</td>\n",
       "      <td>1</td>\n",
       "      <td>-1</td>\n",
       "    </tr>\n",
       "    <tr>\n",
       "      <th>2</th>\n",
       "      <td>CAAC</td>\n",
       "      <td>1</td>\n",
       "      <td>2</td>\n",
       "      <td>0</td>\n",
       "      <td>-2</td>\n",
       "    </tr>\n",
       "    <tr>\n",
       "      <th>3</th>\n",
       "      <td>ACCA</td>\n",
       "      <td>3</td>\n",
       "      <td>4</td>\n",
       "      <td>1</td>\n",
       "      <td>-1</td>\n",
       "    </tr>\n",
       "    <tr>\n",
       "      <th>4</th>\n",
       "      <td>CAAC</td>\n",
       "      <td>2</td>\n",
       "      <td>2</td>\n",
       "      <td>1</td>\n",
       "      <td>-2</td>\n",
       "    </tr>\n",
       "    <tr>\n",
       "      <th>5</th>\n",
       "      <td>CCCA</td>\n",
       "      <td>3</td>\n",
       "      <td>3</td>\n",
       "      <td>1</td>\n",
       "      <td>-2</td>\n",
       "    </tr>\n",
       "  </tbody>\n",
       "</table>\n",
       "</div>"
      ],
      "text/plain": [
       "    seq  cb_encode  counts  sort_population  log_units_mnase\n",
       "0  ACCA          1       1                0               -1\n",
       "1  ACCA          2       1                1               -1\n",
       "2  CAAC          1       2                0               -2\n",
       "3  ACCA          3       4                1               -1\n",
       "4  CAAC          2       2                1               -2\n",
       "5  CCCA          3       3                1               -2"
      ]
     },
     "execution_count": 46,
     "metadata": {},
     "output_type": "execute_result"
    }
   ],
   "source": [
    "data = [('ACCA', 1, 1, 0, -1), ('ACCA', 2, 1, 1,-1), \n",
    "        ('CAAC', 1, 2, 0,-2), ('ACCA', 3, 4, 1,-1), \n",
    "        ('CAAC', 2, 2, 1,-2), ('CCCA', 3, 3, 1, -2)]\n",
    "df = pd.DataFrame(data, columns=['seq', 'cb_encode', 'counts', 'sort_population', 'log_units_mnase'])\n",
    "df"
   ]
  },
  {
   "cell_type": "markdown",
   "metadata": {},
   "source": [
    "# Functions"
   ]
  },
  {
   "cell_type": "code",
   "execution_count": 47,
   "metadata": {},
   "outputs": [],
   "source": [
    "# | export \n",
    "\n",
    "def sample_cells(df, n_sample):\n",
    "    selected_cells = np.random.choice(df.cb_encode.unique(), size=n_sample)\n",
    "    subsampled_df = df.set_index('cb_encode').loc[selected_cells,:].reset_index()\n",
    "    return subsampled_df\n"
   ]
  },
  {
   "cell_type": "code",
   "execution_count": 48,
   "metadata": {},
   "outputs": [],
   "source": [
    "b = sample_cells(df, 2)\n",
    "assert len(b['cb_encode'].unique()) <= 2"
   ]
  },
  {
   "cell_type": "code",
   "execution_count": 49,
   "metadata": {},
   "outputs": [],
   "source": [
    "# | export\n",
    "\n",
    "def digestion_profile_matrix(df, aggregation='mean'):\n",
    "    averages = df.groupby(['seq','log_units_mnase']).aggregate(aggregation).reset_index()\n",
    "    averages = averages.sort_values('log_units_mnase').reset_index(drop=True)\n",
    "    dig_matrix = averages.pivot(index='seq', columns='log_units_mnase', values='counts').fillna(0)\n",
    "    return dig_matrix\n"
   ]
  },
  {
   "cell_type": "code",
   "execution_count": 50,
   "metadata": {},
   "outputs": [],
   "source": [
    "dig = digestion_profile_matrix(df)\n",
    "assert (dig.values == np.array([[0.0,2.0],[2.0,0.0],[3.0,0.0]])).all()"
   ]
  },
  {
   "cell_type": "code",
   "execution_count": 66,
   "metadata": {},
   "outputs": [
    {
     "data": {
      "text/html": [
       "<div>\n",
       "<style scoped>\n",
       "    .dataframe tbody tr th:only-of-type {\n",
       "        vertical-align: middle;\n",
       "    }\n",
       "\n",
       "    .dataframe tbody tr th {\n",
       "        vertical-align: top;\n",
       "    }\n",
       "\n",
       "    .dataframe thead th {\n",
       "        text-align: right;\n",
       "    }\n",
       "</style>\n",
       "<table border=\"1\" class=\"dataframe\">\n",
       "  <thead>\n",
       "    <tr style=\"text-align: right;\">\n",
       "      <th>log_units_mnase</th>\n",
       "      <th>-2</th>\n",
       "      <th>-1</th>\n",
       "    </tr>\n",
       "    <tr>\n",
       "      <th>seq</th>\n",
       "      <th></th>\n",
       "      <th></th>\n",
       "    </tr>\n",
       "  </thead>\n",
       "  <tbody>\n",
       "    <tr>\n",
       "      <th>ACCA</th>\n",
       "      <td>0.0</td>\n",
       "      <td>2.0</td>\n",
       "    </tr>\n",
       "    <tr>\n",
       "      <th>CAAC</th>\n",
       "      <td>2.0</td>\n",
       "      <td>0.0</td>\n",
       "    </tr>\n",
       "    <tr>\n",
       "      <th>CCCA</th>\n",
       "      <td>3.0</td>\n",
       "      <td>0.0</td>\n",
       "    </tr>\n",
       "  </tbody>\n",
       "</table>\n",
       "</div>"
      ],
      "text/plain": [
       "log_units_mnase   -2   -1\n",
       "seq                      \n",
       "ACCA             0.0  2.0\n",
       "CAAC             2.0  0.0\n",
       "CCCA             3.0  0.0"
      ]
     },
     "execution_count": 66,
     "metadata": {},
     "output_type": "execute_result"
    }
   ],
   "source": [
    "dig"
   ]
  },
  {
   "cell_type": "code",
   "execution_count": 69,
   "metadata": {},
   "outputs": [],
   "source": [
    "# | export \n",
    "\n",
    "def bootstrap_population(seqcell, pop, samples_bootstrap):\n",
    "    all_g0 = seqcell.loc[seqcell['sort_population']==pop]\n",
    "    g0_boot = sample_cells(all_g0, samples_bootstrap)\n",
    "    g0_digprof = digestion_profile_matrix(g0_boot)\n",
    "    return g0_digprof"
   ]
  },
  {
   "cell_type": "code",
   "execution_count": 51,
   "metadata": {
    "tags": []
   },
   "outputs": [],
   "source": [
    "# | export\n",
    "\n",
    "def correlate_sequence(row, other, seq_name):\n",
    "    try:\n",
    "        other_row = other.loc[seq_name, :]\n",
    "        cc = correlate(row, other_row, \"full\")\n",
    "        return cc\n",
    "    except KeyError:\n",
    "        return np.array([np.nan] * 27)"
   ]
  },
  {
   "cell_type": "code",
   "execution_count": 59,
   "metadata": {},
   "outputs": [],
   "source": [
    "row = dig.loc['ACCA']\n",
    "other = dig\n",
    "c = correlate_sequence(row, other, 'CAAC')\n",
    "assert c.max() == 4\n",
    "assert c.argmax() == 2"
   ]
  },
  {
   "cell_type": "code",
   "execution_count": 64,
   "metadata": {},
   "outputs": [],
   "source": [
    "# | export\n",
    "\n",
    "def cross_correlation_on_all_sequences(g0_profile, inter_profile):\n",
    "    corr_df_shape = (g0_profile.shape[0], g0_profile.shape[1]*2-1)\n",
    "    range_values = (-1*(g0_profile.shape[1]-1), g0_profile.shape[1] )\n",
    "    corr_df = pd.DataFrame(np.zeros(corr_df_shape), index=g0_profile.index, columns=list(range(*range_values)))\n",
    "\n",
    "    for nm,row in g0_profile.iterrows():\n",
    "        corr = correlate_sequence(row, inter_profile, nm)\n",
    "        corr_df.loc[nm, :] = corr\n",
    "    corr_df = corr_df.dropna()\n",
    "    return corr_df\n"
   ]
  },
  {
   "cell_type": "code",
   "execution_count": 68,
   "metadata": {},
   "outputs": [],
   "source": [
    "corr_df = cross_correlation_on_all_sequences(dig, dig)\n",
    "assert (corr_df.loc[:, -1] == corr_df.loc[:, 1]).all()\n",
    "assert (corr_df.loc[:, 0].values == np.array([4,4,9])).all()"
   ]
  },
  {
   "cell_type": "code",
   "execution_count": 71,
   "metadata": {},
   "outputs": [
    {
     "data": {
      "text/html": [
       "<div>\n",
       "<style scoped>\n",
       "    .dataframe tbody tr th:only-of-type {\n",
       "        vertical-align: middle;\n",
       "    }\n",
       "\n",
       "    .dataframe tbody tr th {\n",
       "        vertical-align: top;\n",
       "    }\n",
       "\n",
       "    .dataframe thead th {\n",
       "        text-align: right;\n",
       "    }\n",
       "</style>\n",
       "<table border=\"1\" class=\"dataframe\">\n",
       "  <thead>\n",
       "    <tr style=\"text-align: right;\">\n",
       "      <th></th>\n",
       "      <th>-1</th>\n",
       "      <th>0</th>\n",
       "      <th>1</th>\n",
       "    </tr>\n",
       "    <tr>\n",
       "      <th>seq</th>\n",
       "      <th></th>\n",
       "      <th></th>\n",
       "      <th></th>\n",
       "    </tr>\n",
       "  </thead>\n",
       "  <tbody>\n",
       "    <tr>\n",
       "      <th>ACCA</th>\n",
       "      <td>0.0</td>\n",
       "      <td>4.0</td>\n",
       "      <td>0.0</td>\n",
       "    </tr>\n",
       "    <tr>\n",
       "      <th>CAAC</th>\n",
       "      <td>0.0</td>\n",
       "      <td>4.0</td>\n",
       "      <td>0.0</td>\n",
       "    </tr>\n",
       "    <tr>\n",
       "      <th>CCCA</th>\n",
       "      <td>0.0</td>\n",
       "      <td>9.0</td>\n",
       "      <td>0.0</td>\n",
       "    </tr>\n",
       "  </tbody>\n",
       "</table>\n",
       "</div>"
      ],
      "text/plain": [
       "       -1    0    1\n",
       "seq                \n",
       "ACCA  0.0  4.0  0.0\n",
       "CAAC  0.0  4.0  0.0\n",
       "CCCA  0.0  9.0  0.0"
      ]
     },
     "execution_count": 71,
     "metadata": {},
     "output_type": "execute_result"
    }
   ],
   "source": [
    "corr_df"
   ]
  },
  {
   "cell_type": "code",
   "execution_count": 73,
   "metadata": {},
   "outputs": [],
   "source": [
    "# | export \n",
    "\n",
    "def average_results_bootstrap(cross_correlations):\n",
    "    cat_correlations = pd.concat(cross_correlations, axis=0, join='inner')\n",
    "    mean_cc = cat_correlations.groupby(cat_correlations.index).mean()\n",
    "    se_cc = cat_correlations.groupby(cat_correlations.index).sem()\n",
    "    max_cc = mean_cc.idxmax(axis = 1)\n",
    "    return mean_cc, se_cc, max_cc"
   ]
  },
  {
   "cell_type": "code",
   "execution_count": 81,
   "metadata": {},
   "outputs": [],
   "source": [
    "corr_df2 = corr_df.copy()\n",
    "corr_df2.loc[:,1] = [2.,2.,4.]\n",
    "cross_correlations = [corr_df, corr_df2]\n",
    "mean_cc, se_cc, max_cc = average_results_bootstrap(cross_correlations)\n",
    "assert (mean_cc.loc[:, 1] == np.array([1,1,2])).all()\n",
    "assert (max_cc == 0).all()"
   ]
  },
  {
   "cell_type": "code",
   "execution_count": 103,
   "metadata": {},
   "outputs": [],
   "source": [
    "# | export \n",
    "\n",
    "def single_iteration_bootstrap_cc(seqcell, populations, samples_bootstrap):\n",
    "    g0_digprof = bootstrap_population(seqcell, populations[0], samples_bootstrap)\n",
    "    inter_digprof = bootstrap_population(seqcell, populations[1], samples_bootstrap)\n",
    "    cc = cross_correlation_on_all_sequences(g0_digprof, inter_digprof)\n",
    "    return cc\n"
   ]
  },
  {
   "cell_type": "code",
   "execution_count": 105,
   "metadata": {},
   "outputs": [],
   "source": [
    "b = single_iteration_bootstrap_cc(df, [0,1],100)\n",
    "assert (b.loc[:, -1] == b.loc[:, 1]).all()"
   ]
  },
  {
   "cell_type": "code",
   "execution_count": 41,
   "metadata": {},
   "outputs": [],
   "source": [
    "# | export \n",
    "\n",
    "def iter_bootstrap_cc(seqcell, populations= [0,1], samples_bootstrap=200, n_iter=100):    \n",
    "    cross_correlations = []\n",
    "\n",
    "    for _ in range(n_iter):\n",
    "        cc = single_iteration_bootstrap_cc(seqcell, populations, samples_bootstrap)\n",
    "        cross_correlations.append(cc)\n",
    "\n",
    "    mean_cc, se_cc, max_cc = average_results_bootstrap(cross_correlations)\n",
    "    return mean_cc, se_cc, max_cc"
   ]
  },
  {
   "cell_type": "code",
   "execution_count": null,
   "metadata": {},
   "outputs": [],
   "source": []
  }
 ],
 "metadata": {
  "kernelspec": {
   "display_name": "seqcell",
   "language": "python",
   "name": "seqcell"
  },
  "language_info": {
   "codemirror_mode": {
    "name": "ipython",
    "version": 3
   },
   "file_extension": ".py",
   "mimetype": "text/x-python",
   "name": "python",
   "nbconvert_exporter": "python",
   "pygments_lexer": "ipython3",
   "version": "3.7.12"
  }
 },
 "nbformat": 4,
 "nbformat_minor": 4
}
