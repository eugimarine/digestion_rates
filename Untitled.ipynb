{
 "cells": [
  {
   "cell_type": "markdown",
   "id": "008ba611-0e16-47b3-8230-74436c6c0daa",
   "metadata": {},
   "source": [
    "# ODE model\n",
    "\n",
    "models and fit functions for ODEs coming from a master equation. \n",
    "linear reaction where you just have rates forward\n",
    "\n",
    "example:\n",
    "$$ \\text{AAAA} \\xrightarrow{k0} \\text{AAA} \\xrightarrow{k1} \\text{AA} $$"
   ]
  },
  {
   "cell_type": "code",
   "execution_count": 15,
   "id": "89bd3f7c-74c4-4867-babb-677ea95441d3",
   "metadata": {},
   "outputs": [],
   "source": [
    "#| default_exp ode"
   ]
  },
  {
   "cell_type": "code",
   "execution_count": 8,
   "id": "2d751293-96ca-40c5-b389-9ffea806fe11",
   "metadata": {},
   "outputs": [],
   "source": [
    "\n",
    "import numpy as np\n",
    "import matplotlib.pyplot as plt\n",
    "from scipy.integrate import odeint\n",
    "from lmfit import minimize, Parameters, Parameter, report_fit"
   ]
  },
  {
   "cell_type": "code",
   "execution_count": 9,
   "id": "206856c5-72c7-4a58-b531-e176f17750b5",
   "metadata": {},
   "outputs": [],
   "source": [
    "# | export\n",
    "def initialize_params(data, initial_guess, initial_guess_bounds=[0.0001, 1], vary_initial_conditions=False):\n",
    "    initial_conditions = list(data[0,:])\n",
    "    params = Parameters()\n",
    "    for nm,i in enumerate(initial_conditions):\n",
    "        params.add('x'+str(nm + 1)+'0', value=i, vary=vary_initial_conditions)\n",
    "    for nm, k in enumerate(initial_guess):\n",
    "        params.add('k'+str(nm), value=k, min=initial_guess_bounds[0], max=initial_guess_bounds[1])\n",
    "    return params"
   ]
  },
  {
   "cell_type": "code",
   "execution_count": 10,
   "id": "fe123fb1-28fb-4570-997d-71a9f23bd856",
   "metadata": {},
   "outputs": [],
   "source": [
    "x = np.array([[1,2,3], [4,5,6]])\n",
    "initial_guess= [0.1, 0.2, 0.3]\n",
    "test_init_params = initialize_params(x, initial_guess)\n",
    "assert test_init_params['k1'] == 0.2\n",
    "assert list(test_init_params.keys()) == ['x10', 'x20', 'x30', 'k0', 'k1', 'k2' ]"
   ]
  },
  {
   "cell_type": "code",
   "execution_count": 11,
   "id": "a973c58b-9bd6-4c38-92be-3b19d58e5f85",
   "metadata": {},
   "outputs": [],
   "source": [
    "# | export \n",
    "def k_matrix(params):\n",
    "    params_k_list = [k for k in params.keys() if 'k' in k]\n",
    "    m = len(params_k_list)\n",
    "    n = m + 1\n",
    "\n",
    "    k = np.eye(n,m, k=-1) - np.eye(n,m)\n",
    "    k_values = [params[k] for k in params_k_list]\n",
    "    return k_values * k"
   ]
  },
  {
   "cell_type": "code",
   "execution_count": 12,
   "id": "edd62c96-5497-41a5-8320-bb2f685d8cde",
   "metadata": {},
   "outputs": [],
   "source": [
    "test_params = {'a':1/3,'k1':1,'k2':20, 'k3':300}\n",
    "out = np.array([[-1, 0, 0], [1,-20, 0], [0, 20, -300], [0, 0, 300]])\n",
    "assert (k_matrix(test_params) == out).all()"
   ]
  },
  {
   "cell_type": "code",
   "execution_count": 13,
   "id": "b68335ed-908b-4ab3-a304-87db733ce433",
   "metadata": {},
   "outputs": [],
   "source": [
    "# | export \n",
    "def _master_equations(y, t, paras):\n",
    "    \"\"\"\n",
    "    Your system of differential equations\n",
    "    # f0 = -k0 * x1\n",
    "    # f1 = k0 * x1 - k1 * x2\n",
    "    # ...\n",
    "    # fn-1 = kn-2 * x2 - kn-1 * x3\n",
    "    # fn = kn-1 * xn-1\n",
    "    fn need to be solve using odeint\n",
    "    \"\"\"\n",
    "\n",
    "    rates = k_matrix(paras)\n",
    "    dydt = rates.dot(y[:-1])\n",
    "    return dydt"
   ]
  },
  {
   "cell_type": "code",
   "execution_count": 14,
   "id": "641e64b5-f0de-4c91-8d43-afb1ed45dcea",
   "metadata": {},
   "outputs": [],
   "source": [
    "test_params = {'a':1/3,'k1':1,'k2':20, 'k3':300}\n",
    "M = np.array([[-1, 0, 0], [1,-20, 0], [0, 20, -300], [0, 0, 300]])\n",
    "xs = np.array([1, 1/10, 1/100, 500])\n",
    "out = np.array([-1, -1, -1, 3])\n",
    "_master_equations(xs, 0, test_params)\n",
    "assert (_master_equations(xs, 0, test_params) == out.T).all()"
   ]
  },
  {
   "cell_type": "code",
   "execution_count": 15,
   "id": "e699b739-56eb-494f-acda-e6e7b2128114",
   "metadata": {},
   "outputs": [],
   "source": [
    "# | export \n",
    "def ode_solver(t, x0, paras):\n",
    "    \"\"\"\n",
    "    Solution to the ODE x'(t) = f(t,x,k) with initial condition x(0) = x0\n",
    "    \"\"\"\n",
    "    x = odeint(_master_equations, x0, t, args=(paras,))\n",
    "    return x"
   ]
  },
  {
   "cell_type": "code",
   "execution_count": 16,
   "id": "80f623ba-59cb-48ed-ac8f-19eb8f5d1a8b",
   "metadata": {},
   "outputs": [],
   "source": [
    "# | export \n",
    "def residual(paras, t, data):\n",
    "\n",
    "    \"\"\"\n",
    "    compute the residual between actual data and fitted data\n",
    "    \"\"\"\n",
    "    x0 = [paras[x].value for x in paras.keys() if 'x' in x]\n",
    "    # x0 = paras['x10'].value, paras['x20'].value, paras['x30'].value, paras['x40'].value\n",
    "    model = ode_solver(t, x0, paras)\n",
    "\n",
    "    return ((model - data)).ravel()\n"
   ]
  },
  {
   "cell_type": "markdown",
   "id": "572f6b5b-1070-4a26-bbcf-2b19bfdb8f89",
   "metadata": {},
   "source": [
    "# Simulate Process"
   ]
  },
  {
   "cell_type": "code",
   "execution_count": 17,
   "id": "51b28aca-c405-432e-bc88-22ef02132e01",
   "metadata": {},
   "outputs": [],
   "source": [
    "# fixed error\n",
    "time_limit = 10\n",
    "num_chain_reaction = 4\n",
    "\n",
    "k0 = 0.3\n",
    "k1 = 0.1\n",
    "k2 = 0.6\n",
    "\n",
    "x = np.zeros((time_limit+1, num_chain_reaction))\n",
    "x[0,:] = np.array([1000, 0, 0 , 0])\n",
    "\n",
    "noise_dev = np.random.gamma(3, 0.8, (time_limit, 3))\n",
    "scale = 0.1\n",
    "\n",
    "for t in range(1, time_limit + 1):\n",
    "    proc1, proc2, proc3 = np.random.normal(scale= scale), np.random.normal(scale= scale), np.random.normal(scale= scale)\n",
    "    x[t, 0] = x[t-1, 0] - (x[t-1, 0] * (k0 + proc1))\n",
    "    x[t, 1] = x[t-1, 1] + ((x[t-1, 0] * (k0 + proc1)) - (x[t-1, 1] * (k1 + proc2)))\n",
    "    x[t, 2] = x[t-1, 2] + ((x[t-1, 1] * (k1 + proc2)) - (x[t-1, 2] * (k2 + proc3)))\n",
    "    x[t, 3] = x[t-1, 3] + (x[t-1, 2] * (k2 + proc3))\n",
    "x = np.abs(x)"
   ]
  },
  {
   "cell_type": "code",
   "execution_count": 18,
   "id": "0aa9889b-d4a1-4c6a-b37c-09b57c6654c0",
   "metadata": {},
   "outputs": [
    {
     "data": {
      "text/plain": [
       "<AxesSubplot:xlabel='time', ylabel='count'>"
      ]
     },
     "execution_count": 18,
     "metadata": {},
     "output_type": "execute_result"
    },
    {
     "data": {
      "image/png": "[encoded data removed]",
      "text/plain": [
       "<Figure size 432x288 with 1 Axes>"
      ]
     },
     "metadata": {
      "needs_background": "light"
     },
     "output_type": "display_data"
    }
   ],
   "source": [
    "import pandas as pd\n",
    "import seaborn as sns\n",
    "time = np.arange(0, time_limit +1, 1)\n",
    "time\n",
    "df_x = pd.DataFrame(x, columns=['x0','x1', 'x2', 'x3'], index=pd.Series(time,  name='time')).reset_index().melt(id_vars='time', value_name='count', var_name='species')\n",
    "sns.scatterplot(data=df_x, x='time', y='count', hue='species') \n"
   ]
  },
  {
   "cell_type": "code",
   "execution_count": 19,
   "id": "0ef01fa1-14ce-40db-943b-882cddea4c3b",
   "metadata": {},
   "outputs": [],
   "source": [
    "# Fit\n",
    "\n",
    "# set parameters including bounds; you can also fix parameters (use vary=False)\n",
    "params = initialize_params(x, [0.1,0.1,0.1])\n",
    "\n",
    "\n",
    "# fit model\n",
    "result = minimize(residual, params, args=(time, x), method='leastsq')  # leastsq nelder\n",
    "# check results of the fit\n",
    "t_fit = np.linspace(0., 10., 100)\n",
    "data_fitted = ode_solver(t_fit, x[0,:], result.params)\n",
    "\n",
    "\n"
   ]
  },
  {
   "cell_type": "code",
   "execution_count": 20,
   "id": "fd16003c-d37d-452a-b178-16e24bcdc8d3",
   "metadata": {},
   "outputs": [
    {
     "ename": "NameError",
     "evalue": "name 'plot_fitted' is not defined",
     "output_type": "error",
     "traceback": [
      "\u001b[0;31m---------------------------------------------------------------------------\u001b[0m",
      "\u001b[0;31mNameError\u001b[0m                                 Traceback (most recent call last)",
      "\u001b[0;32m/tmp/ipykernel_1598178/3966830774.py\u001b[0m in \u001b[0;36m<module>\u001b[0;34m\u001b[0m\n\u001b[1;32m      1\u001b[0m \u001b[0mmeasured\u001b[0m \u001b[0;34m=\u001b[0m \u001b[0mnp\u001b[0m\u001b[0;34m.\u001b[0m\u001b[0mconcatenate\u001b[0m\u001b[0;34m(\u001b[0m\u001b[0;34m(\u001b[0m\u001b[0mtime\u001b[0m\u001b[0;34m.\u001b[0m\u001b[0mreshape\u001b[0m\u001b[0;34m(\u001b[0m\u001b[0;34m-\u001b[0m\u001b[0;36m1\u001b[0m\u001b[0;34m,\u001b[0m\u001b[0;36m1\u001b[0m\u001b[0;34m)\u001b[0m\u001b[0;34m,\u001b[0m \u001b[0mx\u001b[0m\u001b[0;34m)\u001b[0m\u001b[0;34m,\u001b[0m \u001b[0maxis\u001b[0m\u001b[0;34m=\u001b[0m\u001b[0;36m1\u001b[0m\u001b[0;34m)\u001b[0m\u001b[0;34m\u001b[0m\u001b[0;34m\u001b[0m\u001b[0m\n\u001b[0;32m----> 2\u001b[0;31m \u001b[0mplot_fitted\u001b[0m\u001b[0;34m(\u001b[0m\u001b[0mt_fit\u001b[0m\u001b[0;34m,\u001b[0m \u001b[0mdata_fitted\u001b[0m\u001b[0;34m,\u001b[0m \u001b[0mmeasured\u001b[0m \u001b[0;34m,\u001b[0m \u001b[0mresult\u001b[0m\u001b[0;34m)\u001b[0m\u001b[0;34m\u001b[0m\u001b[0;34m\u001b[0m\u001b[0m\n\u001b[0m",
      "\u001b[0;31mNameError\u001b[0m: name 'plot_fitted' is not defined"
     ]
    }
   ],
   "source": [
    "measured = np.concatenate((time.reshape(-1,1), x), axis=1)\n",
    "plot_fitted(t_fit, data_fitted, measured , result)"
   ]
  },
  {
   "cell_type": "code",
   "execution_count": 21,
   "id": "b870a88d-da42-4aeb-a9b7-0254d71e4ad6",
   "metadata": {},
   "outputs": [
    {
     "data": {
      "text/plain": [
       "<AxesSubplot:xlabel='time', ylabel='count'>"
      ]
     },
     "execution_count": 21,
     "metadata": {},
     "output_type": "execute_result"
    },
    {
     "data": {
      "image/png": "[encoded data removed]",
      "text/plain": [
       "<Figure size 432x288 with 1 Axes>"
      ]
     },
     "metadata": {
      "needs_background": "light"
     },
     "output_type": "display_data"
    }
   ],
   "source": [
    "plt.plot(t_fit, data_fitted[:,3], color='b', label='fit')\n",
    "sns.scatterplot(data=df_x, x='time', y='count', hue='species')"
   ]
  },
  {
   "cell_type": "code",
   "execution_count": null,
   "id": "a9186604-1904-45a0-a7e6-56620d1c4f14",
   "metadata": {},
   "outputs": [],
   "source": []
  },
  {
   "cell_type": "code",
   "execution_count": null,
   "id": "30ba441d-5c35-4598-bba3-f834292a4fc2",
   "metadata": {},
   "outputs": [],
   "source": []
  },
  {
   "cell_type": "code",
   "execution_count": null,
   "id": "fd5a8055-233b-4e09-8361-5317faa48beb",
   "metadata": {},
   "outputs": [],
   "source": [
    "# | export "
   ]
  },
  {
   "cell_type": "code",
   "execution_count": null,
   "id": "21c9025c-210f-4927-97ab-09a03609d9a2",
   "metadata": {},
   "outputs": [],
   "source": [
    "# | export "
   ]
  },
  {
   "cell_type": "code",
   "execution_count": null,
   "id": "f361b741-92dc-4af1-b219-a9827c4df984",
   "metadata": {},
   "outputs": [],
   "source": []
  },
  {
   "cell_type": "code",
   "execution_count": null,
   "id": "725f0995-7548-47f8-b58f-17227af5a73d",
   "metadata": {},
   "outputs": [],
   "source": []
  },
  {
   "cell_type": "code",
   "execution_count": null,
   "id": "5809efa0-9e8d-4d93-bdbc-10aafba7088d",
   "metadata": {},
   "outputs": [],
   "source": []
  },
  {
   "cell_type": "code",
   "execution_count": 32,
   "id": "bfb49a09-d0c8-4d98-93e5-a53d9c661dde",
   "metadata": {},
   "outputs": [],
   "source": [
    "#| hide\n",
    "import nbdev; nbdev.nbdev_export()"
   ]
  }
 ],
 "metadata": {
  "kernelspec": {
   "display_name": "diffdig",
   "language": "python",
   "name": "diffdig"
  },
  "language_info": {
   "codemirror_mode": {
    "name": "ipython",
    "version": 3
   },
   "file_extension": ".py",
   "mimetype": "text/x-python",
   "name": "python",
   "nbconvert_exporter": "python",
   "pygments_lexer": "ipython3",
   "version": "3.7.13"
  }
 },
 "nbformat": 4,
 "nbformat_minor": 5
}
