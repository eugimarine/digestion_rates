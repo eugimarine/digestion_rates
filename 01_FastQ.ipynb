{
 "cells": [
  {
   "cell_type": "markdown",
   "metadata": {},
   "source": [
    "# FastQ and SequencesCells class\n",
    "\n",
    "> Read and create count table of cells"
   ]
  },
  {
   "cell_type": "code",
   "execution_count": 36,
   "metadata": {},
   "outputs": [],
   "source": [
    "#| hide\n",
    "from nbdev import nbdev_export\n",
    "nbdev_export()"
   ]
  },
  {
   "cell_type": "code",
   "execution_count": 37,
   "metadata": {},
   "outputs": [],
   "source": [
    "#| default_exp fastq_reader"
   ]
  },
  {
   "cell_type": "code",
   "execution_count": 38,
   "metadata": {},
   "outputs": [],
   "source": [
    "#| export\n",
    "import numpy as np\n",
    "import pandas as pd\n",
    "import gzip"
   ]
  },
  {
   "cell_type": "markdown",
   "metadata": {},
   "source": [
    "# FastQ class\n",
    "\n",
    "Inizialize it with the path of fastq file gz-zipped. \n",
    "\n",
    "Run with parse_file() method and return a SequencesCells() class containing the dataframe:\n",
    "\n",
    "|                | **NTGCB** | **GTNCB** | **cell3** |\n",
    "|----------------|-----------|-----------|-----------|\n",
    "| **CTCTGA**     | 2         | 1         | ..        |\n",
    "| **CTCTGAGGG**  | 0         | 1         | ..        |\n",
    "| **sequence_3** | ..        | ..        | ..        |\n",
    "\n",
    "On the SequencesCells object then you can join a new plate using the method `.join_plate()`\n"
   ]
  },
  {
   "cell_type": "code",
   "execution_count": 39,
   "metadata": {},
   "outputs": [],
   "source": [
    "#| export\n",
    "\n",
    "def extract_umi_cb(nm):\n",
    "    nm = nm.split(' ')[0]\n",
    "    cb, umi = nm.split('_')[1:3]\n",
    "    return cb, umi"
   ]
  },
  {
   "cell_type": "code",
   "execution_count": 40,
   "metadata": {},
   "outputs": [],
   "source": [
    "nm = '@VH00225:8:AAAKNTKHV:1:1101:62862:1057_NTGCB_GGCAUMI 1:N:0:GTTTCG'\n",
    "cb, umi = extract_umi_cb(nm)\n",
    "assert cb == 'NTGCB'\n",
    "assert umi == 'GGCAUMI'"
   ]
  },
  {
   "cell_type": "markdown",
   "metadata": {},
   "source": [
    "## extract dictionary & count unique sequeces\n",
    "\n",
    "Extract dictionary is a function that extract a dictionary in the form of `{'plate_cell_barcode':{'sequence':[list_of_associated_UMI]}}`\n",
    "\n",
    "In this form it's easy to convert to a pandas dataframe, and with the function 'set' it's possible to count the unique identifiers (UMIs)\n",
    "\n"
   ]
  },
  {
   "cell_type": "code",
   "execution_count": 41,
   "metadata": {},
   "outputs": [],
   "source": [
    "#| export\n",
    "\n",
    "def extract_dictionary(path, plate_name):\n",
    "    fastq_dict = {}\n",
    "    with gzip.open(path, 'rt') as f:\n",
    "        content = f.readlines()\n",
    "        for i, line in enumerate(content):\n",
    "            index_seq = i % 4\n",
    "            line = line.strip()\n",
    "            if index_seq == 0:\n",
    "                sequence = content[i+1].strip()\n",
    "                cb, umi = extract_umi_cb(line)\n",
    "                cb = plate_name + '_' + cb \n",
    "                i += 0\n",
    "                if cb in fastq_dict.keys():\n",
    "                    if sequence in fastq_dict[cb].keys():                    \n",
    "                        fastq_dict[cb][sequence].append(umi)\n",
    "                    else:\n",
    "                        fastq_dict[cb][sequence] = [umi]\n",
    "\n",
    "                else:\n",
    "                    fastq_dict[cb] = {sequence:[umi]}\n",
    "    return fastq_dict\n"
   ]
  },
  {
   "cell_type": "code",
   "execution_count": 42,
   "metadata": {},
   "outputs": [],
   "source": [
    "fastq_dict = extract_dictionary('./test-RPMD1-01_R1.trimmed.fastq.gz', 'RPMD1-01')\n",
    "\n",
    "assert list(pd.DataFrame(fastq_dict).columns) == ['RPMD1-01_NTGCB', 'RPMD1-01_GTNCB']\n",
    "assert list(pd.DataFrame(fastq_dict).index) == ['CTCTGA', 'CTCTGAGGG']"
   ]
  },
  {
   "cell_type": "code",
   "execution_count": 43,
   "metadata": {},
   "outputs": [
    {
     "data": {
      "text/plain": [
       "{'RPMD1-01_NTGCB': {'CTCTGA': ['GGCAUMI', 'ACGGUMI', 'GGCAUMI', 'GGCAUMI']},\n",
       " 'RPMD1-01_GTNCB': {'CTCTGA': ['GGCAUMI'], 'CTCTGAGGG': ['ACGGUMI']}}"
      ]
     },
     "execution_count": 43,
     "metadata": {},
     "output_type": "execute_result"
    }
   ],
   "source": [
    "fastq_dict"
   ]
  },
  {
   "cell_type": "code",
   "execution_count": 44,
   "metadata": {},
   "outputs": [],
   "source": [
    "#| export\n",
    "def count_unique_sequences(dz):    \n",
    "    df = pd.DataFrame(dz)\n",
    "    df = df.applymap(lambda x: len(set(x)) if isinstance(x,list) else 0)\n",
    "    return df"
   ]
  },
  {
   "cell_type": "code",
   "execution_count": 45,
   "metadata": {},
   "outputs": [
    {
     "data": {
      "text/html": [
       "<div>\n",
       "<style scoped>\n",
       "    .dataframe tbody tr th:only-of-type {\n",
       "        vertical-align: middle;\n",
       "    }\n",
       "\n",
       "    .dataframe tbody tr th {\n",
       "        vertical-align: top;\n",
       "    }\n",
       "\n",
       "    .dataframe thead th {\n",
       "        text-align: right;\n",
       "    }\n",
       "</style>\n",
       "<table border=\"1\" class=\"dataframe\">\n",
       "  <thead>\n",
       "    <tr style=\"text-align: right;\">\n",
       "      <th></th>\n",
       "      <th>RPMD1-01_NTGCB</th>\n",
       "      <th>RPMD1-01_GTNCB</th>\n",
       "    </tr>\n",
       "  </thead>\n",
       "  <tbody>\n",
       "    <tr>\n",
       "      <th>CTCTGA</th>\n",
       "      <td>2</td>\n",
       "      <td>1</td>\n",
       "    </tr>\n",
       "    <tr>\n",
       "      <th>CTCTGAGGG</th>\n",
       "      <td>0</td>\n",
       "      <td>1</td>\n",
       "    </tr>\n",
       "  </tbody>\n",
       "</table>\n",
       "</div>"
      ],
      "text/plain": [
       "           RPMD1-01_NTGCB  RPMD1-01_GTNCB\n",
       "CTCTGA                  2               1\n",
       "CTCTGAGGG               0               1"
      ]
     },
     "execution_count": 45,
     "metadata": {},
     "output_type": "execute_result"
    }
   ],
   "source": [
    "df = count_unique_sequences(fastq_dict)\n",
    "df"
   ]
  },
  {
   "cell_type": "code",
   "execution_count": 46,
   "metadata": {},
   "outputs": [],
   "source": [
    "assert (count_unique_sequences(fastq_dict).values == np.array([[2,1],[0,1]])).all()"
   ]
  },
  {
   "cell_type": "code",
   "execution_count": 47,
   "metadata": {},
   "outputs": [],
   "source": [
    "#| export\n",
    "class SequencesCells():\n",
    "    def __init__(self, df, plate):\n",
    "        self.table = df\n",
    "        self.plates = plate if isinstance(plate, list) else [plate]\n",
    "    def join_plate(self, sequences_cells):\n",
    "        addtable = sequences_cells.table\n",
    "        plates_to_add = [p for p in sequences_cells.plates if p not in self.plates]\n",
    "        if len(plates_to_add) == 0:\n",
    "            return self\n",
    "        select_cells = np.array([[plate in name_cell for name_cell in addtable.columns]\n",
    "                                    for plate in plates_to_add]).sum(axis=0).astype(bool)\n",
    "        other = addtable.loc[:,select_cells]\n",
    "        self.table = pd.concat([self.table,other], axis=1).dropna()\n",
    "        self.plates = self.plates + plates_to_add\n",
    "        return self\n",
    "    def select_plate(self, plate):\n",
    "        df = self.table.loc[:, [col for col in plates.table.columns if plate in col]]\n",
    "        return SequencesCells(df, plate)"
   ]
  },
  {
   "cell_type": "code",
   "execution_count": 48,
   "metadata": {},
   "outputs": [],
   "source": [
    "#| export\n",
    "class FastQ():\n",
    "    def __init__(self, fastq_file, plate_name=None):\n",
    "        self.fastq_file = fastq_file\n",
    "        self.plate_name = plate_name\n",
    "        \n",
    "    def parse_file(self):\n",
    "        if self.plate_name is None:\n",
    "            self.plate_name = '-'.join(self.fastq_file.split('_')[0].split('-')[1:])\n",
    "            \n",
    "            \n",
    "        fastq = extract_dictionary(self.fastq_file, self.plate_name)\n",
    "        df_fastq = count_unique_sequences(fastq)\n",
    "        return SequencesCells(df_fastq, self.plate_name)\n",
    "\n",
    "            "
   ]
  },
  {
   "cell_type": "code",
   "execution_count": 49,
   "metadata": {},
   "outputs": [],
   "source": [
    "#| export\n",
    "\n",
    "def concatenate_tables(list_of_seqcells):\n",
    "    cat_plates = [pl for t in list_of_seqcells for pl in t.plates ]\n",
    "    if len(set(cat_plates)) != len(cat_plates):\n",
    "        raise ValueError('Repeated plates in the passed list')\n",
    "    cat_tables = [t.table for t in list_of_seqcells ]\n",
    "    new_table = pd.concat(cat_tables, axis=1).dropna()\n",
    "    return SequencesCells(new_table, cat_plates)\n",
    "    "
   ]
  },
  {
   "cell_type": "code",
   "execution_count": 50,
   "metadata": {},
   "outputs": [
    {
     "data": {
      "text/html": [
       "<div>\n",
       "<style scoped>\n",
       "    .dataframe tbody tr th:only-of-type {\n",
       "        vertical-align: middle;\n",
       "    }\n",
       "\n",
       "    .dataframe tbody tr th {\n",
       "        vertical-align: top;\n",
       "    }\n",
       "\n",
       "    .dataframe thead th {\n",
       "        text-align: right;\n",
       "    }\n",
       "</style>\n",
       "<table border=\"1\" class=\"dataframe\">\n",
       "  <thead>\n",
       "    <tr style=\"text-align: right;\">\n",
       "      <th></th>\n",
       "      <th>RPMD1-01_NTGCB</th>\n",
       "      <th>RPMD1-01_GTNCB</th>\n",
       "    </tr>\n",
       "  </thead>\n",
       "  <tbody>\n",
       "    <tr>\n",
       "      <th>CTCTGA</th>\n",
       "      <td>2</td>\n",
       "      <td>1</td>\n",
       "    </tr>\n",
       "    <tr>\n",
       "      <th>CTCTGAGGG</th>\n",
       "      <td>0</td>\n",
       "      <td>1</td>\n",
       "    </tr>\n",
       "  </tbody>\n",
       "</table>\n",
       "</div>"
      ],
      "text/plain": [
       "           RPMD1-01_NTGCB  RPMD1-01_GTNCB\n",
       "CTCTGA                  2               1\n",
       "CTCTGAGGG               0               1"
      ]
     },
     "execution_count": 50,
     "metadata": {},
     "output_type": "execute_result"
    }
   ],
   "source": [
    "fastq = FastQ('./test-RPMD1-01_R1.trimmed.fastq.gz')\n",
    "plate1 = fastq.parse_file()\n",
    "plate1.table"
   ]
  },
  {
   "cell_type": "code",
   "execution_count": 51,
   "metadata": {},
   "outputs": [
    {
     "data": {
      "text/html": [
       "<div>\n",
       "<style scoped>\n",
       "    .dataframe tbody tr th:only-of-type {\n",
       "        vertical-align: middle;\n",
       "    }\n",
       "\n",
       "    .dataframe tbody tr th {\n",
       "        vertical-align: top;\n",
       "    }\n",
       "\n",
       "    .dataframe thead th {\n",
       "        text-align: right;\n",
       "    }\n",
       "</style>\n",
       "<table border=\"1\" class=\"dataframe\">\n",
       "  <thead>\n",
       "    <tr style=\"text-align: right;\">\n",
       "      <th></th>\n",
       "      <th>RPMD1-02_NTGCB</th>\n",
       "      <th>RPMD1-02_GTNCB</th>\n",
       "    </tr>\n",
       "  </thead>\n",
       "  <tbody>\n",
       "    <tr>\n",
       "      <th>CTCTGA</th>\n",
       "      <td>2</td>\n",
       "      <td>1</td>\n",
       "    </tr>\n",
       "  </tbody>\n",
       "</table>\n",
       "</div>"
      ],
      "text/plain": [
       "        RPMD1-02_NTGCB  RPMD1-02_GTNCB\n",
       "CTCTGA               2               1"
      ]
     },
     "execution_count": 51,
     "metadata": {},
     "output_type": "execute_result"
    }
   ],
   "source": [
    "fastq = FastQ('./test-RPMD1-02_R1.trimmed.fastq.gz')\n",
    "plate2 = fastq.parse_file()\n",
    "plate2.table"
   ]
  },
  {
   "cell_type": "code",
   "execution_count": 52,
   "metadata": {},
   "outputs": [],
   "source": [
    "cat_plates= concatenate_tables([plate1, plate2])\n",
    "assert cat_plates.plates == ['RPMD1-01', 'RPMD1-02']\n",
    "assert cat_plates.table.index == ['CTCTGA']"
   ]
  },
  {
   "cell_type": "code",
   "execution_count": 53,
   "metadata": {},
   "outputs": [],
   "source": [
    "plates = plate1.join_plate(plate2)\n",
    "\n",
    "assert plates.plates == ['RPMD1-01', 'RPMD1-02']\n",
    "assert plates.table.index == ['CTCTGA']"
   ]
  }
 ],
 "metadata": {
  "kernelspec": {
   "display_name": "digrates",
   "language": "python",
   "name": "digrates"
  },
  "language_info": {
   "codemirror_mode": {
    "name": "ipython",
    "version": 3
   },
   "file_extension": ".py",
   "mimetype": "text/x-python",
   "name": "python",
   "nbconvert_exporter": "python",
   "pygments_lexer": "ipython3",
   "version": "3.7.12"
  }
 },
 "nbformat": 4,
 "nbformat_minor": 4
}
