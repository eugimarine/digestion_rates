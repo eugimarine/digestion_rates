{
 "cells": [
  {
   "cell_type": "markdown",
   "metadata": {},
   "source": [
    "# FastQ and SequencesCells class\n",
    "\n",
    "> Read and create count table of cells"
   ]
  },
  {
   "cell_type": "code",
   "execution_count": 1,
   "metadata": {},
   "outputs": [],
   "source": [
    "#| default_exp fastq_reader"
   ]
  },
  {
   "cell_type": "code",
   "execution_count": 5,
   "metadata": {
    "tags": []
   },
   "outputs": [
    {
     "ename": "SyntaxError",
     "evalue": "invalid syntax (<unknown>, line 1)",
     "output_type": "error",
     "traceback": [
      "Traceback \u001b[0;36m(most recent call last)\u001b[0m:\n",
      "  File \u001b[1;32m\"/opt/homebrew/anaconda3/lib/python3.9/site-packages/IPython/core/interactiveshell.py\"\u001b[0m, line \u001b[1;32m3444\u001b[0m, in \u001b[1;35mrun_code\u001b[0m\n    exec(code_obj, self.user_global_ns, self.user_ns)\n",
      "  File \u001b[1;32m\"/var/folders/gm/j67_69zd5blcb_7q20hx813m0000gn/T/ipykernel_7804/1059805110.py\"\u001b[0m, line \u001b[1;32m3\u001b[0m, in \u001b[1;35m<module>\u001b[0m\n    nbdev.nbdev_export()\n",
      "  File \u001b[1;32m\"/opt/homebrew/anaconda3/lib/python3.9/site-packages/fastcore/script.py\"\u001b[0m, line \u001b[1;32m108\u001b[0m, in \u001b[1;35m_f\u001b[0m\n    if not mod: return func(*args, **kwargs)\n",
      "  File \u001b[1;32m\"/opt/homebrew/anaconda3/lib/python3.9/site-packages/nbdev/doclinks.py\"\u001b[0m, line \u001b[1;32m129\u001b[0m, in \u001b[1;35mnbdev_export\u001b[0m\n    _build_modidx()\n",
      "  File \u001b[1;32m\"/opt/homebrew/anaconda3/lib/python3.9/site-packages/nbdev/doclinks.py\"\u001b[0m, line \u001b[1;32m89\u001b[0m, in \u001b[1;35m_build_modidx\u001b[0m\n    res['syms'].update(_get_modidx((dest.parent/file).resolve(), code_root, nbs_path=nbs_path))\n",
      "  File \u001b[1;32m\"/opt/homebrew/anaconda3/lib/python3.9/site-packages/nbdev/doclinks.py\"\u001b[0m, line \u001b[1;32m67\u001b[0m, in \u001b[1;35m_get_modidx\u001b[0m\n    for tree in ast.parse('\\n'.join(rest)).body:\n",
      "\u001b[0;36m  File \u001b[0;32m\"/opt/homebrew/anaconda3/lib/python3.9/ast.py\"\u001b[0;36m, line \u001b[0;32m50\u001b[0;36m, in \u001b[0;35mparse\u001b[0;36m\u001b[0m\n\u001b[0;31m    return compile(source, filename, mode, flags,\u001b[0m\n",
      "\u001b[0;36m  File \u001b[0;32m\"<unknown>\"\u001b[0;36m, line \u001b[0;32m1\u001b[0m\n\u001b[0;31m    class\u001b[0m\n\u001b[0m         ^\u001b[0m\n\u001b[0;31mSyntaxError\u001b[0m\u001b[0;31m:\u001b[0m invalid syntax\n"
     ]
    }
   ],
   "source": [
    "#| hide\n",
    "import nbdev\n",
    "nbdev.nbdev_export()"
   ]
  },
  {
   "cell_type": "code",
   "execution_count": 4,
   "metadata": {},
   "outputs": [],
   "source": [
    "#| export\n",
    "import numpy as np\n",
    "import pandas as pd\n",
    "import gzip"
   ]
  },
  {
   "cell_type": "markdown",
   "metadata": {},
   "source": [
    "# FastQ class\n",
    "\n",
    "Inizialize it with the path of fastq file already unzipped. \n",
    "\n",
    "Run with parse_file() method and return a SequencesCells() class containing the dataframe:\n",
    "\n",
    "|                | **NTGCB** | **GTNCB** | **cell3** |\n",
    "|----------------|-----------|-----------|-----------|\n",
    "| **CTCTGA**     | 2         | 1         | ..        |\n",
    "| **CTCTGAGGG**  | 0         | 1         | ..        |\n",
    "| **sequence_3** | ..        | ..        | ..        |\n",
    "\n"
   ]
  },
  {
   "cell_type": "code",
   "execution_count": 5,
   "metadata": {},
   "outputs": [],
   "source": [
    "#| export\n",
    "\n",
    "def extract_umi_cb(nm):\n",
    "    nm = nm.split(' ')[0]\n",
    "    cb, umi = nm.split('_')[1:3]\n",
    "    return cb, umi"
   ]
  },
  {
   "cell_type": "code",
   "execution_count": 6,
   "metadata": {},
   "outputs": [],
   "source": [
    "nm = '@VH00225:8:AAAKNTKHV:1:1101:62862:1057_NTGCB_GGCAUMI 1:N:0:GTTTCG'\n",
    "cb, umi = extract_umi_cb(nm)\n",
    "assert cb == 'NTGCB'\n",
    "assert umi == 'GGCAUMI'"
   ]
  },
  {
   "cell_type": "code",
   "execution_count": 18,
   "metadata": {},
   "outputs": [],
   "source": [
    "#| export\n",
    "\n",
    "def extract_dictionary(path):\n",
    "    fastq_dict = {}\n",
    "    with open(path, 'r') as f:\n",
    "        content = f.readlines()\n",
    "        for i, line in enumerate(content):\n",
    "            index_seq = i % 4\n",
    "            line = line.strip()\n",
    "            if index_seq == 0:\n",
    "                sequence = content[i+1].strip()\n",
    "                cb, umi = extract_umi_cb(line)\n",
    "                i += 0\n",
    "                if cb in fastq_dict.keys():\n",
    "                    if sequence in fastq_dict[cb].keys():                    \n",
    "                        fastq_dict[cb][sequence].append(umi)\n",
    "                    else:\n",
    "                        fastq_dict[cb][sequence] = [umi]\n",
    "\n",
    "                else:\n",
    "                    fastq_dict[cb] = {sequence:[umi]}\n",
    "    return fastq_dict\n",
    "fastq_dict = extract_dictionary('./test.fastq')\n",
    "assert list(pd.DataFrame(fastq_dict).columns) == ['NTGCB', 'GTNCB']\n",
    "assert list(pd.DataFrame(fastq_dict).index) == ['CTCTGA', 'CTCTGAGGG']"
   ]
  },
  {
   "cell_type": "code",
   "execution_count": 19,
   "metadata": {},
   "outputs": [
    {
     "data": {
      "text/plain": [
       "{'NTGCB': {'CTCTGA': ['GGCAUMI', 'ACGGUMI', 'GGCAUMI', 'GGCAUMI']},\n",
       " 'GTNCB': {'CTCTGA': ['GGCAUMI'], 'CTCTGAGGG': ['ACGGUMI']}}"
      ]
     },
     "execution_count": 19,
     "metadata": {},
     "output_type": "execute_result"
    }
   ],
   "source": [
    "fastq_dict"
   ]
  },
  {
   "cell_type": "code",
   "execution_count": 21,
   "metadata": {},
   "outputs": [],
   "source": [
    "#| export\n",
    "def count_unique_sequences(dz):    \n",
    "    df = pd.DataFrame(dz)\n",
    "    df = df.applymap(lambda x: len(set(x)) if isinstance(x,list) else 0)\n",
    "    return df"
   ]
  },
  {
   "cell_type": "code",
   "execution_count": 26,
   "metadata": {},
   "outputs": [
    {
     "data": {
      "text/html": [
       "<div>\n",
       "<style scoped>\n",
       "    .dataframe tbody tr th:only-of-type {\n",
       "        vertical-align: middle;\n",
       "    }\n",
       "\n",
       "    .dataframe tbody tr th {\n",
       "        vertical-align: top;\n",
       "    }\n",
       "\n",
       "    .dataframe thead th {\n",
       "        text-align: right;\n",
       "    }\n",
       "</style>\n",
       "<table border=\"1\" class=\"dataframe\">\n",
       "  <thead>\n",
       "    <tr style=\"text-align: right;\">\n",
       "      <th></th>\n",
       "      <th>NTGCB</th>\n",
       "      <th>GTNCB</th>\n",
       "    </tr>\n",
       "  </thead>\n",
       "  <tbody>\n",
       "    <tr>\n",
       "      <th>CTCTGA</th>\n",
       "      <td>2</td>\n",
       "      <td>1</td>\n",
       "    </tr>\n",
       "    <tr>\n",
       "      <th>CTCTGAGGG</th>\n",
       "      <td>0</td>\n",
       "      <td>1</td>\n",
       "    </tr>\n",
       "  </tbody>\n",
       "</table>\n",
       "</div>"
      ],
      "text/plain": [
       "           NTGCB  GTNCB\n",
       "CTCTGA         2      1\n",
       "CTCTGAGGG      0      1"
      ]
     },
     "execution_count": 26,
     "metadata": {},
     "output_type": "execute_result"
    }
   ],
   "source": [
    "count_unique_sequences(fastq_dict)"
   ]
  },
  {
   "cell_type": "code",
   "execution_count": 25,
   "metadata": {},
   "outputs": [],
   "source": [
    "assert (count_unique_sequences(fastq_dict).values == np.array([[2,1],[0,1]])).all()"
   ]
  },
  {
   "cell_type": "code",
   "execution_count": 27,
   "metadata": {},
   "outputs": [],
   "source": [
    "#| export\n",
    "class FastQ():\n",
    "    def __init__(self, fastq_file):\n",
    "        self.fastq_file = fastq_file\n",
    "        \n",
    "    def parse_file(self):\n",
    "        fastq = extract_dictionary(self.fastq_file)\n",
    "        df_fastq = count_unique_sequences(fastq)\n",
    "        return df_fastq\n",
    "\n",
    "            "
   ]
  },
  {
   "cell_type": "code",
   "execution_count": 28,
   "metadata": {},
   "outputs": [
    {
     "data": {
      "text/html": [
       "<div>\n",
       "<style scoped>\n",
       "    .dataframe tbody tr th:only-of-type {\n",
       "        vertical-align: middle;\n",
       "    }\n",
       "\n",
       "    .dataframe tbody tr th {\n",
       "        vertical-align: top;\n",
       "    }\n",
       "\n",
       "    .dataframe thead th {\n",
       "        text-align: right;\n",
       "    }\n",
       "</style>\n",
       "<table border=\"1\" class=\"dataframe\">\n",
       "  <thead>\n",
       "    <tr style=\"text-align: right;\">\n",
       "      <th></th>\n",
       "      <th>NTGCB</th>\n",
       "      <th>GTNCB</th>\n",
       "    </tr>\n",
       "  </thead>\n",
       "  <tbody>\n",
       "    <tr>\n",
       "      <th>CTCTGA</th>\n",
       "      <td>2</td>\n",
       "      <td>1</td>\n",
       "    </tr>\n",
       "    <tr>\n",
       "      <th>CTCTGAGGG</th>\n",
       "      <td>0</td>\n",
       "      <td>1</td>\n",
       "    </tr>\n",
       "  </tbody>\n",
       "</table>\n",
       "</div>"
      ],
      "text/plain": [
       "           NTGCB  GTNCB\n",
       "CTCTGA         2      1\n",
       "CTCTGAGGG      0      1"
      ]
     },
     "execution_count": 28,
     "metadata": {},
     "output_type": "execute_result"
    }
   ],
   "source": [
    "fastq = FastQ('./test.fastq')\n",
    "df = fastq.parse_file()\n",
    "df"
   ]
  },
  {
   "cell_type": "code",
   "execution_count": null,
   "metadata": {},
   "outputs": [],
   "source": []
  }
 ],
 "metadata": {
  "kernelspec": {
   "display_name": "base",
   "language": "python",
   "name": "base"
  },
  "language_info": {
   "codemirror_mode": {
    "name": "ipython",
    "version": 3
   },
   "file_extension": ".py",
   "mimetype": "text/x-python",
   "name": "python",
   "nbconvert_exporter": "python",
   "pygments_lexer": "ipython3",
   "version": "3.9.7"
  }
 },
 "nbformat": 4,
 "nbformat_minor": 4
}
