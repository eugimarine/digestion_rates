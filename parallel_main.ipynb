{
 "cells": [
  {
   "cell_type": "markdown",
   "metadata": {},
   "source": [
    "# Main notebook\n",
    "\n",
    "> Process data"
   ]
  },
  {
   "cell_type": "markdown",
   "metadata": {},
   "source": [
    "# Parallel Main"
   ]
  },
  {
   "cell_type": "code",
   "execution_count": 1,
   "metadata": {},
   "outputs": [],
   "source": [
    "\n",
    "from digestion_rates.fastq_reader import SequencesCells, FastQ\n",
    "import sys\n",
    "import glob\n",
    "from mpi4py import MPI"
   ]
  },
  {
   "cell_type": "code",
   "execution_count": 3,
   "metadata": {},
   "outputs": [
    {
     "name": "stdout",
     "output_type": "stream",
     "text": [
      "1\n",
      "0\n"
     ]
    }
   ],
   "source": [
    "comm = MPI.COMM_WORLD\n",
    "size = comm.Get_size()\n",
    "print(size)\n",
    "rank = comm.Get_rank()\n",
    "print(rank)"
   ]
  },
  {
   "cell_type": "code",
   "execution_count": 4,
   "metadata": {},
   "outputs": [
    {
     "name": "stdout",
     "output_type": "stream",
     "text": [
      "['./test2-RPMD1-01_R1.trimmed.fastq.gz', './test2-RPMD1-02_R1.trimmed.fastq.gz']\n"
     ]
    }
   ],
   "source": [
    "plates = None\n",
    "file_list = glob.glob('.'+'/test2-*.fastq.gz')\n",
    "print(file_list)"
   ]
  },
  {
   "cell_type": "code",
   "execution_count": 9,
   "metadata": {},
   "outputs": [
    {
     "name": "stdout",
     "output_type": "stream",
     "text": [
      "plate ./test2-RPMD1-01_R1.trimmed.fastq.gz\n",
      "\n",
      "Index             190\n",
      "RPMD1-01_NTGCB     24\n",
      "RPMD1-01_GTNCB     24\n",
      "RPMD1-01_ACNCB     24\n",
      "dtype: int64\n",
      "plate ./test2-RPMD1-02_R1.trimmed.fastq.gz\n",
      "\n",
      "Index             124\n",
      "RPMD1-02_NTGCB     16\n",
      "RPMD1-02_GTNCB     16\n",
      "RPMD1-02_ACNCB     16\n",
      "dtype: int64\n"
     ]
    }
   ],
   "source": [
    "for f in file_list:\n",
    "    plate = FastQ(f).parse_file()\n",
    "    print('plate '+f+'\\n')\n",
    "    print(plate.table.memory_usage(deep=True))\n",
    "    if plates is None:\n",
    "        plates = plate\n",
    "        continue\n",
    "    plates.join_plate(plate)"
   ]
  },
  {
   "cell_type": "code",
   "execution_count": 5,
   "metadata": {},
   "outputs": [],
   "source": [
    "\n",
    "def main():\n",
    "    input_path = sys.argv[1]\n",
    "    output_path = sys.argv[2]\n",
    "    plates = None\n",
    "    pass\n",
    "    \n",
    "    \n",
    "    \n",
    "if __name__ == '__main__':\n",
    "    main()"
   ]
  },
  {
   "cell_type": "code",
   "execution_count": null,
   "metadata": {},
   "outputs": [],
   "source": []
  }
 ],
 "metadata": {
  "kernelspec": {
   "display_name": "digrates",
   "language": "python",
   "name": "digrates"
  },
  "language_info": {
   "codemirror_mode": {
    "name": "ipython",
    "version": 3
   },
   "file_extension": ".py",
   "mimetype": "text/x-python",
   "name": "python",
   "nbconvert_exporter": "python",
   "pygments_lexer": "ipython3",
   "version": "3.7.12"
  }
 },
 "nbformat": 4,
 "nbformat_minor": 4
}
